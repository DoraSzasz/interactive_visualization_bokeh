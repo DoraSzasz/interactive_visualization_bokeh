{
 "cells": [
  {
   "cell_type": "markdown",
   "metadata": {},
   "source": [
    "> Created by Teodora Szasz, tszasz@uchicago.edu"
   ]
  },
  {
   "cell_type": "markdown",
   "metadata": {},
   "source": [
    "# <h1 align=\"center\">2. Visualize reported incidents of crime in Chicago </h1>"
   ]
  },
  {
   "cell_type": "code",
   "execution_count": 1,
   "metadata": {},
   "outputs": [
    {
     "ename": "RuntimeError",
     "evalue": "module compiled against API version 0xb but this version of numpy is 0xa",
     "output_type": "error",
     "traceback": [
      "\u001b[0;31m---------------------------------------------------------------------------\u001b[0m",
      "\u001b[0;31mRuntimeError\u001b[0m                              Traceback (most recent call last)",
      "\u001b[0;31mRuntimeError\u001b[0m: module compiled against API version 0xb but this version of numpy is 0xa"
     ]
    },
    {
     "ename": "RuntimeError",
     "evalue": "module compiled against API version 0xb but this version of numpy is 0xa",
     "output_type": "error",
     "traceback": [
      "\u001b[0;31m---------------------------------------------------------------------------\u001b[0m",
      "\u001b[0;31mRuntimeError\u001b[0m                              Traceback (most recent call last)",
      "\u001b[0;31mRuntimeError\u001b[0m: module compiled against API version 0xb but this version of numpy is 0xa"
     ]
    },
    {
     "ename": "RuntimeError",
     "evalue": "module compiled against API version 0xb but this version of numpy is 0xa",
     "output_type": "error",
     "traceback": [
      "\u001b[0;31m---------------------------------------------------------------------------\u001b[0m",
      "\u001b[0;31mRuntimeError\u001b[0m                              Traceback (most recent call last)",
      "\u001b[0;31mRuntimeError\u001b[0m: module compiled against API version 0xb but this version of numpy is 0xa"
     ]
    },
    {
     "ename": "RuntimeError",
     "evalue": "module compiled against API version 0xb but this version of numpy is 0xa",
     "output_type": "error",
     "traceback": [
      "\u001b[0;31m---------------------------------------------------------------------------\u001b[0m",
      "\u001b[0;31mRuntimeError\u001b[0m                              Traceback (most recent call last)",
      "\u001b[0;31mRuntimeError\u001b[0m: module compiled against API version 0xb but this version of numpy is 0xa"
     ]
    }
   ],
   "source": [
    "# import libraries\n",
    "import pandas as pd"
   ]
  },
  {
   "cell_type": "code",
   "execution_count": 2,
   "metadata": {},
   "outputs": [
    {
     "name": "stdout",
     "output_type": "stream",
     "text": [
      "RuntimeError: module compiled against API version 0xb but this version of numpy is 0xa\n",
      "RuntimeError: module compiled against API version 0xb but this version of numpy is 0xa\n",
      "RuntimeError: module compiled against API version 0xb but this version of numpy is 0xa\n",
      "RuntimeError: module compiled against API version 0xb but this version of numpy is 0xa\n",
      "0.12.5\n"
     ]
    }
   ],
   "source": [
    "!bokeh --version"
   ]
  },
  {
   "cell_type": "code",
   "execution_count": 3,
   "metadata": {},
   "outputs": [],
   "source": [
    "# import Bokeh libraries - 2nd phase\n",
    "from bokeh.charts import Bar\n",
    "from bokeh.io import output_file, show"
   ]
  },
  {
   "cell_type": "code",
   "execution_count": 4,
   "metadata": {
    "collapsed": true
   },
   "outputs": [],
   "source": [
    "# import ColumnDataSource from Bokeh - 3rd phase\n",
    "from bokeh.plotting import ColumnDataSource, figure"
   ]
  },
  {
   "cell_type": "code",
   "execution_count": 5,
   "metadata": {
    "collapsed": true
   },
   "outputs": [],
   "source": [
    "# create output file - 2nd phase\n",
    "output_file('crimes.html')"
   ]
  },
  {
   "cell_type": "code",
   "execution_count": 6,
   "metadata": {
    "collapsed": true
   },
   "outputs": [],
   "source": [
    "# locate the file\n",
    "file = '../Dataset/Crimes_-_2016_to_present.csv'"
   ]
  },
  {
   "cell_type": "code",
   "execution_count": 7,
   "metadata": {},
   "outputs": [],
   "source": [
    "# use pandas' read_csv() method\n",
    "crimes = pd.read_csv(file)"
   ]
  },
  {
   "cell_type": "code",
   "execution_count": 8,
   "metadata": {},
   "outputs": [],
   "source": [
    "# option to be able to see all the columns\n",
    "pd.set_option('display.max_columns', None)"
   ]
  },
  {
   "cell_type": "markdown",
   "metadata": {},
   "source": [
    "- `head()` method displays the first few lines (here, three) of the table"
   ]
  },
  {
   "cell_type": "code",
   "execution_count": 9,
   "metadata": {
    "scrolled": true
   },
   "outputs": [
    {
     "data": {
      "text/html": [
       "<div>\n",
       "<style>\n",
       "    .dataframe thead tr:only-child th {\n",
       "        text-align: right;\n",
       "    }\n",
       "\n",
       "    .dataframe thead th {\n",
       "        text-align: left;\n",
       "    }\n",
       "\n",
       "    .dataframe tbody tr th {\n",
       "        vertical-align: top;\n",
       "    }\n",
       "</style>\n",
       "<table border=\"1\" class=\"dataframe\">\n",
       "  <thead>\n",
       "    <tr style=\"text-align: right;\">\n",
       "      <th></th>\n",
       "      <th>ID</th>\n",
       "      <th>Case Number</th>\n",
       "      <th>Date</th>\n",
       "      <th>Block</th>\n",
       "      <th>IUCR</th>\n",
       "      <th>Primary Type</th>\n",
       "      <th>Description</th>\n",
       "      <th>Location Description</th>\n",
       "      <th>Arrest</th>\n",
       "      <th>Domestic</th>\n",
       "      <th>Beat</th>\n",
       "      <th>District</th>\n",
       "      <th>Ward</th>\n",
       "      <th>Community Area</th>\n",
       "      <th>FBI Code</th>\n",
       "      <th>X Coordinate</th>\n",
       "      <th>Y Coordinate</th>\n",
       "      <th>Year</th>\n",
       "      <th>Updated On</th>\n",
       "      <th>Latitude</th>\n",
       "      <th>Longitude</th>\n",
       "      <th>Location</th>\n",
       "    </tr>\n",
       "  </thead>\n",
       "  <tbody>\n",
       "    <tr>\n",
       "      <th>0</th>\n",
       "      <td>10842630</td>\n",
       "      <td>JA122203</td>\n",
       "      <td>01/19/2017 06:28:15 PM</td>\n",
       "      <td>059XX S ROCKWELL ST</td>\n",
       "      <td>2022</td>\n",
       "      <td>NARCOTICS</td>\n",
       "      <td>POSS: COCAINE</td>\n",
       "      <td>APARTMENT</td>\n",
       "      <td>True</td>\n",
       "      <td>False</td>\n",
       "      <td>824</td>\n",
       "      <td>8</td>\n",
       "      <td>16.0</td>\n",
       "      <td>66</td>\n",
       "      <td>18</td>\n",
       "      <td>NaN</td>\n",
       "      <td>NaN</td>\n",
       "      <td>2017</td>\n",
       "      <td>08/05/2017 03:50:08 PM</td>\n",
       "      <td>NaN</td>\n",
       "      <td>NaN</td>\n",
       "      <td>NaN</td>\n",
       "    </tr>\n",
       "    <tr>\n",
       "      <th>1</th>\n",
       "      <td>10842633</td>\n",
       "      <td>JA122240</td>\n",
       "      <td>01/19/2017 03:18:38 PM</td>\n",
       "      <td>006XX N ST LOUIS AVE</td>\n",
       "      <td>2024</td>\n",
       "      <td>NARCOTICS</td>\n",
       "      <td>POSS: HEROIN(WHITE)</td>\n",
       "      <td>APARTMENT</td>\n",
       "      <td>True</td>\n",
       "      <td>False</td>\n",
       "      <td>1121</td>\n",
       "      <td>11</td>\n",
       "      <td>27.0</td>\n",
       "      <td>23</td>\n",
       "      <td>18</td>\n",
       "      <td>NaN</td>\n",
       "      <td>NaN</td>\n",
       "      <td>2017</td>\n",
       "      <td>08/05/2017 03:50:08 PM</td>\n",
       "      <td>NaN</td>\n",
       "      <td>NaN</td>\n",
       "      <td>NaN</td>\n",
       "    </tr>\n",
       "    <tr>\n",
       "      <th>2</th>\n",
       "      <td>10842652</td>\n",
       "      <td>JA122480</td>\n",
       "      <td>01/20/2017 12:52:00 AM</td>\n",
       "      <td>025XX E 106TH ST</td>\n",
       "      <td>2024</td>\n",
       "      <td>NARCOTICS</td>\n",
       "      <td>POSS: HEROIN(WHITE)</td>\n",
       "      <td>RESIDENCE</td>\n",
       "      <td>True</td>\n",
       "      <td>False</td>\n",
       "      <td>434</td>\n",
       "      <td>4</td>\n",
       "      <td>10.0</td>\n",
       "      <td>51</td>\n",
       "      <td>18</td>\n",
       "      <td>NaN</td>\n",
       "      <td>NaN</td>\n",
       "      <td>2017</td>\n",
       "      <td>08/05/2017 03:50:08 PM</td>\n",
       "      <td>NaN</td>\n",
       "      <td>NaN</td>\n",
       "      <td>NaN</td>\n",
       "    </tr>\n",
       "    <tr>\n",
       "      <th>3</th>\n",
       "      <td>10885990</td>\n",
       "      <td>JA185288</td>\n",
       "      <td>03/13/2017 08:00:00 AM</td>\n",
       "      <td>033XX W FILLMORE ST</td>\n",
       "      <td>1812</td>\n",
       "      <td>NARCOTICS</td>\n",
       "      <td>POSS: CANNABIS MORE THAN 30GMS</td>\n",
       "      <td>POLICE FACILITY/VEH PARKING LOT</td>\n",
       "      <td>True</td>\n",
       "      <td>False</td>\n",
       "      <td>1134</td>\n",
       "      <td>11</td>\n",
       "      <td>24.0</td>\n",
       "      <td>29</td>\n",
       "      <td>18</td>\n",
       "      <td>NaN</td>\n",
       "      <td>NaN</td>\n",
       "      <td>2017</td>\n",
       "      <td>08/05/2017 03:50:08 PM</td>\n",
       "      <td>NaN</td>\n",
       "      <td>NaN</td>\n",
       "      <td>NaN</td>\n",
       "    </tr>\n",
       "    <tr>\n",
       "      <th>4</th>\n",
       "      <td>10886000</td>\n",
       "      <td>JA185322</td>\n",
       "      <td>03/13/2017 08:00:00 AM</td>\n",
       "      <td>033XX W FILLMORE ST</td>\n",
       "      <td>2024</td>\n",
       "      <td>NARCOTICS</td>\n",
       "      <td>POSS: HEROIN(WHITE)</td>\n",
       "      <td>POLICE FACILITY/VEH PARKING LOT</td>\n",
       "      <td>True</td>\n",
       "      <td>False</td>\n",
       "      <td>1134</td>\n",
       "      <td>11</td>\n",
       "      <td>24.0</td>\n",
       "      <td>29</td>\n",
       "      <td>18</td>\n",
       "      <td>NaN</td>\n",
       "      <td>NaN</td>\n",
       "      <td>2017</td>\n",
       "      <td>08/05/2017 03:50:08 PM</td>\n",
       "      <td>NaN</td>\n",
       "      <td>NaN</td>\n",
       "      <td>NaN</td>\n",
       "    </tr>\n",
       "  </tbody>\n",
       "</table>\n",
       "</div>"
      ],
      "text/plain": [
       "         ID Case Number                    Date                 Block  IUCR  \\\n",
       "0  10842630    JA122203  01/19/2017 06:28:15 PM   059XX S ROCKWELL ST  2022   \n",
       "1  10842633    JA122240  01/19/2017 03:18:38 PM  006XX N ST LOUIS AVE  2024   \n",
       "2  10842652    JA122480  01/20/2017 12:52:00 AM      025XX E 106TH ST  2024   \n",
       "3  10885990    JA185288  03/13/2017 08:00:00 AM   033XX W FILLMORE ST  1812   \n",
       "4  10886000    JA185322  03/13/2017 08:00:00 AM   033XX W FILLMORE ST  2024   \n",
       "\n",
       "  Primary Type                     Description  \\\n",
       "0    NARCOTICS                   POSS: COCAINE   \n",
       "1    NARCOTICS             POSS: HEROIN(WHITE)   \n",
       "2    NARCOTICS             POSS: HEROIN(WHITE)   \n",
       "3    NARCOTICS  POSS: CANNABIS MORE THAN 30GMS   \n",
       "4    NARCOTICS             POSS: HEROIN(WHITE)   \n",
       "\n",
       "              Location Description  Arrest  Domestic  Beat  District  Ward  \\\n",
       "0                        APARTMENT    True     False   824         8  16.0   \n",
       "1                        APARTMENT    True     False  1121        11  27.0   \n",
       "2                        RESIDENCE    True     False   434         4  10.0   \n",
       "3  POLICE FACILITY/VEH PARKING LOT    True     False  1134        11  24.0   \n",
       "4  POLICE FACILITY/VEH PARKING LOT    True     False  1134        11  24.0   \n",
       "\n",
       "   Community Area FBI Code  X Coordinate  Y Coordinate  Year  \\\n",
       "0              66       18           NaN           NaN  2017   \n",
       "1              23       18           NaN           NaN  2017   \n",
       "2              51       18           NaN           NaN  2017   \n",
       "3              29       18           NaN           NaN  2017   \n",
       "4              29       18           NaN           NaN  2017   \n",
       "\n",
       "               Updated On  Latitude  Longitude Location  \n",
       "0  08/05/2017 03:50:08 PM       NaN        NaN      NaN  \n",
       "1  08/05/2017 03:50:08 PM       NaN        NaN      NaN  \n",
       "2  08/05/2017 03:50:08 PM       NaN        NaN      NaN  \n",
       "3  08/05/2017 03:50:08 PM       NaN        NaN      NaN  \n",
       "4  08/05/2017 03:50:08 PM       NaN        NaN      NaN  "
      ]
     },
     "execution_count": 9,
     "metadata": {},
     "output_type": "execute_result"
    }
   ],
   "source": [
    "crimes.head(5)"
   ]
  },
  {
   "cell_type": "code",
   "execution_count": 10,
   "metadata": {
    "collapsed": true
   },
   "outputs": [],
   "source": [
    "# extract the District column - 2nd phase\n",
    "crimes_district = crimes[['District']]"
   ]
  },
  {
   "cell_type": "code",
   "execution_count": 11,
   "metadata": {},
   "outputs": [
    {
     "name": "stderr",
     "output_type": "stream",
     "text": [
      "/Users/rcc/anaconda3/lib/python3.5/site-packages/ipykernel/__main__.py:2: SettingWithCopyWarning: \n",
      "A value is trying to be set on a copy of a slice from a DataFrame.\n",
      "Try using .loc[row_indexer,col_indexer] = value instead\n",
      "\n",
      "See the caveats in the documentation: http://pandas.pydata.org/pandas-docs/stable/indexing.html#indexing-view-versus-copy\n",
      "  from ipykernel import kernelapp as app\n"
     ]
    }
   ],
   "source": [
    "# count the frequency of crimes per District - 2nd phase\n",
    "crimes_district['Frequency'] = crimes_district.groupby('District')['District'].transform('count')"
   ]
  },
  {
   "cell_type": "code",
   "execution_count": 12,
   "metadata": {},
   "outputs": [
    {
     "data": {
      "text/html": [
       "<div>\n",
       "<style>\n",
       "    .dataframe thead tr:only-child th {\n",
       "        text-align: right;\n",
       "    }\n",
       "\n",
       "    .dataframe thead th {\n",
       "        text-align: left;\n",
       "    }\n",
       "\n",
       "    .dataframe tbody tr th {\n",
       "        vertical-align: top;\n",
       "    }\n",
       "</style>\n",
       "<table border=\"1\" class=\"dataframe\">\n",
       "  <thead>\n",
       "    <tr style=\"text-align: right;\">\n",
       "      <th></th>\n",
       "      <th>District</th>\n",
       "      <th>Frequency</th>\n",
       "    </tr>\n",
       "  </thead>\n",
       "  <tbody>\n",
       "    <tr>\n",
       "      <th>0</th>\n",
       "      <td>8</td>\n",
       "      <td>16687</td>\n",
       "    </tr>\n",
       "    <tr>\n",
       "      <th>1</th>\n",
       "      <td>11</td>\n",
       "      <td>17937</td>\n",
       "    </tr>\n",
       "    <tr>\n",
       "      <th>2</th>\n",
       "      <td>4</td>\n",
       "      <td>14588</td>\n",
       "    </tr>\n",
       "    <tr>\n",
       "      <th>3</th>\n",
       "      <td>11</td>\n",
       "      <td>17937</td>\n",
       "    </tr>\n",
       "    <tr>\n",
       "      <th>4</th>\n",
       "      <td>11</td>\n",
       "      <td>17937</td>\n",
       "    </tr>\n",
       "    <tr>\n",
       "      <th>5</th>\n",
       "      <td>11</td>\n",
       "      <td>17937</td>\n",
       "    </tr>\n",
       "    <tr>\n",
       "      <th>6</th>\n",
       "      <td>11</td>\n",
       "      <td>17937</td>\n",
       "    </tr>\n",
       "    <tr>\n",
       "      <th>7</th>\n",
       "      <td>11</td>\n",
       "      <td>17937</td>\n",
       "    </tr>\n",
       "    <tr>\n",
       "      <th>8</th>\n",
       "      <td>11</td>\n",
       "      <td>17937</td>\n",
       "    </tr>\n",
       "    <tr>\n",
       "      <th>9</th>\n",
       "      <td>20</td>\n",
       "      <td>4408</td>\n",
       "    </tr>\n",
       "  </tbody>\n",
       "</table>\n",
       "</div>"
      ],
      "text/plain": [
       "   District  Frequency\n",
       "0         8      16687\n",
       "1        11      17937\n",
       "2         4      14588\n",
       "3        11      17937\n",
       "4        11      17937\n",
       "5        11      17937\n",
       "6        11      17937\n",
       "7        11      17937\n",
       "8        11      17937\n",
       "9        20       4408"
      ]
     },
     "execution_count": 12,
     "metadata": {},
     "output_type": "execute_result"
    }
   ],
   "source": [
    "crimes_district.head(10)"
   ]
  },
  {
   "cell_type": "code",
   "execution_count": 13,
   "metadata": {},
   "outputs": [],
   "source": [
    "# extract the unique values only of the Districts - 2nd phase\n",
    "crimes_district_unique = crimes_district.drop_duplicates('District')"
   ]
  },
  {
   "cell_type": "code",
   "execution_count": 14,
   "metadata": {},
   "outputs": [
    {
     "data": {
      "text/html": [
       "<div>\n",
       "<style>\n",
       "    .dataframe thead tr:only-child th {\n",
       "        text-align: right;\n",
       "    }\n",
       "\n",
       "    .dataframe thead th {\n",
       "        text-align: left;\n",
       "    }\n",
       "\n",
       "    .dataframe tbody tr th {\n",
       "        vertical-align: top;\n",
       "    }\n",
       "</style>\n",
       "<table border=\"1\" class=\"dataframe\">\n",
       "  <thead>\n",
       "    <tr style=\"text-align: right;\">\n",
       "      <th></th>\n",
       "      <th>District</th>\n",
       "      <th>Frequency</th>\n",
       "    </tr>\n",
       "  </thead>\n",
       "  <tbody>\n",
       "    <tr>\n",
       "      <th>0</th>\n",
       "      <td>8</td>\n",
       "      <td>16687</td>\n",
       "    </tr>\n",
       "    <tr>\n",
       "      <th>1</th>\n",
       "      <td>11</td>\n",
       "      <td>17937</td>\n",
       "    </tr>\n",
       "    <tr>\n",
       "      <th>2</th>\n",
       "      <td>4</td>\n",
       "      <td>14588</td>\n",
       "    </tr>\n",
       "    <tr>\n",
       "      <th>9</th>\n",
       "      <td>20</td>\n",
       "      <td>4408</td>\n",
       "    </tr>\n",
       "    <tr>\n",
       "      <th>10</th>\n",
       "      <td>24</td>\n",
       "      <td>7863</td>\n",
       "    </tr>\n",
       "    <tr>\n",
       "      <th>11</th>\n",
       "      <td>25</td>\n",
       "      <td>14217</td>\n",
       "    </tr>\n",
       "    <tr>\n",
       "      <th>13</th>\n",
       "      <td>16</td>\n",
       "      <td>8942</td>\n",
       "    </tr>\n",
       "    <tr>\n",
       "      <th>14</th>\n",
       "      <td>7</td>\n",
       "      <td>13627</td>\n",
       "    </tr>\n",
       "    <tr>\n",
       "      <th>16</th>\n",
       "      <td>2</td>\n",
       "      <td>11346</td>\n",
       "    </tr>\n",
       "    <tr>\n",
       "      <th>17</th>\n",
       "      <td>5</td>\n",
       "      <td>11800</td>\n",
       "    </tr>\n",
       "    <tr>\n",
       "      <th>24</th>\n",
       "      <td>15</td>\n",
       "      <td>10374</td>\n",
       "    </tr>\n",
       "    <tr>\n",
       "      <th>25</th>\n",
       "      <td>14</td>\n",
       "      <td>10319</td>\n",
       "    </tr>\n",
       "    <tr>\n",
       "      <th>26</th>\n",
       "      <td>3</td>\n",
       "      <td>12349</td>\n",
       "    </tr>\n",
       "    <tr>\n",
       "      <th>29</th>\n",
       "      <td>18</td>\n",
       "      <td>14253</td>\n",
       "    </tr>\n",
       "    <tr>\n",
       "      <th>30</th>\n",
       "      <td>19</td>\n",
       "      <td>12031</td>\n",
       "    </tr>\n",
       "    <tr>\n",
       "      <th>32</th>\n",
       "      <td>10</td>\n",
       "      <td>12404</td>\n",
       "    </tr>\n",
       "    <tr>\n",
       "      <th>46</th>\n",
       "      <td>1</td>\n",
       "      <td>14650</td>\n",
       "    </tr>\n",
       "    <tr>\n",
       "      <th>48</th>\n",
       "      <td>9</td>\n",
       "      <td>11766</td>\n",
       "    </tr>\n",
       "    <tr>\n",
       "      <th>55</th>\n",
       "      <td>12</td>\n",
       "      <td>13599</td>\n",
       "    </tr>\n",
       "    <tr>\n",
       "      <th>56</th>\n",
       "      <td>6</td>\n",
       "      <td>16492</td>\n",
       "    </tr>\n",
       "    <tr>\n",
       "      <th>76</th>\n",
       "      <td>22</td>\n",
       "      <td>8361</td>\n",
       "    </tr>\n",
       "    <tr>\n",
       "      <th>146</th>\n",
       "      <td>17</td>\n",
       "      <td>7738</td>\n",
       "    </tr>\n",
       "    <tr>\n",
       "      <th>72017</th>\n",
       "      <td>31</td>\n",
       "      <td>3</td>\n",
       "    </tr>\n",
       "  </tbody>\n",
       "</table>\n",
       "</div>"
      ],
      "text/plain": [
       "       District  Frequency\n",
       "0             8      16687\n",
       "1            11      17937\n",
       "2             4      14588\n",
       "9            20       4408\n",
       "10           24       7863\n",
       "11           25      14217\n",
       "13           16       8942\n",
       "14            7      13627\n",
       "16            2      11346\n",
       "17            5      11800\n",
       "24           15      10374\n",
       "25           14      10319\n",
       "26            3      12349\n",
       "29           18      14253\n",
       "30           19      12031\n",
       "32           10      12404\n",
       "46            1      14650\n",
       "48            9      11766\n",
       "55           12      13599\n",
       "56            6      16492\n",
       "76           22       8361\n",
       "146          17       7738\n",
       "72017        31          3"
      ]
     },
     "execution_count": 14,
     "metadata": {},
     "output_type": "execute_result"
    }
   ],
   "source": [
    "crimes_district_unique"
   ]
  },
  {
   "cell_type": "code",
   "execution_count": 15,
   "metadata": {},
   "outputs": [],
   "source": [
    "# plot the Bar chart of the frequency on the crimes in each District - 2nd phase\n",
    "bar_chart = Bar(crimes_district_unique, 'District', values='Frequency',\n",
    "               title ='Frequency of Crimes per District', legend = False)"
   ]
  },
  {
   "cell_type": "code",
   "execution_count": 16,
   "metadata": {},
   "outputs": [
    {
     "name": "stderr",
     "output_type": "stream",
     "text": [
      "/Users/rcc/anaconda3/lib/python3.5/site-packages/bokeh/core/json_encoder.py:73: FutureWarning: pandas.tslib is deprecated and will be removed in a future version.\n",
      "You can access Timestamp as pandas.Timestamp\n",
      "  if pd and isinstance(obj, pd.tslib.Timestamp):\n"
     ]
    }
   ],
   "source": [
    "# plot the Bar chart of the frequency on the crimes in each District - 2nd phase\n",
    "show(bar_chart)"
   ]
  },
  {
   "cell_type": "code",
   "execution_count": null,
   "metadata": {
    "collapsed": true
   },
   "outputs": [],
   "source": []
  }
 ],
 "metadata": {
  "anaconda-cloud": {},
  "kernelspec": {
   "display_name": "Python [conda root]",
   "language": "python",
   "name": "conda-root-py"
  },
  "language_info": {
   "codemirror_mode": {
    "name": "ipython",
    "version": 3
   },
   "file_extension": ".py",
   "mimetype": "text/x-python",
   "name": "python",
   "nbconvert_exporter": "python",
   "pygments_lexer": "ipython3",
   "version": "3.5.3"
  }
 },
 "nbformat": 4,
 "nbformat_minor": 2
}
