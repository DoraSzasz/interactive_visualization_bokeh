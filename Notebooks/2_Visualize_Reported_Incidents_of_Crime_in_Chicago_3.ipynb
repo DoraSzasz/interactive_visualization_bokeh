{
 "cells": [
  {
   "cell_type": "markdown",
   "metadata": {},
   "source": [
    "> Created by Teodora Szasz, tszasz@uchicago.edu"
   ]
  },
  {
   "cell_type": "markdown",
   "metadata": {},
   "source": [
    "# <h1 align=\"center\">2. Visualize reported incidents of crime in Chicago (3) </h1>"
   ]
  },
  {
   "cell_type": "code",
   "execution_count": 1,
   "metadata": {
    "collapsed": true
   },
   "outputs": [],
   "source": [
    "# import libraries\n",
    "import pandas as pd\n",
    "import numpy as np"
   ]
  },
  {
   "cell_type": "code",
   "execution_count": 2,
   "metadata": {
    "collapsed": true
   },
   "outputs": [],
   "source": [
    "# import Bokeh libraries\n",
    "from bokeh.io import output_file, show\n",
    "from bokeh.plotting import figure, ColumnDataSource\n",
    "\n",
    "# import ColumnDataSource from Bokeh\n",
    "from bokeh.models import Circle"
   ]
  },
  {
   "cell_type": "code",
   "execution_count": 3,
   "metadata": {
    "collapsed": true
   },
   "outputs": [],
   "source": [
    "from bokeh.transform import factor_cmap\n",
    "from bokeh.palettes import Category20b"
   ]
  },
  {
   "cell_type": "code",
   "execution_count": 4,
   "metadata": {
    "collapsed": true
   },
   "outputs": [],
   "source": [
    "# categorical color mapper - 3rd phase\n",
    "from bokeh.models import HoverTool"
   ]
  },
  {
   "cell_type": "code",
   "execution_count": 5,
   "metadata": {
    "collapsed": true
   },
   "outputs": [],
   "source": [
    "# create output file\n",
    "output_file('crimes_categorical.html')"
   ]
  },
  {
   "cell_type": "code",
   "execution_count": 6,
   "metadata": {
    "collapsed": true
   },
   "outputs": [],
   "source": [
    "# locate the file\n",
    "file = '../Dataset/Crimes_-_2016_to_present.csv'"
   ]
  },
  {
   "cell_type": "code",
   "execution_count": 7,
   "metadata": {
    "collapsed": true
   },
   "outputs": [],
   "source": [
    "# use pandas' read_csv() method\n",
    "crimes = pd.read_csv(file)"
   ]
  },
  {
   "cell_type": "code",
   "execution_count": 8,
   "metadata": {
    "collapsed": true
   },
   "outputs": [],
   "source": [
    "# option to be able to see all the columns\n",
    "pd.set_option('display.max_columns', None)"
   ]
  },
  {
   "cell_type": "code",
   "execution_count": 9,
   "metadata": {},
   "outputs": [
    {
     "data": {
      "text/html": [
       "<div>\n",
       "<style>\n",
       "    .dataframe thead tr:only-child th {\n",
       "        text-align: right;\n",
       "    }\n",
       "\n",
       "    .dataframe thead th {\n",
       "        text-align: left;\n",
       "    }\n",
       "\n",
       "    .dataframe tbody tr th {\n",
       "        vertical-align: top;\n",
       "    }\n",
       "</style>\n",
       "<table border=\"1\" class=\"dataframe\">\n",
       "  <thead>\n",
       "    <tr style=\"text-align: right;\">\n",
       "      <th></th>\n",
       "      <th>ID</th>\n",
       "      <th>Case Number</th>\n",
       "      <th>Date</th>\n",
       "      <th>Block</th>\n",
       "      <th>IUCR</th>\n",
       "      <th>Primary Type</th>\n",
       "      <th>Description</th>\n",
       "      <th>Location Description</th>\n",
       "      <th>Arrest</th>\n",
       "      <th>Domestic</th>\n",
       "      <th>Beat</th>\n",
       "      <th>District</th>\n",
       "      <th>Ward</th>\n",
       "      <th>Community Area</th>\n",
       "      <th>FBI Code</th>\n",
       "      <th>X Coordinate</th>\n",
       "      <th>Y Coordinate</th>\n",
       "      <th>Year</th>\n",
       "      <th>Updated On</th>\n",
       "      <th>Latitude</th>\n",
       "      <th>Longitude</th>\n",
       "      <th>Location</th>\n",
       "    </tr>\n",
       "  </thead>\n",
       "  <tbody>\n",
       "    <tr>\n",
       "      <th>0</th>\n",
       "      <td>10842630</td>\n",
       "      <td>JA122203</td>\n",
       "      <td>01/19/2017 06:28:15 PM</td>\n",
       "      <td>059XX S ROCKWELL ST</td>\n",
       "      <td>2022</td>\n",
       "      <td>NARCOTICS</td>\n",
       "      <td>POSS: COCAINE</td>\n",
       "      <td>APARTMENT</td>\n",
       "      <td>True</td>\n",
       "      <td>False</td>\n",
       "      <td>824</td>\n",
       "      <td>8</td>\n",
       "      <td>16.0</td>\n",
       "      <td>66</td>\n",
       "      <td>18</td>\n",
       "      <td>NaN</td>\n",
       "      <td>NaN</td>\n",
       "      <td>2017</td>\n",
       "      <td>08/05/2017 03:50:08 PM</td>\n",
       "      <td>NaN</td>\n",
       "      <td>NaN</td>\n",
       "      <td>NaN</td>\n",
       "    </tr>\n",
       "    <tr>\n",
       "      <th>1</th>\n",
       "      <td>10842633</td>\n",
       "      <td>JA122240</td>\n",
       "      <td>01/19/2017 03:18:38 PM</td>\n",
       "      <td>006XX N ST LOUIS AVE</td>\n",
       "      <td>2024</td>\n",
       "      <td>NARCOTICS</td>\n",
       "      <td>POSS: HEROIN(WHITE)</td>\n",
       "      <td>APARTMENT</td>\n",
       "      <td>True</td>\n",
       "      <td>False</td>\n",
       "      <td>1121</td>\n",
       "      <td>11</td>\n",
       "      <td>27.0</td>\n",
       "      <td>23</td>\n",
       "      <td>18</td>\n",
       "      <td>NaN</td>\n",
       "      <td>NaN</td>\n",
       "      <td>2017</td>\n",
       "      <td>08/05/2017 03:50:08 PM</td>\n",
       "      <td>NaN</td>\n",
       "      <td>NaN</td>\n",
       "      <td>NaN</td>\n",
       "    </tr>\n",
       "    <tr>\n",
       "      <th>2</th>\n",
       "      <td>10842652</td>\n",
       "      <td>JA122480</td>\n",
       "      <td>01/20/2017 12:52:00 AM</td>\n",
       "      <td>025XX E 106TH ST</td>\n",
       "      <td>2024</td>\n",
       "      <td>NARCOTICS</td>\n",
       "      <td>POSS: HEROIN(WHITE)</td>\n",
       "      <td>RESIDENCE</td>\n",
       "      <td>True</td>\n",
       "      <td>False</td>\n",
       "      <td>434</td>\n",
       "      <td>4</td>\n",
       "      <td>10.0</td>\n",
       "      <td>51</td>\n",
       "      <td>18</td>\n",
       "      <td>NaN</td>\n",
       "      <td>NaN</td>\n",
       "      <td>2017</td>\n",
       "      <td>08/05/2017 03:50:08 PM</td>\n",
       "      <td>NaN</td>\n",
       "      <td>NaN</td>\n",
       "      <td>NaN</td>\n",
       "    </tr>\n",
       "    <tr>\n",
       "      <th>3</th>\n",
       "      <td>10885990</td>\n",
       "      <td>JA185288</td>\n",
       "      <td>03/13/2017 08:00:00 AM</td>\n",
       "      <td>033XX W FILLMORE ST</td>\n",
       "      <td>1812</td>\n",
       "      <td>NARCOTICS</td>\n",
       "      <td>POSS: CANNABIS MORE THAN 30GMS</td>\n",
       "      <td>POLICE FACILITY/VEH PARKING LOT</td>\n",
       "      <td>True</td>\n",
       "      <td>False</td>\n",
       "      <td>1134</td>\n",
       "      <td>11</td>\n",
       "      <td>24.0</td>\n",
       "      <td>29</td>\n",
       "      <td>18</td>\n",
       "      <td>NaN</td>\n",
       "      <td>NaN</td>\n",
       "      <td>2017</td>\n",
       "      <td>08/05/2017 03:50:08 PM</td>\n",
       "      <td>NaN</td>\n",
       "      <td>NaN</td>\n",
       "      <td>NaN</td>\n",
       "    </tr>\n",
       "    <tr>\n",
       "      <th>4</th>\n",
       "      <td>10886000</td>\n",
       "      <td>JA185322</td>\n",
       "      <td>03/13/2017 08:00:00 AM</td>\n",
       "      <td>033XX W FILLMORE ST</td>\n",
       "      <td>2024</td>\n",
       "      <td>NARCOTICS</td>\n",
       "      <td>POSS: HEROIN(WHITE)</td>\n",
       "      <td>POLICE FACILITY/VEH PARKING LOT</td>\n",
       "      <td>True</td>\n",
       "      <td>False</td>\n",
       "      <td>1134</td>\n",
       "      <td>11</td>\n",
       "      <td>24.0</td>\n",
       "      <td>29</td>\n",
       "      <td>18</td>\n",
       "      <td>NaN</td>\n",
       "      <td>NaN</td>\n",
       "      <td>2017</td>\n",
       "      <td>08/05/2017 03:50:08 PM</td>\n",
       "      <td>NaN</td>\n",
       "      <td>NaN</td>\n",
       "      <td>NaN</td>\n",
       "    </tr>\n",
       "  </tbody>\n",
       "</table>\n",
       "</div>"
      ],
      "text/plain": [
       "         ID Case Number                    Date                 Block  IUCR  \\\n",
       "0  10842630    JA122203  01/19/2017 06:28:15 PM   059XX S ROCKWELL ST  2022   \n",
       "1  10842633    JA122240  01/19/2017 03:18:38 PM  006XX N ST LOUIS AVE  2024   \n",
       "2  10842652    JA122480  01/20/2017 12:52:00 AM      025XX E 106TH ST  2024   \n",
       "3  10885990    JA185288  03/13/2017 08:00:00 AM   033XX W FILLMORE ST  1812   \n",
       "4  10886000    JA185322  03/13/2017 08:00:00 AM   033XX W FILLMORE ST  2024   \n",
       "\n",
       "  Primary Type                     Description  \\\n",
       "0    NARCOTICS                   POSS: COCAINE   \n",
       "1    NARCOTICS             POSS: HEROIN(WHITE)   \n",
       "2    NARCOTICS             POSS: HEROIN(WHITE)   \n",
       "3    NARCOTICS  POSS: CANNABIS MORE THAN 30GMS   \n",
       "4    NARCOTICS             POSS: HEROIN(WHITE)   \n",
       "\n",
       "              Location Description  Arrest  Domestic  Beat  District  Ward  \\\n",
       "0                        APARTMENT    True     False   824         8  16.0   \n",
       "1                        APARTMENT    True     False  1121        11  27.0   \n",
       "2                        RESIDENCE    True     False   434         4  10.0   \n",
       "3  POLICE FACILITY/VEH PARKING LOT    True     False  1134        11  24.0   \n",
       "4  POLICE FACILITY/VEH PARKING LOT    True     False  1134        11  24.0   \n",
       "\n",
       "   Community Area FBI Code  X Coordinate  Y Coordinate  Year  \\\n",
       "0              66       18           NaN           NaN  2017   \n",
       "1              23       18           NaN           NaN  2017   \n",
       "2              51       18           NaN           NaN  2017   \n",
       "3              29       18           NaN           NaN  2017   \n",
       "4              29       18           NaN           NaN  2017   \n",
       "\n",
       "               Updated On  Latitude  Longitude Location  \n",
       "0  08/05/2017 03:50:08 PM       NaN        NaN      NaN  \n",
       "1  08/05/2017 03:50:08 PM       NaN        NaN      NaN  \n",
       "2  08/05/2017 03:50:08 PM       NaN        NaN      NaN  \n",
       "3  08/05/2017 03:50:08 PM       NaN        NaN      NaN  \n",
       "4  08/05/2017 03:50:08 PM       NaN        NaN      NaN  "
      ]
     },
     "execution_count": 9,
     "metadata": {},
     "output_type": "execute_result"
    }
   ],
   "source": [
    "crimes.head(5)"
   ]
  },
  {
   "cell_type": "code",
   "execution_count": 10,
   "metadata": {
    "collapsed": true
   },
   "outputs": [],
   "source": [
    "# extract the District and Arrest columns\n",
    "crimes_all = crimes[['District', 'Arrest']]"
   ]
  },
  {
   "cell_type": "code",
   "execution_count": 11,
   "metadata": {
    "collapsed": true
   },
   "outputs": [],
   "source": [
    "# extract only the dataset with arrests\n",
    "c_d_arrest = crimes_all.loc[crimes_all['Arrest'] == True]"
   ]
  },
  {
   "cell_type": "code",
   "execution_count": 12,
   "metadata": {
    "collapsed": true
   },
   "outputs": [],
   "source": [
    "# extract only the dataset with arrests\n",
    "c_d_non_arrest = crimes_all.loc[crimes_all['Arrest'] == False]"
   ]
  },
  {
   "cell_type": "code",
   "execution_count": 13,
   "metadata": {},
   "outputs": [
    {
     "name": "stderr",
     "output_type": "stream",
     "text": [
      "/Users/rcc/anaconda3/lib/python3.5/site-packages/ipykernel/__main__.py:2: SettingWithCopyWarning: \n",
      "A value is trying to be set on a copy of a slice from a DataFrame.\n",
      "Try using .loc[row_indexer,col_indexer] = value instead\n",
      "\n",
      "See the caveats in the documentation: http://pandas.pydata.org/pandas-docs/stable/indexing.html#indexing-view-versus-copy\n",
      "  from ipykernel import kernelapp as app\n"
     ]
    }
   ],
   "source": [
    "# as we did in previous example, count the number of arrests per district and remove the duplicates\n",
    "c_d_arrest['Frequency_arrest'] = c_d_arrest.groupby('District')['District'].transform('count')\n",
    "c_d_arrest_district = c_d_arrest.drop_duplicates('District')"
   ]
  },
  {
   "cell_type": "code",
   "execution_count": 14,
   "metadata": {},
   "outputs": [
    {
     "name": "stderr",
     "output_type": "stream",
     "text": [
      "/Users/rcc/anaconda3/lib/python3.5/site-packages/ipykernel/__main__.py:2: SettingWithCopyWarning: \n",
      "A value is trying to be set on a copy of a slice from a DataFrame.\n",
      "Try using .loc[row_indexer,col_indexer] = value instead\n",
      "\n",
      "See the caveats in the documentation: http://pandas.pydata.org/pandas-docs/stable/indexing.html#indexing-view-versus-copy\n",
      "  from ipykernel import kernelapp as app\n"
     ]
    }
   ],
   "source": [
    "# as we did in previous example, count the number of arrests per district and remove the duplicates\n",
    "c_d_non_arrest['Frequency_non_arrest'] = c_d_non_arrest.groupby('District')['District'].transform('count')\n",
    "c_d_non_arrest_district = c_d_non_arrest.drop_duplicates('District')"
   ]
  },
  {
   "cell_type": "code",
   "execution_count": 15,
   "metadata": {
    "collapsed": true
   },
   "outputs": [],
   "source": [
    "c_d_all=pd.merge(c_d_arrest_district, c_d_non_arrest_district, on='District')"
   ]
  },
  {
   "cell_type": "code",
   "execution_count": 16,
   "metadata": {},
   "outputs": [
    {
     "data": {
      "text/html": [
       "<div>\n",
       "<style>\n",
       "    .dataframe thead tr:only-child th {\n",
       "        text-align: right;\n",
       "    }\n",
       "\n",
       "    .dataframe thead th {\n",
       "        text-align: left;\n",
       "    }\n",
       "\n",
       "    .dataframe tbody tr th {\n",
       "        vertical-align: top;\n",
       "    }\n",
       "</style>\n",
       "<table border=\"1\" class=\"dataframe\">\n",
       "  <thead>\n",
       "    <tr style=\"text-align: right;\">\n",
       "      <th></th>\n",
       "      <th>District</th>\n",
       "      <th>Arrest_x</th>\n",
       "      <th>Frequency_arrest</th>\n",
       "      <th>Arrest_y</th>\n",
       "      <th>Frequency_non_arrest</th>\n",
       "    </tr>\n",
       "  </thead>\n",
       "  <tbody>\n",
       "    <tr>\n",
       "      <th>0</th>\n",
       "      <td>8</td>\n",
       "      <td>True</td>\n",
       "      <td>2532</td>\n",
       "      <td>False</td>\n",
       "      <td>14155</td>\n",
       "    </tr>\n",
       "    <tr>\n",
       "      <th>1</th>\n",
       "      <td>11</td>\n",
       "      <td>True</td>\n",
       "      <td>6317</td>\n",
       "      <td>False</td>\n",
       "      <td>11620</td>\n",
       "    </tr>\n",
       "    <tr>\n",
       "      <th>2</th>\n",
       "      <td>4</td>\n",
       "      <td>True</td>\n",
       "      <td>2778</td>\n",
       "      <td>False</td>\n",
       "      <td>11810</td>\n",
       "    </tr>\n",
       "    <tr>\n",
       "      <th>3</th>\n",
       "      <td>16</td>\n",
       "      <td>True</td>\n",
       "      <td>1390</td>\n",
       "      <td>False</td>\n",
       "      <td>7552</td>\n",
       "    </tr>\n",
       "    <tr>\n",
       "      <th>4</th>\n",
       "      <td>3</td>\n",
       "      <td>True</td>\n",
       "      <td>2167</td>\n",
       "      <td>False</td>\n",
       "      <td>10182</td>\n",
       "    </tr>\n",
       "    <tr>\n",
       "      <th>5</th>\n",
       "      <td>5</td>\n",
       "      <td>True</td>\n",
       "      <td>2926</td>\n",
       "      <td>False</td>\n",
       "      <td>8874</td>\n",
       "    </tr>\n",
       "    <tr>\n",
       "      <th>6</th>\n",
       "      <td>2</td>\n",
       "      <td>True</td>\n",
       "      <td>1643</td>\n",
       "      <td>False</td>\n",
       "      <td>9703</td>\n",
       "    </tr>\n",
       "    <tr>\n",
       "      <th>7</th>\n",
       "      <td>7</td>\n",
       "      <td>True</td>\n",
       "      <td>3404</td>\n",
       "      <td>False</td>\n",
       "      <td>10223</td>\n",
       "    </tr>\n",
       "    <tr>\n",
       "      <th>8</th>\n",
       "      <td>18</td>\n",
       "      <td>True</td>\n",
       "      <td>2149</td>\n",
       "      <td>False</td>\n",
       "      <td>12104</td>\n",
       "    </tr>\n",
       "    <tr>\n",
       "      <th>9</th>\n",
       "      <td>19</td>\n",
       "      <td>True</td>\n",
       "      <td>1665</td>\n",
       "      <td>False</td>\n",
       "      <td>10366</td>\n",
       "    </tr>\n",
       "    <tr>\n",
       "      <th>10</th>\n",
       "      <td>6</td>\n",
       "      <td>True</td>\n",
       "      <td>3685</td>\n",
       "      <td>False</td>\n",
       "      <td>12807</td>\n",
       "    </tr>\n",
       "    <tr>\n",
       "      <th>11</th>\n",
       "      <td>10</td>\n",
       "      <td>True</td>\n",
       "      <td>3266</td>\n",
       "      <td>False</td>\n",
       "      <td>9138</td>\n",
       "    </tr>\n",
       "    <tr>\n",
       "      <th>12</th>\n",
       "      <td>9</td>\n",
       "      <td>True</td>\n",
       "      <td>2335</td>\n",
       "      <td>False</td>\n",
       "      <td>9431</td>\n",
       "    </tr>\n",
       "    <tr>\n",
       "      <th>13</th>\n",
       "      <td>25</td>\n",
       "      <td>True</td>\n",
       "      <td>2504</td>\n",
       "      <td>False</td>\n",
       "      <td>11713</td>\n",
       "    </tr>\n",
       "    <tr>\n",
       "      <th>14</th>\n",
       "      <td>20</td>\n",
       "      <td>True</td>\n",
       "      <td>721</td>\n",
       "      <td>False</td>\n",
       "      <td>3687</td>\n",
       "    </tr>\n",
       "    <tr>\n",
       "      <th>15</th>\n",
       "      <td>1</td>\n",
       "      <td>True</td>\n",
       "      <td>2396</td>\n",
       "      <td>False</td>\n",
       "      <td>12254</td>\n",
       "    </tr>\n",
       "    <tr>\n",
       "      <th>16</th>\n",
       "      <td>24</td>\n",
       "      <td>True</td>\n",
       "      <td>1050</td>\n",
       "      <td>False</td>\n",
       "      <td>6813</td>\n",
       "    </tr>\n",
       "    <tr>\n",
       "      <th>17</th>\n",
       "      <td>22</td>\n",
       "      <td>True</td>\n",
       "      <td>1291</td>\n",
       "      <td>False</td>\n",
       "      <td>7070</td>\n",
       "    </tr>\n",
       "    <tr>\n",
       "      <th>18</th>\n",
       "      <td>15</td>\n",
       "      <td>True</td>\n",
       "      <td>2509</td>\n",
       "      <td>False</td>\n",
       "      <td>7865</td>\n",
       "    </tr>\n",
       "    <tr>\n",
       "      <th>19</th>\n",
       "      <td>14</td>\n",
       "      <td>True</td>\n",
       "      <td>1157</td>\n",
       "      <td>False</td>\n",
       "      <td>9162</td>\n",
       "    </tr>\n",
       "    <tr>\n",
       "      <th>20</th>\n",
       "      <td>12</td>\n",
       "      <td>True</td>\n",
       "      <td>1534</td>\n",
       "      <td>False</td>\n",
       "      <td>12065</td>\n",
       "    </tr>\n",
       "    <tr>\n",
       "      <th>21</th>\n",
       "      <td>17</td>\n",
       "      <td>True</td>\n",
       "      <td>899</td>\n",
       "      <td>False</td>\n",
       "      <td>6839</td>\n",
       "    </tr>\n",
       "  </tbody>\n",
       "</table>\n",
       "</div>"
      ],
      "text/plain": [
       "    District  Arrest_x  Frequency_arrest  Arrest_y  Frequency_non_arrest\n",
       "0          8      True              2532     False                 14155\n",
       "1         11      True              6317     False                 11620\n",
       "2          4      True              2778     False                 11810\n",
       "3         16      True              1390     False                  7552\n",
       "4          3      True              2167     False                 10182\n",
       "5          5      True              2926     False                  8874\n",
       "6          2      True              1643     False                  9703\n",
       "7          7      True              3404     False                 10223\n",
       "8         18      True              2149     False                 12104\n",
       "9         19      True              1665     False                 10366\n",
       "10         6      True              3685     False                 12807\n",
       "11        10      True              3266     False                  9138\n",
       "12         9      True              2335     False                  9431\n",
       "13        25      True              2504     False                 11713\n",
       "14        20      True               721     False                  3687\n",
       "15         1      True              2396     False                 12254\n",
       "16        24      True              1050     False                  6813\n",
       "17        22      True              1291     False                  7070\n",
       "18        15      True              2509     False                  7865\n",
       "19        14      True              1157     False                  9162\n",
       "20        12      True              1534     False                 12065\n",
       "21        17      True               899     False                  6839"
      ]
     },
     "execution_count": 16,
     "metadata": {},
     "output_type": "execute_result"
    }
   ],
   "source": [
    "c_d_all"
   ]
  },
  {
   "cell_type": "code",
   "execution_count": 17,
   "metadata": {
    "collapsed": true
   },
   "outputs": [],
   "source": [
    "districts=list(set(c_d_all['District']))"
   ]
  },
  {
   "cell_type": "code",
   "execution_count": 18,
   "metadata": {
    "collapsed": true
   },
   "outputs": [],
   "source": [
    "districts_str=[str(i) for i in districts]"
   ]
  },
  {
   "cell_type": "code",
   "execution_count": 19,
   "metadata": {
    "collapsed": true
   },
   "outputs": [],
   "source": [
    "c_d_all_data = ColumnDataSource(\n",
    "    data=dict(\n",
    "        freq_arrests = list(c_d_all['Frequency_arrest']),\n",
    "        freq_non_arrests = list(c_d_all['Frequency_non_arrest']),\n",
    "        districts=districts_str))"
   ]
  },
  {
   "cell_type": "code",
   "execution_count": 20,
   "metadata": {
    "collapsed": true
   },
   "outputs": [],
   "source": [
    "# create a figure object\n",
    "#plot = figure(x_axis_label='Frequency_arrest', y_axis_label='Frequency_non_arrest')"
   ]
  },
  {
   "cell_type": "code",
   "execution_count": 21,
   "metadata": {
    "collapsed": true
   },
   "outputs": [],
   "source": [
    "# create a figure object with 'tools' parameter defined - 2nd phase\n",
    "plot = figure(x_axis_label='Number of Arrested Crimes', y_axis_label='Number of Non-Arrested Crimes', \n",
    "             tools = 'pan, wheel_zoom, box_zoom, reset, save',\n",
    "              title = 'Arested versus Non-Arested Crimes in Chicago')"
   ]
  },
  {
   "cell_type": "code",
   "execution_count": 22,
   "metadata": {
    "collapsed": true
   },
   "outputs": [],
   "source": [
    "#generate some random colors for each district\n",
    "N = len(districts)\n",
    "x = np.random.random(size=N) * 100\n",
    "y = np.random.random(size=N) * 100\n",
    "z = np.random.random(size=N) * 100\n",
    "colors = [\n",
    "    \"#%02x%02x%02x\" % (int(r), int(g), int(b)) for r, g, b in zip(50+2*x, 30+2*y, 10+2*z)\n",
    "]"
   ]
  },
  {
   "cell_type": "code",
   "execution_count": 23,
   "metadata": {},
   "outputs": [
    {
     "data": {
      "text/plain": [
       "['#ea4a1c',\n",
       " '#503344',\n",
       " '#f2db3e',\n",
       " '#3cd220',\n",
       " '#e76b29',\n",
       " '#e17615',\n",
       " '#adc2ad',\n",
       " '#9dc022',\n",
       " '#9c6491',\n",
       " '#cde214',\n",
       " '#52428f',\n",
       " '#4a5d52',\n",
       " '#9f9e3f',\n",
       " '#43af46',\n",
       " '#43a5b1',\n",
       " '#e3d134',\n",
       " '#5b9e27',\n",
       " '#a14768',\n",
       " '#762412',\n",
       " '#61d75b',\n",
       " '#cda051',\n",
       " '#d032bd']"
      ]
     },
     "execution_count": 23,
     "metadata": {},
     "output_type": "execute_result"
    }
   ],
   "source": [
    "colors"
   ]
  },
  {
   "cell_type": "markdown",
   "metadata": {},
   "source": [
    "http://bokeh.pydata.org/en/latest/docs/reference/models/markers.html"
   ]
  },
  {
   "cell_type": "code",
   "execution_count": 24,
   "metadata": {
    "collapsed": true
   },
   "outputs": [],
   "source": [
    "circle=Circle(x=\"freq_arrests\", y=\"freq_non_arrests\", size=20, \n",
    "              fill_color=factor_cmap('districts', palette=colors, factors=districts_str), fill_alpha=0.5)"
   ]
  },
  {
   "cell_type": "code",
   "execution_count": 25,
   "metadata": {},
   "outputs": [
    {
     "data": {
      "text/html": [
       "<div style=\"display: table;\"><div style=\"display: table-row;\"><div style=\"display: table-cell;\"><b title=\"bokeh.models.renderers.GlyphRenderer\">GlyphRenderer</b>(</div><div style=\"display: table-cell;\">id&nbsp;=&nbsp;'2ceb1848-28d1-452d-b501-4bef65cd4d5b', <span id=\"167ede77-2747-43cd-ba94-7ae224c7fb31\" style=\"cursor: pointer;\">&hellip;)</span></div></div><div class=\"45e74446-661d-4e37-a9e2-827ded5c9d34\" style=\"display: none;\"><div style=\"display: table-cell;\"></div><div style=\"display: table-cell;\">data_source&nbsp;=&nbsp;ColumnDataSource(id='b514f7da-67eb-4bfe-9f2b-74f6ba9a4c75', ...),</div></div><div class=\"45e74446-661d-4e37-a9e2-827ded5c9d34\" style=\"display: none;\"><div style=\"display: table-cell;\"></div><div style=\"display: table-cell;\">glyph&nbsp;=&nbsp;Circle(id='0baf3d61-302e-41c2-8cf4-097b5e3276f9', ...),</div></div><div class=\"45e74446-661d-4e37-a9e2-827ded5c9d34\" style=\"display: none;\"><div style=\"display: table-cell;\"></div><div style=\"display: table-cell;\">hover_glyph&nbsp;=&nbsp;None,</div></div><div class=\"45e74446-661d-4e37-a9e2-827ded5c9d34\" style=\"display: none;\"><div style=\"display: table-cell;\"></div><div style=\"display: table-cell;\">js_event_callbacks&nbsp;=&nbsp;{},</div></div><div class=\"45e74446-661d-4e37-a9e2-827ded5c9d34\" style=\"display: none;\"><div style=\"display: table-cell;\"></div><div style=\"display: table-cell;\">js_property_callbacks&nbsp;=&nbsp;{},</div></div><div class=\"45e74446-661d-4e37-a9e2-827ded5c9d34\" style=\"display: none;\"><div style=\"display: table-cell;\"></div><div style=\"display: table-cell;\">level&nbsp;=&nbsp;'glyph',</div></div><div class=\"45e74446-661d-4e37-a9e2-827ded5c9d34\" style=\"display: none;\"><div style=\"display: table-cell;\"></div><div style=\"display: table-cell;\">muted&nbsp;=&nbsp;False,</div></div><div class=\"45e74446-661d-4e37-a9e2-827ded5c9d34\" style=\"display: none;\"><div style=\"display: table-cell;\"></div><div style=\"display: table-cell;\">muted_glyph&nbsp;=&nbsp;None,</div></div><div class=\"45e74446-661d-4e37-a9e2-827ded5c9d34\" style=\"display: none;\"><div style=\"display: table-cell;\"></div><div style=\"display: table-cell;\">name&nbsp;=&nbsp;None,</div></div><div class=\"45e74446-661d-4e37-a9e2-827ded5c9d34\" style=\"display: none;\"><div style=\"display: table-cell;\"></div><div style=\"display: table-cell;\">nonselection_glyph&nbsp;=&nbsp;'auto',</div></div><div class=\"45e74446-661d-4e37-a9e2-827ded5c9d34\" style=\"display: none;\"><div style=\"display: table-cell;\"></div><div style=\"display: table-cell;\">selection_glyph&nbsp;=&nbsp;'auto',</div></div><div class=\"45e74446-661d-4e37-a9e2-827ded5c9d34\" style=\"display: none;\"><div style=\"display: table-cell;\"></div><div style=\"display: table-cell;\">subscribed_events&nbsp;=&nbsp;[],</div></div><div class=\"45e74446-661d-4e37-a9e2-827ded5c9d34\" style=\"display: none;\"><div style=\"display: table-cell;\"></div><div style=\"display: table-cell;\">tags&nbsp;=&nbsp;[],</div></div><div class=\"45e74446-661d-4e37-a9e2-827ded5c9d34\" style=\"display: none;\"><div style=\"display: table-cell;\"></div><div style=\"display: table-cell;\">view&nbsp;=&nbsp;CDSView(id='56838113-29ff-4f19-a262-cbc61467763b', ...),</div></div><div class=\"45e74446-661d-4e37-a9e2-827ded5c9d34\" style=\"display: none;\"><div style=\"display: table-cell;\"></div><div style=\"display: table-cell;\">visible&nbsp;=&nbsp;True,</div></div><div class=\"45e74446-661d-4e37-a9e2-827ded5c9d34\" style=\"display: none;\"><div style=\"display: table-cell;\"></div><div style=\"display: table-cell;\">x_range_name&nbsp;=&nbsp;'default',</div></div><div class=\"45e74446-661d-4e37-a9e2-827ded5c9d34\" style=\"display: none;\"><div style=\"display: table-cell;\"></div><div style=\"display: table-cell;\">y_range_name&nbsp;=&nbsp;'default')</div></div></div>\n",
       "<script>\n",
       "(function() {\n",
       "  var expanded = false;\n",
       "  var ellipsis = document.getElementById(\"167ede77-2747-43cd-ba94-7ae224c7fb31\");\n",
       "  ellipsis.addEventListener(\"click\", function() {\n",
       "    var rows = document.getElementsByClassName(\"45e74446-661d-4e37-a9e2-827ded5c9d34\");\n",
       "    for (var i = 0; i < rows.length; i++) {\n",
       "      var el = rows[i];\n",
       "      el.style.display = expanded ? \"none\" : \"table-row\";\n",
       "    }\n",
       "    ellipsis.innerHTML = expanded ? \"&hellip;)\" : \"&lsaquo;&lsaquo;&lsaquo;\";\n",
       "    expanded = !expanded;\n",
       "  });\n",
       "})();\n",
       "</script>\n"
      ],
      "text/plain": [
       "GlyphRenderer(id='2ceb1848-28d1-452d-b501-4bef65cd4d5b', ...)"
      ]
     },
     "execution_count": 25,
     "metadata": {},
     "output_type": "execute_result"
    }
   ],
   "source": [
    "plot.add_glyph(c_d_all_data, circle)"
   ]
  },
  {
   "cell_type": "code",
   "execution_count": 26,
   "metadata": {
    "collapsed": true
   },
   "outputs": [],
   "source": [
    "# customize the legend - 2nd phase\n",
    "plot.legend.location = 'bottom_right'\n",
    "plot.legend.background_fill_color = 'lightgrey'"
   ]
  },
  {
   "cell_type": "markdown",
   "metadata": {},
   "source": [
    "http://bokeh.pydata.org/en/0.9.3/docs/user_guide/tools.html#hover-tool - for 2nd phase"
   ]
  },
  {
   "cell_type": "code",
   "execution_count": 28,
   "metadata": {},
   "outputs": [],
   "source": [
    "# customize the Hover tool - 2nd phase\n",
    "hover = HoverTool(tooltips = \n",
    "                  [(\"District Number\", \"@districts\"),\n",
    "                 (\"Number of Arrested Crimes\", \"@freq_arrests\"),\n",
    "                (\"Number of Non Arrested Crimes\", \"@freq_non_arrests\"),])\n",
    "plot.add_tools(hover)"
   ]
  },
  {
   "cell_type": "code",
   "execution_count": 29,
   "metadata": {
    "collapsed": true
   },
   "outputs": [],
   "source": [
    "# show the result\n",
    "show(plot)"
   ]
  },
  {
   "cell_type": "code",
   "execution_count": 30,
   "metadata": {},
   "outputs": [
    {
     "data": {
      "text/html": [
       "\n",
       "    <div class=\"bk-root\">\n",
       "        <a href=\"https://bokeh.pydata.org\" target=\"_blank\" class=\"bk-logo bk-logo-small bk-logo-notebook\"></a>\n",
       "        <span id=\"ea1ab6e0-12f0-4fa0-a11c-f7b18bb397ba\">Loading BokehJS ...</span>\n",
       "    </div>"
      ]
     },
     "metadata": {},
     "output_type": "display_data"
    },
    {
     "data": {
      "application/javascript": [
       "\n",
       "(function(root) {\n",
       "  function now() {\n",
       "    return new Date();\n",
       "  }\n",
       "\n",
       "  var force = true;\n",
       "\n",
       "  if (typeof (root._bokeh_onload_callbacks) === \"undefined\" || force === true) {\n",
       "    root._bokeh_onload_callbacks = [];\n",
       "    root._bokeh_is_loading = undefined;\n",
       "  }\n",
       "\n",
       "  var JS_MIME_TYPE = 'application/javascript';\n",
       "  var HTML_MIME_TYPE = 'text/html';\n",
       "  var EXEC_MIME_TYPE = 'application/vnd.bokehjs_exec.v0+json';\n",
       "  var CLASS_NAME = 'output_bokeh rendered_html';\n",
       "\n",
       "  /**\n",
       "   * Render data to the DOM node\n",
       "   */\n",
       "  function render(props, node) {\n",
       "    var script = document.createElement(\"script\");\n",
       "    node.appendChild(script);\n",
       "  }\n",
       "\n",
       "  /**\n",
       "   * Handle when an output is cleared or removed\n",
       "   */\n",
       "  function handleClearOutput(event, handle) {\n",
       "    var cell = handle.cell;\n",
       "\n",
       "    var id = cell.output_area._bokeh_element_id;\n",
       "    var server_id = cell.output_area._bokeh_server_id;\n",
       "    // Clean up Bokeh references\n",
       "    if (id !== undefined) {\n",
       "      Bokeh.index[id].model.document.clear();\n",
       "      delete Bokeh.index[id];\n",
       "    }\n",
       "\n",
       "    if (server_id !== undefined) {\n",
       "      // Clean up Bokeh references\n",
       "      var cmd = \"from bokeh.io.state import curstate; print(curstate().uuid_to_server['\" + server_id + \"'].get_sessions()[0].document.roots[0]._id)\";\n",
       "      cell.notebook.kernel.execute(cmd, {\n",
       "        iopub: {\n",
       "          output: function(msg) {\n",
       "            var element_id = msg.content.text.trim();\n",
       "            Bokeh.index[element_id].model.document.clear();\n",
       "            delete Bokeh.index[element_id];\n",
       "          }\n",
       "        }\n",
       "      });\n",
       "      // Destroy server and session\n",
       "      var cmd = \"import bokeh.io.notebook as ion; ion.destroy_server('\" + server_id + \"')\";\n",
       "      cell.notebook.kernel.execute(cmd);\n",
       "    }\n",
       "  }\n",
       "\n",
       "  /**\n",
       "   * Handle when a new output is added\n",
       "   */\n",
       "  function handleAddOutput(event, handle) {\n",
       "    var output_area = handle.output_area;\n",
       "    var output = handle.output;\n",
       "\n",
       "    // limit handleAddOutput to display_data with EXEC_MIME_TYPE content only\n",
       "    if ((output.output_type != \"display_data\") || (!output.data.hasOwnProperty(EXEC_MIME_TYPE))) {\n",
       "      return\n",
       "    }\n",
       "\n",
       "    var toinsert = output_area.element.find(`.${CLASS_NAME.split(' ')[0]}`);\n",
       "\n",
       "    if (output.metadata[EXEC_MIME_TYPE][\"id\"] !== undefined) {\n",
       "      toinsert[0].firstChild.textContent = output.data[JS_MIME_TYPE];\n",
       "      // store reference to embed id on output_area\n",
       "      output_area._bokeh_element_id = output.metadata[EXEC_MIME_TYPE][\"id\"];\n",
       "    }\n",
       "    if (output.metadata[EXEC_MIME_TYPE][\"server_id\"] !== undefined) {\n",
       "      var bk_div = document.createElement(\"div\");\n",
       "      bk_div.innerHTML = output.data[HTML_MIME_TYPE];\n",
       "      var script_attrs = bk_div.children[0].attributes;\n",
       "      for (var i = 0; i < script_attrs.length; i++) {\n",
       "        toinsert[0].firstChild.setAttribute(script_attrs[i].name, script_attrs[i].value);\n",
       "      }\n",
       "      // store reference to server id on output_area\n",
       "      output_area._bokeh_server_id = output.metadata[EXEC_MIME_TYPE][\"server_id\"];\n",
       "    }\n",
       "  }\n",
       "\n",
       "  function register_renderer(events, OutputArea) {\n",
       "\n",
       "    function append_mime(data, metadata, element) {\n",
       "      // create a DOM node to render to\n",
       "      var toinsert = this.create_output_subarea(\n",
       "        metadata,\n",
       "        CLASS_NAME,\n",
       "        EXEC_MIME_TYPE\n",
       "      );\n",
       "      this.keyboard_manager.register_events(toinsert);\n",
       "      // Render to node\n",
       "      var props = {data: data, metadata: metadata[EXEC_MIME_TYPE]};\n",
       "      render(props, toinsert[0]);\n",
       "      element.append(toinsert);\n",
       "      return toinsert\n",
       "    }\n",
       "\n",
       "    /* Handle when an output is cleared or removed */\n",
       "    events.on('clear_output.CodeCell', handleClearOutput);\n",
       "    events.on('delete.Cell', handleClearOutput);\n",
       "\n",
       "    /* Handle when a new output is added */\n",
       "    events.on('output_added.OutputArea', handleAddOutput);\n",
       "\n",
       "    /**\n",
       "     * Register the mime type and append_mime function with output_area\n",
       "     */\n",
       "    OutputArea.prototype.register_mime_type(EXEC_MIME_TYPE, append_mime, {\n",
       "      /* Is output safe? */\n",
       "      safe: true,\n",
       "      /* Index of renderer in `output_area.display_order` */\n",
       "      index: 0\n",
       "    });\n",
       "  }\n",
       "\n",
       "  // register the mime type if in Jupyter Notebook environment and previously unregistered\n",
       "  if (root.Jupyter !== undefined) {\n",
       "    var events = require('base/js/events');\n",
       "    var OutputArea = require('notebook/js/outputarea').OutputArea;\n",
       "\n",
       "    if (OutputArea.prototype.mime_types().indexOf(EXEC_MIME_TYPE) == -1) {\n",
       "      register_renderer(events, OutputArea);\n",
       "    }\n",
       "  }\n",
       "\n",
       "  \n",
       "  if (typeof (root._bokeh_timeout) === \"undefined\" || force === true) {\n",
       "    root._bokeh_timeout = Date.now() + 5000;\n",
       "    root._bokeh_failed_load = false;\n",
       "  }\n",
       "\n",
       "  var NB_LOAD_WARNING = {'data': {'text/html':\n",
       "     \"<div style='background-color: #fdd'>\\n\"+\n",
       "     \"<p>\\n\"+\n",
       "     \"BokehJS does not appear to have successfully loaded. If loading BokehJS from CDN, this \\n\"+\n",
       "     \"may be due to a slow or bad network connection. Possible fixes:\\n\"+\n",
       "     \"</p>\\n\"+\n",
       "     \"<ul>\\n\"+\n",
       "     \"<li>re-rerun `output_notebook()` to attempt to load from CDN again, or</li>\\n\"+\n",
       "     \"<li>use INLINE resources instead, as so:</li>\\n\"+\n",
       "     \"</ul>\\n\"+\n",
       "     \"<code>\\n\"+\n",
       "     \"from bokeh.resources import INLINE\\n\"+\n",
       "     \"output_notebook(resources=INLINE)\\n\"+\n",
       "     \"</code>\\n\"+\n",
       "     \"</div>\"}};\n",
       "\n",
       "  function display_loaded() {\n",
       "    var el = document.getElementById(\"ea1ab6e0-12f0-4fa0-a11c-f7b18bb397ba\");\n",
       "    if (el != null) {\n",
       "      el.textContent = \"BokehJS is loading...\";\n",
       "    }\n",
       "    if (root.Bokeh !== undefined) {\n",
       "      if (el != null) {\n",
       "        el.textContent = \"BokehJS \" + root.Bokeh.version + \" successfully loaded.\";\n",
       "      }\n",
       "    } else if (Date.now() < root._bokeh_timeout) {\n",
       "      setTimeout(display_loaded, 100)\n",
       "    }\n",
       "  }\n",
       "\n",
       "\n",
       "  function run_callbacks() {\n",
       "    try {\n",
       "      root._bokeh_onload_callbacks.forEach(function(callback) { callback() });\n",
       "    }\n",
       "    finally {\n",
       "      delete root._bokeh_onload_callbacks\n",
       "    }\n",
       "    console.info(\"Bokeh: all callbacks have finished\");\n",
       "  }\n",
       "\n",
       "  function load_libs(js_urls, callback) {\n",
       "    root._bokeh_onload_callbacks.push(callback);\n",
       "    if (root._bokeh_is_loading > 0) {\n",
       "      console.log(\"Bokeh: BokehJS is being loaded, scheduling callback at\", now());\n",
       "      return null;\n",
       "    }\n",
       "    if (js_urls == null || js_urls.length === 0) {\n",
       "      run_callbacks();\n",
       "      return null;\n",
       "    }\n",
       "    console.log(\"Bokeh: BokehJS not loaded, scheduling load and callback at\", now());\n",
       "    root._bokeh_is_loading = js_urls.length;\n",
       "    for (var i = 0; i < js_urls.length; i++) {\n",
       "      var url = js_urls[i];\n",
       "      var s = document.createElement('script');\n",
       "      s.src = url;\n",
       "      s.async = false;\n",
       "      s.onreadystatechange = s.onload = function() {\n",
       "        root._bokeh_is_loading--;\n",
       "        if (root._bokeh_is_loading === 0) {\n",
       "          console.log(\"Bokeh: all BokehJS libraries loaded\");\n",
       "          run_callbacks()\n",
       "        }\n",
       "      };\n",
       "      s.onerror = function() {\n",
       "        console.warn(\"failed to load library \" + url);\n",
       "      };\n",
       "      console.log(\"Bokeh: injecting script tag for BokehJS library: \", url);\n",
       "      document.getElementsByTagName(\"head\")[0].appendChild(s);\n",
       "    }\n",
       "  };var element = document.getElementById(\"ea1ab6e0-12f0-4fa0-a11c-f7b18bb397ba\");\n",
       "  if (element == null) {\n",
       "    console.log(\"Bokeh: ERROR: autoload.js configured with elementid 'ea1ab6e0-12f0-4fa0-a11c-f7b18bb397ba' but no matching script tag was found. \")\n",
       "    return false;\n",
       "  }\n",
       "\n",
       "  var js_urls = [\"https://cdn.pydata.org/bokeh/release/bokeh-0.12.10.min.js\", \"https://cdn.pydata.org/bokeh/release/bokeh-widgets-0.12.10.min.js\", \"https://cdn.pydata.org/bokeh/release/bokeh-tables-0.12.10.min.js\", \"https://cdn.pydata.org/bokeh/release/bokeh-gl-0.12.10.min.js\"];\n",
       "\n",
       "  var inline_js = [\n",
       "    function(Bokeh) {\n",
       "      Bokeh.set_log_level(\"info\");\n",
       "    },\n",
       "    \n",
       "    function(Bokeh) {\n",
       "      \n",
       "    },\n",
       "    function(Bokeh) {\n",
       "      console.log(\"Bokeh: injecting CSS: https://cdn.pydata.org/bokeh/release/bokeh-0.12.10.min.css\");\n",
       "      Bokeh.embed.inject_css(\"https://cdn.pydata.org/bokeh/release/bokeh-0.12.10.min.css\");\n",
       "      console.log(\"Bokeh: injecting CSS: https://cdn.pydata.org/bokeh/release/bokeh-widgets-0.12.10.min.css\");\n",
       "      Bokeh.embed.inject_css(\"https://cdn.pydata.org/bokeh/release/bokeh-widgets-0.12.10.min.css\");\n",
       "      console.log(\"Bokeh: injecting CSS: https://cdn.pydata.org/bokeh/release/bokeh-tables-0.12.10.min.css\");\n",
       "      Bokeh.embed.inject_css(\"https://cdn.pydata.org/bokeh/release/bokeh-tables-0.12.10.min.css\");\n",
       "    }\n",
       "  ];\n",
       "\n",
       "  function run_inline_js() {\n",
       "    \n",
       "    if ((root.Bokeh !== undefined) || (force === true)) {\n",
       "      for (var i = 0; i < inline_js.length; i++) {\n",
       "        inline_js[i].call(root, root.Bokeh);\n",
       "      }if (force === true) {\n",
       "        display_loaded();\n",
       "      }} else if (Date.now() < root._bokeh_timeout) {\n",
       "      setTimeout(run_inline_js, 100);\n",
       "    } else if (!root._bokeh_failed_load) {\n",
       "      console.log(\"Bokeh: BokehJS failed to load within specified timeout.\");\n",
       "      root._bokeh_failed_load = true;\n",
       "    } else if (force !== true) {\n",
       "      var cell = $(document.getElementById(\"ea1ab6e0-12f0-4fa0-a11c-f7b18bb397ba\")).parents('.cell').data().cell;\n",
       "      cell.output_area.append_execute_result(NB_LOAD_WARNING)\n",
       "    }\n",
       "\n",
       "  }\n",
       "\n",
       "  if (root._bokeh_is_loading === 0) {\n",
       "    console.log(\"Bokeh: BokehJS loaded, going straight to plotting\");\n",
       "    run_inline_js();\n",
       "  } else {\n",
       "    load_libs(js_urls, function() {\n",
       "      console.log(\"Bokeh: BokehJS plotting callback run at\", now());\n",
       "      run_inline_js();\n",
       "    });\n",
       "  }\n",
       "}(window));"
      ],
      "application/vnd.bokehjs_load.v0+json": "\n(function(root) {\n  function now() {\n    return new Date();\n  }\n\n  var force = true;\n\n  if (typeof (root._bokeh_onload_callbacks) === \"undefined\" || force === true) {\n    root._bokeh_onload_callbacks = [];\n    root._bokeh_is_loading = undefined;\n  }\n\n  \n\n  \n  if (typeof (root._bokeh_timeout) === \"undefined\" || force === true) {\n    root._bokeh_timeout = Date.now() + 5000;\n    root._bokeh_failed_load = false;\n  }\n\n  var NB_LOAD_WARNING = {'data': {'text/html':\n     \"<div style='background-color: #fdd'>\\n\"+\n     \"<p>\\n\"+\n     \"BokehJS does not appear to have successfully loaded. If loading BokehJS from CDN, this \\n\"+\n     \"may be due to a slow or bad network connection. Possible fixes:\\n\"+\n     \"</p>\\n\"+\n     \"<ul>\\n\"+\n     \"<li>re-rerun `output_notebook()` to attempt to load from CDN again, or</li>\\n\"+\n     \"<li>use INLINE resources instead, as so:</li>\\n\"+\n     \"</ul>\\n\"+\n     \"<code>\\n\"+\n     \"from bokeh.resources import INLINE\\n\"+\n     \"output_notebook(resources=INLINE)\\n\"+\n     \"</code>\\n\"+\n     \"</div>\"}};\n\n  function display_loaded() {\n    var el = document.getElementById(\"ea1ab6e0-12f0-4fa0-a11c-f7b18bb397ba\");\n    if (el != null) {\n      el.textContent = \"BokehJS is loading...\";\n    }\n    if (root.Bokeh !== undefined) {\n      if (el != null) {\n        el.textContent = \"BokehJS \" + root.Bokeh.version + \" successfully loaded.\";\n      }\n    } else if (Date.now() < root._bokeh_timeout) {\n      setTimeout(display_loaded, 100)\n    }\n  }\n\n\n  function run_callbacks() {\n    try {\n      root._bokeh_onload_callbacks.forEach(function(callback) { callback() });\n    }\n    finally {\n      delete root._bokeh_onload_callbacks\n    }\n    console.info(\"Bokeh: all callbacks have finished\");\n  }\n\n  function load_libs(js_urls, callback) {\n    root._bokeh_onload_callbacks.push(callback);\n    if (root._bokeh_is_loading > 0) {\n      console.log(\"Bokeh: BokehJS is being loaded, scheduling callback at\", now());\n      return null;\n    }\n    if (js_urls == null || js_urls.length === 0) {\n      run_callbacks();\n      return null;\n    }\n    console.log(\"Bokeh: BokehJS not loaded, scheduling load and callback at\", now());\n    root._bokeh_is_loading = js_urls.length;\n    for (var i = 0; i < js_urls.length; i++) {\n      var url = js_urls[i];\n      var s = document.createElement('script');\n      s.src = url;\n      s.async = false;\n      s.onreadystatechange = s.onload = function() {\n        root._bokeh_is_loading--;\n        if (root._bokeh_is_loading === 0) {\n          console.log(\"Bokeh: all BokehJS libraries loaded\");\n          run_callbacks()\n        }\n      };\n      s.onerror = function() {\n        console.warn(\"failed to load library \" + url);\n      };\n      console.log(\"Bokeh: injecting script tag for BokehJS library: \", url);\n      document.getElementsByTagName(\"head\")[0].appendChild(s);\n    }\n  };var element = document.getElementById(\"ea1ab6e0-12f0-4fa0-a11c-f7b18bb397ba\");\n  if (element == null) {\n    console.log(\"Bokeh: ERROR: autoload.js configured with elementid 'ea1ab6e0-12f0-4fa0-a11c-f7b18bb397ba' but no matching script tag was found. \")\n    return false;\n  }\n\n  var js_urls = [\"https://cdn.pydata.org/bokeh/release/bokeh-0.12.10.min.js\", \"https://cdn.pydata.org/bokeh/release/bokeh-widgets-0.12.10.min.js\", \"https://cdn.pydata.org/bokeh/release/bokeh-tables-0.12.10.min.js\", \"https://cdn.pydata.org/bokeh/release/bokeh-gl-0.12.10.min.js\"];\n\n  var inline_js = [\n    function(Bokeh) {\n      Bokeh.set_log_level(\"info\");\n    },\n    \n    function(Bokeh) {\n      \n    },\n    function(Bokeh) {\n      console.log(\"Bokeh: injecting CSS: https://cdn.pydata.org/bokeh/release/bokeh-0.12.10.min.css\");\n      Bokeh.embed.inject_css(\"https://cdn.pydata.org/bokeh/release/bokeh-0.12.10.min.css\");\n      console.log(\"Bokeh: injecting CSS: https://cdn.pydata.org/bokeh/release/bokeh-widgets-0.12.10.min.css\");\n      Bokeh.embed.inject_css(\"https://cdn.pydata.org/bokeh/release/bokeh-widgets-0.12.10.min.css\");\n      console.log(\"Bokeh: injecting CSS: https://cdn.pydata.org/bokeh/release/bokeh-tables-0.12.10.min.css\");\n      Bokeh.embed.inject_css(\"https://cdn.pydata.org/bokeh/release/bokeh-tables-0.12.10.min.css\");\n    }\n  ];\n\n  function run_inline_js() {\n    \n    if ((root.Bokeh !== undefined) || (force === true)) {\n      for (var i = 0; i < inline_js.length; i++) {\n        inline_js[i].call(root, root.Bokeh);\n      }if (force === true) {\n        display_loaded();\n      }} else if (Date.now() < root._bokeh_timeout) {\n      setTimeout(run_inline_js, 100);\n    } else if (!root._bokeh_failed_load) {\n      console.log(\"Bokeh: BokehJS failed to load within specified timeout.\");\n      root._bokeh_failed_load = true;\n    } else if (force !== true) {\n      var cell = $(document.getElementById(\"ea1ab6e0-12f0-4fa0-a11c-f7b18bb397ba\")).parents('.cell').data().cell;\n      cell.output_area.append_execute_result(NB_LOAD_WARNING)\n    }\n\n  }\n\n  if (root._bokeh_is_loading === 0) {\n    console.log(\"Bokeh: BokehJS loaded, going straight to plotting\");\n    run_inline_js();\n  } else {\n    load_libs(js_urls, function() {\n      console.log(\"Bokeh: BokehJS plotting callback run at\", now());\n      run_inline_js();\n    });\n  }\n}(window));"
     },
     "metadata": {},
     "output_type": "display_data"
    },
    {
     "data": {
      "text/html": [
       "\n",
       "<div class=\"bk-root\">\n",
       "    <div class=\"bk-plotdiv\" id=\"34883d25-f607-47fa-b356-2b44a34c56c3\"></div>\n",
       "</div>"
      ]
     },
     "metadata": {},
     "output_type": "display_data"
    },
    {
     "data": {
      "application/javascript": [
       "(function(root) {\n",
       "  function embed_document(root) {\n",
       "    var docs_json = {\"2bc3cd20-c120-420e-bffc-4cf4bf146750\":{\"roots\":{\"references\":[{\"attributes\":{\"axis_label\":\"Number of Non-Arrested Crimes\",\"formatter\":{\"id\":\"cfd80818-c6a2-4ead-9969-5a85201a0c43\",\"type\":\"BasicTickFormatter\"},\"plot\":{\"id\":\"5f61ae15-ce13-4081-8709-dab526f3cf2b\",\"subtype\":\"Figure\",\"type\":\"Plot\"},\"ticker\":{\"id\":\"aa7b7734-74fc-4d85-8515-bd86c180a67e\",\"type\":\"BasicTicker\"}},\"id\":\"54c39d3d-cb88-40b5-b4bd-fd1b6726321f\",\"type\":\"LinearAxis\"},{\"attributes\":{\"factors\":[\"1\",\"2\",\"3\",\"4\",\"5\",\"6\",\"7\",\"8\",\"9\",\"10\",\"11\",\"12\",\"14\",\"15\",\"16\",\"17\",\"18\",\"19\",\"20\",\"22\",\"24\",\"25\"],\"palette\":[\"#ea4a1c\",\"#503344\",\"#f2db3e\",\"#3cd220\",\"#e76b29\",\"#e17615\",\"#adc2ad\",\"#9dc022\",\"#9c6491\",\"#cde214\",\"#52428f\",\"#4a5d52\",\"#9f9e3f\",\"#43af46\",\"#43a5b1\",\"#e3d134\",\"#5b9e27\",\"#a14768\",\"#762412\",\"#61d75b\",\"#cda051\",\"#d032bd\"]},\"id\":\"400193c3-583a-44e4-8756-093bcedb5d3a\",\"type\":\"CategoricalColorMapper\"},{\"attributes\":{\"dimension\":1,\"plot\":{\"id\":\"5f61ae15-ce13-4081-8709-dab526f3cf2b\",\"subtype\":\"Figure\",\"type\":\"Plot\"},\"ticker\":{\"id\":\"aa7b7734-74fc-4d85-8515-bd86c180a67e\",\"type\":\"BasicTicker\"}},\"id\":\"883d1140-5882-4356-8efd-33de30281b36\",\"type\":\"Grid\"},{\"attributes\":{},\"id\":\"75aaba73-337c-4091-809a-8bc54d1eac7d\",\"type\":\"BasicTicker\"},{\"attributes\":{\"callback\":null,\"column_names\":[\"freq_arrests\",\"freq_non_arrests\",\"districts\"],\"data\":{\"districts\":[\"1\",\"2\",\"3\",\"4\",\"5\",\"6\",\"7\",\"8\",\"9\",\"10\",\"11\",\"12\",\"14\",\"15\",\"16\",\"17\",\"18\",\"19\",\"20\",\"22\",\"24\",\"25\"],\"freq_arrests\":[2532,6317,2778,1390,2167,2926,1643,3404,2149,1665,3685,3266,2335,2504,721,2396,1050,1291,2509,1157,1534,899],\"freq_non_arrests\":[14155,11620,11810,7552,10182,8874,9703,10223,12104,10366,12807,9138,9431,11713,3687,12254,6813,7070,7865,9162,12065,6839]}},\"id\":\"b514f7da-67eb-4bfe-9f2b-74f6ba9a4c75\",\"type\":\"ColumnDataSource\"},{\"attributes\":{},\"id\":\"bfa12c22-7c1a-47d7-b079-5b0c18e2800c\",\"type\":\"ResetTool\"},{\"attributes\":{\"overlay\":{\"id\":\"926d51be-36b1-4d99-8200-680d7215b5fe\",\"type\":\"BoxAnnotation\"}},\"id\":\"2b4b3bf2-2e19-4bf5-a92a-5de772301895\",\"type\":\"BoxZoomTool\"},{\"attributes\":{},\"id\":\"12965043-2d3f-429a-b7ce-86eed2f794f3\",\"type\":\"LinearScale\"},{\"attributes\":{\"source\":{\"id\":\"b514f7da-67eb-4bfe-9f2b-74f6ba9a4c75\",\"type\":\"ColumnDataSource\"}},\"id\":\"56838113-29ff-4f19-a262-cbc61467763b\",\"type\":\"CDSView\"},{\"attributes\":{\"plot\":{\"id\":\"5f61ae15-ce13-4081-8709-dab526f3cf2b\",\"subtype\":\"Figure\",\"type\":\"Plot\"},\"ticker\":{\"id\":\"75aaba73-337c-4091-809a-8bc54d1eac7d\",\"type\":\"BasicTicker\"}},\"id\":\"9eef3532-aac5-40a2-a543-f2cdd2739d6c\",\"type\":\"Grid\"},{\"attributes\":{},\"id\":\"aa7b7734-74fc-4d85-8515-bd86c180a67e\",\"type\":\"BasicTicker\"},{\"attributes\":{\"active_drag\":\"auto\",\"active_inspect\":\"auto\",\"active_scroll\":\"auto\",\"active_tap\":\"auto\",\"tools\":[{\"id\":\"d7e7703d-94b7-42a8-b2ce-217d42f6d474\",\"type\":\"PanTool\"},{\"id\":\"aeb2565f-1d89-44ed-857d-ffe7fe0080e0\",\"type\":\"WheelZoomTool\"},{\"id\":\"2b4b3bf2-2e19-4bf5-a92a-5de772301895\",\"type\":\"BoxZoomTool\"},{\"id\":\"bfa12c22-7c1a-47d7-b079-5b0c18e2800c\",\"type\":\"ResetTool\"},{\"id\":\"fa152b9b-97ee-4f96-9c76-a74e6737ea09\",\"type\":\"SaveTool\"},{\"id\":\"7790e03e-7a60-40cb-96e2-e37364dca05e\",\"type\":\"HoverTool\"}]},\"id\":\"6e6fdde9-c161-4dd0-90b4-5935feaefa20\",\"type\":\"Toolbar\"},{\"attributes\":{},\"id\":\"aeb2565f-1d89-44ed-857d-ffe7fe0080e0\",\"type\":\"WheelZoomTool\"},{\"attributes\":{\"fill_alpha\":{\"value\":0.5},\"fill_color\":{\"field\":\"districts\",\"transform\":{\"id\":\"400193c3-583a-44e4-8756-093bcedb5d3a\",\"type\":\"CategoricalColorMapper\"}},\"size\":{\"units\":\"screen\",\"value\":20},\"x\":{\"field\":\"freq_arrests\"},\"y\":{\"field\":\"freq_non_arrests\"}},\"id\":\"0baf3d61-302e-41c2-8cf4-097b5e3276f9\",\"type\":\"Circle\"},{\"attributes\":{},\"id\":\"b04cc3ad-302d-444d-afe6-fbaa6948e62a\",\"type\":\"LinearScale\"},{\"attributes\":{\"bottom_units\":\"screen\",\"fill_alpha\":{\"value\":0.5},\"fill_color\":{\"value\":\"lightgrey\"},\"left_units\":\"screen\",\"level\":\"overlay\",\"line_alpha\":{\"value\":1.0},\"line_color\":{\"value\":\"black\"},\"line_dash\":[4,4],\"line_width\":{\"value\":2},\"plot\":null,\"render_mode\":\"css\",\"right_units\":\"screen\",\"top_units\":\"screen\"},\"id\":\"926d51be-36b1-4d99-8200-680d7215b5fe\",\"type\":\"BoxAnnotation\"},{\"attributes\":{},\"id\":\"cfd80818-c6a2-4ead-9969-5a85201a0c43\",\"type\":\"BasicTickFormatter\"},{\"attributes\":{\"callback\":null},\"id\":\"bb1dd812-998d-42d7-be29-627b84bcdb3d\",\"type\":\"DataRange1d\"},{\"attributes\":{\"below\":[{\"id\":\"810c22b5-f239-4793-a02d-fc09f790ada2\",\"type\":\"LinearAxis\"}],\"left\":[{\"id\":\"54c39d3d-cb88-40b5-b4bd-fd1b6726321f\",\"type\":\"LinearAxis\"}],\"renderers\":[{\"id\":\"810c22b5-f239-4793-a02d-fc09f790ada2\",\"type\":\"LinearAxis\"},{\"id\":\"9eef3532-aac5-40a2-a543-f2cdd2739d6c\",\"type\":\"Grid\"},{\"id\":\"54c39d3d-cb88-40b5-b4bd-fd1b6726321f\",\"type\":\"LinearAxis\"},{\"id\":\"883d1140-5882-4356-8efd-33de30281b36\",\"type\":\"Grid\"},{\"id\":\"926d51be-36b1-4d99-8200-680d7215b5fe\",\"type\":\"BoxAnnotation\"},{\"id\":\"2ceb1848-28d1-452d-b501-4bef65cd4d5b\",\"type\":\"GlyphRenderer\"}],\"title\":{\"id\":\"13bcc412-3168-445a-91f7-aaa6e2eaf9b4\",\"type\":\"Title\"},\"toolbar\":{\"id\":\"6e6fdde9-c161-4dd0-90b4-5935feaefa20\",\"type\":\"Toolbar\"},\"x_range\":{\"id\":\"b467d1eb-04a9-451b-a72d-cb1edcfda80d\",\"type\":\"DataRange1d\"},\"x_scale\":{\"id\":\"12965043-2d3f-429a-b7ce-86eed2f794f3\",\"type\":\"LinearScale\"},\"y_range\":{\"id\":\"bb1dd812-998d-42d7-be29-627b84bcdb3d\",\"type\":\"DataRange1d\"},\"y_scale\":{\"id\":\"b04cc3ad-302d-444d-afe6-fbaa6948e62a\",\"type\":\"LinearScale\"}},\"id\":\"5f61ae15-ce13-4081-8709-dab526f3cf2b\",\"subtype\":\"Figure\",\"type\":\"Plot\"},{\"attributes\":{},\"id\":\"d7e7703d-94b7-42a8-b2ce-217d42f6d474\",\"type\":\"PanTool\"},{\"attributes\":{\"callback\":null},\"id\":\"b467d1eb-04a9-451b-a72d-cb1edcfda80d\",\"type\":\"DataRange1d\"},{\"attributes\":{\"plot\":null,\"text\":\"Arested versus Non-Arested Crimes in Chicago\"},\"id\":\"13bcc412-3168-445a-91f7-aaa6e2eaf9b4\",\"type\":\"Title\"},{\"attributes\":{\"axis_label\":\"Number of Arrested Crimes\",\"formatter\":{\"id\":\"c6249779-692e-4cd4-90b2-d30d4101bd0b\",\"type\":\"BasicTickFormatter\"},\"plot\":{\"id\":\"5f61ae15-ce13-4081-8709-dab526f3cf2b\",\"subtype\":\"Figure\",\"type\":\"Plot\"},\"ticker\":{\"id\":\"75aaba73-337c-4091-809a-8bc54d1eac7d\",\"type\":\"BasicTicker\"}},\"id\":\"810c22b5-f239-4793-a02d-fc09f790ada2\",\"type\":\"LinearAxis\"},{\"attributes\":{},\"id\":\"fa152b9b-97ee-4f96-9c76-a74e6737ea09\",\"type\":\"SaveTool\"},{\"attributes\":{\"callback\":null,\"tooltips\":[[\"District Number\",\"@districts\"],[\"Number of Arrested Crimes\",\"@freq_arrests\"],[\"Number of Non Arrested Crimes\",\"@freq_non_arrests\"]]},\"id\":\"7790e03e-7a60-40cb-96e2-e37364dca05e\",\"type\":\"HoverTool\"},{\"attributes\":{},\"id\":\"c6249779-692e-4cd4-90b2-d30d4101bd0b\",\"type\":\"BasicTickFormatter\"},{\"attributes\":{\"data_source\":{\"id\":\"b514f7da-67eb-4bfe-9f2b-74f6ba9a4c75\",\"type\":\"ColumnDataSource\"},\"glyph\":{\"id\":\"0baf3d61-302e-41c2-8cf4-097b5e3276f9\",\"type\":\"Circle\"},\"hover_glyph\":null,\"muted_glyph\":null,\"view\":{\"id\":\"56838113-29ff-4f19-a262-cbc61467763b\",\"type\":\"CDSView\"}},\"id\":\"2ceb1848-28d1-452d-b501-4bef65cd4d5b\",\"type\":\"GlyphRenderer\"}],\"root_ids\":[\"5f61ae15-ce13-4081-8709-dab526f3cf2b\"]},\"title\":\"Bokeh Application\",\"version\":\"0.12.10\"}};\n",
       "    var render_items = [{\"docid\":\"2bc3cd20-c120-420e-bffc-4cf4bf146750\",\"elementid\":\"34883d25-f607-47fa-b356-2b44a34c56c3\",\"modelid\":\"5f61ae15-ce13-4081-8709-dab526f3cf2b\"}];\n",
       "\n",
       "    root.Bokeh.embed.embed_items(docs_json, render_items);\n",
       "  }\n",
       "\n",
       "  if (root.Bokeh !== undefined) {\n",
       "    embed_document(root);\n",
       "  } else {\n",
       "    var attempts = 0;\n",
       "    var timer = setInterval(function(root) {\n",
       "      if (root.Bokeh !== undefined) {\n",
       "        embed_document(root);\n",
       "        clearInterval(timer);\n",
       "      }\n",
       "      attempts++;\n",
       "      if (attempts > 100) {\n",
       "        console.log(\"Bokeh: ERROR: Unable to embed document because BokehJS library is missing\")\n",
       "        clearInterval(timer);\n",
       "      }\n",
       "    }, 10, root)\n",
       "  }\n",
       "})(window);"
      ],
      "application/vnd.bokehjs_exec.v0+json": ""
     },
     "metadata": {
      "application/vnd.bokehjs_exec.v0+json": {
       "id": "5f61ae15-ce13-4081-8709-dab526f3cf2b"
      }
     },
     "output_type": "display_data"
    }
   ],
   "source": [
    "from bokeh.io import output_notebook\n",
    "output_notebook()\n",
    "show(plot)"
   ]
  },
  {
   "cell_type": "code",
   "execution_count": null,
   "metadata": {
    "collapsed": true
   },
   "outputs": [],
   "source": []
  }
 ],
 "metadata": {
  "anaconda-cloud": {},
  "kernelspec": {
   "display_name": "Python [conda root]",
   "language": "python",
   "name": "conda-root-py"
  },
  "language_info": {
   "codemirror_mode": {
    "name": "ipython",
    "version": 3
   },
   "file_extension": ".py",
   "mimetype": "text/x-python",
   "name": "python",
   "nbconvert_exporter": "python",
   "pygments_lexer": "ipython3",
   "version": "3.5.3"
  }
 },
 "nbformat": 4,
 "nbformat_minor": 2
}
