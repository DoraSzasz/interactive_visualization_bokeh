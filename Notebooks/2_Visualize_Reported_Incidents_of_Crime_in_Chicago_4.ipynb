{
 "cells": [
  {
   "cell_type": "markdown",
   "metadata": {},
   "source": [
    "> Created by Teodora Szasz, tszasz@uchicago.edu"
   ]
  },
  {
   "cell_type": "markdown",
   "metadata": {},
   "source": [
    "# <h1 align=\"center\">2. Visualize reported incidents of crime in Chicago (4) </h1>"
   ]
  },
  {
   "cell_type": "code",
   "execution_count": 1,
   "metadata": {
    "collapsed": true
   },
   "outputs": [],
   "source": [
    "# import libraries\n",
    "import pandas as pd\n",
    "import numpy as np"
   ]
  },
  {
   "cell_type": "code",
   "execution_count": 2,
   "metadata": {
    "collapsed": true
   },
   "outputs": [],
   "source": [
    "# import Bokeh libraries\n",
    "from bokeh.io import output_file, show\n",
    "from bokeh.plotting import figure, ColumnDataSource\n",
    "\n",
    "# import ColumnDataSource from Bokeh\n",
    "from bokeh.models import Circle, Cross, Diamond\n",
    "\n",
    "# categorical color mapper\n",
    "from bokeh.transform import factor_cmap\n",
    "\n",
    "# import Hover Tool\n",
    "from bokeh.models import HoverTool"
   ]
  },
  {
   "cell_type": "code",
   "execution_count": 3,
   "metadata": {
    "collapsed": true
   },
   "outputs": [],
   "source": [
    "# give the capability of displaying multiple charts on the same page\n",
    "from bokeh.layouts import column, row"
   ]
  },
  {
   "cell_type": "code",
   "execution_count": 4,
   "metadata": {
    "collapsed": true
   },
   "outputs": [],
   "source": [
    "# create output file\n",
    "output_file('crimes_categiries_correlated.html')"
   ]
  },
  {
   "cell_type": "code",
   "execution_count": 5,
   "metadata": {
    "collapsed": true
   },
   "outputs": [],
   "source": [
    "# locate the file\n",
    "file = '../Dataset/Crimes_-_2016_to_present.csv'"
   ]
  },
  {
   "cell_type": "code",
   "execution_count": 6,
   "metadata": {
    "collapsed": true
   },
   "outputs": [],
   "source": [
    "# use pandas' read_csv() method\n",
    "crimes = pd.read_csv(file)"
   ]
  },
  {
   "cell_type": "code",
   "execution_count": 7,
   "metadata": {
    "collapsed": true
   },
   "outputs": [],
   "source": [
    "# option to be able to see all the columns\n",
    "pd.set_option('display.max_columns', None)"
   ]
  },
  {
   "cell_type": "code",
   "execution_count": 8,
   "metadata": {
    "scrolled": false
   },
   "outputs": [
    {
     "data": {
      "text/html": [
       "<div>\n",
       "<style>\n",
       "    .dataframe thead tr:only-child th {\n",
       "        text-align: right;\n",
       "    }\n",
       "\n",
       "    .dataframe thead th {\n",
       "        text-align: left;\n",
       "    }\n",
       "\n",
       "    .dataframe tbody tr th {\n",
       "        vertical-align: top;\n",
       "    }\n",
       "</style>\n",
       "<table border=\"1\" class=\"dataframe\">\n",
       "  <thead>\n",
       "    <tr style=\"text-align: right;\">\n",
       "      <th></th>\n",
       "      <th>ID</th>\n",
       "      <th>Case Number</th>\n",
       "      <th>Date</th>\n",
       "      <th>Block</th>\n",
       "      <th>IUCR</th>\n",
       "      <th>Primary Type</th>\n",
       "      <th>Description</th>\n",
       "      <th>Location Description</th>\n",
       "      <th>Arrest</th>\n",
       "      <th>Domestic</th>\n",
       "      <th>Beat</th>\n",
       "      <th>District</th>\n",
       "      <th>Ward</th>\n",
       "      <th>Community Area</th>\n",
       "      <th>FBI Code</th>\n",
       "      <th>X Coordinate</th>\n",
       "      <th>Y Coordinate</th>\n",
       "      <th>Year</th>\n",
       "      <th>Updated On</th>\n",
       "      <th>Latitude</th>\n",
       "      <th>Longitude</th>\n",
       "      <th>Location</th>\n",
       "    </tr>\n",
       "  </thead>\n",
       "  <tbody>\n",
       "    <tr>\n",
       "      <th>0</th>\n",
       "      <td>10842630</td>\n",
       "      <td>JA122203</td>\n",
       "      <td>01/19/2017 06:28:15 PM</td>\n",
       "      <td>059XX S ROCKWELL ST</td>\n",
       "      <td>2022</td>\n",
       "      <td>NARCOTICS</td>\n",
       "      <td>POSS: COCAINE</td>\n",
       "      <td>APARTMENT</td>\n",
       "      <td>True</td>\n",
       "      <td>False</td>\n",
       "      <td>824</td>\n",
       "      <td>8</td>\n",
       "      <td>16.0</td>\n",
       "      <td>66</td>\n",
       "      <td>18</td>\n",
       "      <td>NaN</td>\n",
       "      <td>NaN</td>\n",
       "      <td>2017</td>\n",
       "      <td>08/05/2017 03:50:08 PM</td>\n",
       "      <td>NaN</td>\n",
       "      <td>NaN</td>\n",
       "      <td>NaN</td>\n",
       "    </tr>\n",
       "    <tr>\n",
       "      <th>1</th>\n",
       "      <td>10842633</td>\n",
       "      <td>JA122240</td>\n",
       "      <td>01/19/2017 03:18:38 PM</td>\n",
       "      <td>006XX N ST LOUIS AVE</td>\n",
       "      <td>2024</td>\n",
       "      <td>NARCOTICS</td>\n",
       "      <td>POSS: HEROIN(WHITE)</td>\n",
       "      <td>APARTMENT</td>\n",
       "      <td>True</td>\n",
       "      <td>False</td>\n",
       "      <td>1121</td>\n",
       "      <td>11</td>\n",
       "      <td>27.0</td>\n",
       "      <td>23</td>\n",
       "      <td>18</td>\n",
       "      <td>NaN</td>\n",
       "      <td>NaN</td>\n",
       "      <td>2017</td>\n",
       "      <td>08/05/2017 03:50:08 PM</td>\n",
       "      <td>NaN</td>\n",
       "      <td>NaN</td>\n",
       "      <td>NaN</td>\n",
       "    </tr>\n",
       "    <tr>\n",
       "      <th>2</th>\n",
       "      <td>10842652</td>\n",
       "      <td>JA122480</td>\n",
       "      <td>01/20/2017 12:52:00 AM</td>\n",
       "      <td>025XX E 106TH ST</td>\n",
       "      <td>2024</td>\n",
       "      <td>NARCOTICS</td>\n",
       "      <td>POSS: HEROIN(WHITE)</td>\n",
       "      <td>RESIDENCE</td>\n",
       "      <td>True</td>\n",
       "      <td>False</td>\n",
       "      <td>434</td>\n",
       "      <td>4</td>\n",
       "      <td>10.0</td>\n",
       "      <td>51</td>\n",
       "      <td>18</td>\n",
       "      <td>NaN</td>\n",
       "      <td>NaN</td>\n",
       "      <td>2017</td>\n",
       "      <td>08/05/2017 03:50:08 PM</td>\n",
       "      <td>NaN</td>\n",
       "      <td>NaN</td>\n",
       "      <td>NaN</td>\n",
       "    </tr>\n",
       "    <tr>\n",
       "      <th>3</th>\n",
       "      <td>10885990</td>\n",
       "      <td>JA185288</td>\n",
       "      <td>03/13/2017 08:00:00 AM</td>\n",
       "      <td>033XX W FILLMORE ST</td>\n",
       "      <td>1812</td>\n",
       "      <td>NARCOTICS</td>\n",
       "      <td>POSS: CANNABIS MORE THAN 30GMS</td>\n",
       "      <td>POLICE FACILITY/VEH PARKING LOT</td>\n",
       "      <td>True</td>\n",
       "      <td>False</td>\n",
       "      <td>1134</td>\n",
       "      <td>11</td>\n",
       "      <td>24.0</td>\n",
       "      <td>29</td>\n",
       "      <td>18</td>\n",
       "      <td>NaN</td>\n",
       "      <td>NaN</td>\n",
       "      <td>2017</td>\n",
       "      <td>08/05/2017 03:50:08 PM</td>\n",
       "      <td>NaN</td>\n",
       "      <td>NaN</td>\n",
       "      <td>NaN</td>\n",
       "    </tr>\n",
       "    <tr>\n",
       "      <th>4</th>\n",
       "      <td>10886000</td>\n",
       "      <td>JA185322</td>\n",
       "      <td>03/13/2017 08:00:00 AM</td>\n",
       "      <td>033XX W FILLMORE ST</td>\n",
       "      <td>2024</td>\n",
       "      <td>NARCOTICS</td>\n",
       "      <td>POSS: HEROIN(WHITE)</td>\n",
       "      <td>POLICE FACILITY/VEH PARKING LOT</td>\n",
       "      <td>True</td>\n",
       "      <td>False</td>\n",
       "      <td>1134</td>\n",
       "      <td>11</td>\n",
       "      <td>24.0</td>\n",
       "      <td>29</td>\n",
       "      <td>18</td>\n",
       "      <td>NaN</td>\n",
       "      <td>NaN</td>\n",
       "      <td>2017</td>\n",
       "      <td>08/05/2017 03:50:08 PM</td>\n",
       "      <td>NaN</td>\n",
       "      <td>NaN</td>\n",
       "      <td>NaN</td>\n",
       "    </tr>\n",
       "  </tbody>\n",
       "</table>\n",
       "</div>"
      ],
      "text/plain": [
       "         ID Case Number                    Date                 Block  IUCR  \\\n",
       "0  10842630    JA122203  01/19/2017 06:28:15 PM   059XX S ROCKWELL ST  2022   \n",
       "1  10842633    JA122240  01/19/2017 03:18:38 PM  006XX N ST LOUIS AVE  2024   \n",
       "2  10842652    JA122480  01/20/2017 12:52:00 AM      025XX E 106TH ST  2024   \n",
       "3  10885990    JA185288  03/13/2017 08:00:00 AM   033XX W FILLMORE ST  1812   \n",
       "4  10886000    JA185322  03/13/2017 08:00:00 AM   033XX W FILLMORE ST  2024   \n",
       "\n",
       "  Primary Type                     Description  \\\n",
       "0    NARCOTICS                   POSS: COCAINE   \n",
       "1    NARCOTICS             POSS: HEROIN(WHITE)   \n",
       "2    NARCOTICS             POSS: HEROIN(WHITE)   \n",
       "3    NARCOTICS  POSS: CANNABIS MORE THAN 30GMS   \n",
       "4    NARCOTICS             POSS: HEROIN(WHITE)   \n",
       "\n",
       "              Location Description  Arrest  Domestic  Beat  District  Ward  \\\n",
       "0                        APARTMENT    True     False   824         8  16.0   \n",
       "1                        APARTMENT    True     False  1121        11  27.0   \n",
       "2                        RESIDENCE    True     False   434         4  10.0   \n",
       "3  POLICE FACILITY/VEH PARKING LOT    True     False  1134        11  24.0   \n",
       "4  POLICE FACILITY/VEH PARKING LOT    True     False  1134        11  24.0   \n",
       "\n",
       "   Community Area FBI Code  X Coordinate  Y Coordinate  Year  \\\n",
       "0              66       18           NaN           NaN  2017   \n",
       "1              23       18           NaN           NaN  2017   \n",
       "2              51       18           NaN           NaN  2017   \n",
       "3              29       18           NaN           NaN  2017   \n",
       "4              29       18           NaN           NaN  2017   \n",
       "\n",
       "               Updated On  Latitude  Longitude Location  \n",
       "0  08/05/2017 03:50:08 PM       NaN        NaN      NaN  \n",
       "1  08/05/2017 03:50:08 PM       NaN        NaN      NaN  \n",
       "2  08/05/2017 03:50:08 PM       NaN        NaN      NaN  \n",
       "3  08/05/2017 03:50:08 PM       NaN        NaN      NaN  \n",
       "4  08/05/2017 03:50:08 PM       NaN        NaN      NaN  "
      ]
     },
     "execution_count": 8,
     "metadata": {},
     "output_type": "execute_result"
    }
   ],
   "source": [
    "crimes.head(5)"
   ]
  },
  {
   "cell_type": "code",
   "execution_count": 9,
   "metadata": {
    "collapsed": true
   },
   "outputs": [],
   "source": [
    "# extract the District and Arrest columns\n",
    "crimes_type_all = crimes[['District', 'Primary Type']]"
   ]
  },
  {
   "cell_type": "code",
   "execution_count": 10,
   "metadata": {},
   "outputs": [
    {
     "name": "stderr",
     "output_type": "stream",
     "text": [
      "/Users/rcc/anaconda3/lib/python3.5/site-packages/ipykernel/__main__.py:14: SettingWithCopyWarning: \n",
      "A value is trying to be set on a copy of a slice from a DataFrame.\n",
      "Try using .loc[row_indexer,col_indexer] = value instead\n",
      "\n",
      "See the caveats in the documentation: http://pandas.pydata.org/pandas-docs/stable/indexing.html#indexing-view-versus-copy\n",
      "/Users/rcc/anaconda3/lib/python3.5/site-packages/ipykernel/__main__.py:15: SettingWithCopyWarning: \n",
      "A value is trying to be set on a copy of a slice from a DataFrame.\n",
      "Try using .loc[row_indexer,col_indexer] = value instead\n",
      "\n",
      "See the caveats in the documentation: http://pandas.pydata.org/pandas-docs/stable/indexing.html#indexing-view-versus-copy\n",
      "/Users/rcc/anaconda3/lib/python3.5/site-packages/ipykernel/__main__.py:16: SettingWithCopyWarning: \n",
      "A value is trying to be set on a copy of a slice from a DataFrame.\n",
      "Try using .loc[row_indexer,col_indexer] = value instead\n",
      "\n",
      "See the caveats in the documentation: http://pandas.pydata.org/pandas-docs/stable/indexing.html#indexing-view-versus-copy\n",
      "/Users/rcc/anaconda3/lib/python3.5/site-packages/ipykernel/__main__.py:17: SettingWithCopyWarning: \n",
      "A value is trying to be set on a copy of a slice from a DataFrame.\n",
      "Try using .loc[row_indexer,col_indexer] = value instead\n",
      "\n",
      "See the caveats in the documentation: http://pandas.pydata.org/pandas-docs/stable/indexing.html#indexing-view-versus-copy\n"
     ]
    }
   ],
   "source": [
    "# extract only the robberies\n",
    "homicides = crimes_type_all.loc[crimes_type_all['Primary Type'] == 'HOMICIDE']\n",
    "\n",
    "# extract only the robberies\n",
    "robberies = crimes_type_all.loc[crimes_type_all['Primary Type'] == 'ROBBERY']\n",
    "\n",
    "# extract only the assaults\n",
    "assaults = crimes_type_all.loc[crimes_type_all['Primary Type'] == 'ASSAULT']\n",
    "\n",
    "# extract only the thefts\n",
    "narcotics = crimes_type_all.loc[crimes_type_all['Primary Type'] == 'NARCOTICS']\n",
    "\n",
    "#count the number of homicides per district and remove the duplicates\n",
    "homicides['Number_homicides'] = homicides.groupby('District')['District'].transform('count')\n",
    "robberies['Number_robberies'] = robberies.groupby('District')['District'].transform('count')\n",
    "narcotics['Number_narcotics'] = narcotics.groupby('District')['District'].transform('count')\n",
    "assaults['Number_assaults'] = assaults.groupby('District')['District'].transform('count')\n",
    "homicides = homicides.drop_duplicates('District')\n",
    "robberies = robberies.drop_duplicates('District')\n",
    "narcotics = narcotics.drop_duplicates('District')\n",
    "assaults = assaults.drop_duplicates('District')"
   ]
  },
  {
   "cell_type": "code",
   "execution_count": 11,
   "metadata": {
    "collapsed": true
   },
   "outputs": [],
   "source": [
    "crimes_r_a_n = pd.merge(pd.merge(pd.merge(robberies, narcotics, on='District'), assaults, on = 'District'),\n",
    "                        homicides, on='District')"
   ]
  },
  {
   "cell_type": "code",
   "execution_count": 12,
   "metadata": {},
   "outputs": [
    {
     "data": {
      "text/html": [
       "<div>\n",
       "<style>\n",
       "    .dataframe thead tr:only-child th {\n",
       "        text-align: right;\n",
       "    }\n",
       "\n",
       "    .dataframe thead th {\n",
       "        text-align: left;\n",
       "    }\n",
       "\n",
       "    .dataframe tbody tr th {\n",
       "        vertical-align: top;\n",
       "    }\n",
       "</style>\n",
       "<table border=\"1\" class=\"dataframe\">\n",
       "  <thead>\n",
       "    <tr style=\"text-align: right;\">\n",
       "      <th></th>\n",
       "      <th>District</th>\n",
       "      <th>Primary Type_x</th>\n",
       "      <th>Number_robberies</th>\n",
       "      <th>Primary Type_y</th>\n",
       "      <th>Number_narcotics</th>\n",
       "      <th>Primary Type_x</th>\n",
       "      <th>Number_assaults</th>\n",
       "      <th>Primary Type_y</th>\n",
       "      <th>Number_homicides</th>\n",
       "    </tr>\n",
       "  </thead>\n",
       "  <tbody>\n",
       "    <tr>\n",
       "      <th>0</th>\n",
       "      <td>20</td>\n",
       "      <td>ROBBERY</td>\n",
       "      <td>132</td>\n",
       "      <td>NARCOTICS</td>\n",
       "      <td>91</td>\n",
       "      <td>ASSAULT</td>\n",
       "      <td>260</td>\n",
       "      <td>HOMICIDE</td>\n",
       "      <td>2</td>\n",
       "    </tr>\n",
       "    <tr>\n",
       "      <th>1</th>\n",
       "      <td>19</td>\n",
       "      <td>ROBBERY</td>\n",
       "      <td>460</td>\n",
       "      <td>NARCOTICS</td>\n",
       "      <td>122</td>\n",
       "      <td>ASSAULT</td>\n",
       "      <td>549</td>\n",
       "      <td>HOMICIDE</td>\n",
       "      <td>6</td>\n",
       "    </tr>\n",
       "    <tr>\n",
       "      <th>2</th>\n",
       "      <td>8</td>\n",
       "      <td>ROBBERY</td>\n",
       "      <td>845</td>\n",
       "      <td>NARCOTICS</td>\n",
       "      <td>419</td>\n",
       "      <td>ASSAULT</td>\n",
       "      <td>1148</td>\n",
       "      <td>HOMICIDE</td>\n",
       "      <td>45</td>\n",
       "    </tr>\n",
       "    <tr>\n",
       "      <th>3</th>\n",
       "      <td>7</td>\n",
       "      <td>ROBBERY</td>\n",
       "      <td>664</td>\n",
       "      <td>NARCOTICS</td>\n",
       "      <td>787</td>\n",
       "      <td>ASSAULT</td>\n",
       "      <td>1267</td>\n",
       "      <td>HOMICIDE</td>\n",
       "      <td>59</td>\n",
       "    </tr>\n",
       "    <tr>\n",
       "      <th>4</th>\n",
       "      <td>4</td>\n",
       "      <td>ROBBERY</td>\n",
       "      <td>597</td>\n",
       "      <td>NARCOTICS</td>\n",
       "      <td>417</td>\n",
       "      <td>ASSAULT</td>\n",
       "      <td>1348</td>\n",
       "      <td>HOMICIDE</td>\n",
       "      <td>52</td>\n",
       "    </tr>\n",
       "  </tbody>\n",
       "</table>\n",
       "</div>"
      ],
      "text/plain": [
       "   District Primary Type_x  Number_robberies Primary Type_y  Number_narcotics  \\\n",
       "0        20        ROBBERY               132      NARCOTICS                91   \n",
       "1        19        ROBBERY               460      NARCOTICS               122   \n",
       "2         8        ROBBERY               845      NARCOTICS               419   \n",
       "3         7        ROBBERY               664      NARCOTICS               787   \n",
       "4         4        ROBBERY               597      NARCOTICS               417   \n",
       "\n",
       "  Primary Type_x  Number_assaults Primary Type_y  Number_homicides  \n",
       "0        ASSAULT              260       HOMICIDE                 2  \n",
       "1        ASSAULT              549       HOMICIDE                 6  \n",
       "2        ASSAULT             1148       HOMICIDE                45  \n",
       "3        ASSAULT             1267       HOMICIDE                59  \n",
       "4        ASSAULT             1348       HOMICIDE                52  "
      ]
     },
     "execution_count": 12,
     "metadata": {},
     "output_type": "execute_result"
    }
   ],
   "source": [
    "crimes_r_a_n.head(5)"
   ]
  },
  {
   "cell_type": "code",
   "execution_count": 13,
   "metadata": {
    "collapsed": true
   },
   "outputs": [],
   "source": [
    "districts=list(set(crimes_r_a_n['District']))\n",
    "districts_str=[str(i) for i in districts]"
   ]
  },
  {
   "cell_type": "code",
   "execution_count": 14,
   "metadata": {
    "collapsed": true
   },
   "outputs": [],
   "source": [
    "crimes_r_a_n_data = ColumnDataSource(\n",
    "    data=dict(\n",
    "        robberies = list(crimes_r_a_n['Number_robberies']),\n",
    "        narcotics = list(crimes_r_a_n['Number_narcotics']),\n",
    "        assaults = list(crimes_r_a_n['Number_assaults']),\n",
    "        homicides = list(crimes_r_a_n['Number_homicides']),\n",
    "        districts=districts_str))"
   ]
  },
  {
   "cell_type": "code",
   "execution_count": 15,
   "metadata": {
    "collapsed": true
   },
   "outputs": [],
   "source": [
    "#generate some random colors for each district\n",
    "N = len(districts)\n",
    "x = np.random.random(size=N) * 100\n",
    "y = np.random.random(size=N) * 100\n",
    "z = np.random.random(size=N) * 100\n",
    "colors = [\n",
    "    \"#%02x%02x%02x\" % (int(r), int(g), int(b)) for r, g, b in zip(50+2*x, 30+2*y, 10+2*z)]"
   ]
  },
  {
   "cell_type": "markdown",
   "metadata": {},
   "source": [
    "* Look at the number of homicides in each district"
   ]
  },
  {
   "cell_type": "code",
   "execution_count": 16,
   "metadata": {
    "collapsed": true
   },
   "outputs": [],
   "source": [
    "TOOLTIPS = 'pan, wheel_zoom, box_zoom, reset, save'"
   ]
  },
  {
   "cell_type": "code",
   "execution_count": 17,
   "metadata": {
    "collapsed": true
   },
   "outputs": [],
   "source": [
    "# create a figure object with 'tools' parameter defined\n",
    "plot_r_n = figure(x_axis_label='Number of Robberies', y_axis_label='Number of Narcotics', \n",
    "              tools = TOOLTIPS,\n",
    "              title = 'Number of Robberies versus Number of Narcotics in Chicago')"
   ]
  },
  {
   "cell_type": "code",
   "execution_count": 18,
   "metadata": {
    "collapsed": true
   },
   "outputs": [],
   "source": [
    "plot_r_a = figure(x_axis_label='Number of Robberies', y_axis_label='Number of Assaults', \n",
    "              tools = TOOLTIPS,\n",
    "              title = 'Number of Robberies versus Number of Assaults in Chicago')"
   ]
  },
  {
   "cell_type": "code",
   "execution_count": 19,
   "metadata": {
    "collapsed": true
   },
   "outputs": [],
   "source": [
    "plot_r_h = figure(x_axis_label='Number of Robberies', y_axis_label='Number of Homicides', \n",
    "              tools = TOOLTIPS,\n",
    "              title = 'Number of Robberies versus Number of Homicides in Chicago')"
   ]
  },
  {
   "cell_type": "markdown",
   "metadata": {},
   "source": [
    "http://bokeh.pydata.org/en/latest/docs/reference/models/markers.html"
   ]
  },
  {
   "cell_type": "code",
   "execution_count": 20,
   "metadata": {},
   "outputs": [
    {
     "data": {
      "text/html": [
       "<div style=\"display: table;\"><div style=\"display: table-row;\"><div style=\"display: table-cell;\"><b title=\"bokeh.models.renderers.GlyphRenderer\">GlyphRenderer</b>(</div><div style=\"display: table-cell;\">id&nbsp;=&nbsp;'bb4a5c50-9959-4e2a-8f1d-65a9e0178b95', <span id=\"b6c8e036-3f5d-4017-8f73-fd5c4dfa781b\" style=\"cursor: pointer;\">&hellip;)</span></div></div><div class=\"0010b5f0-aa1b-433e-90bc-ff6f930243d5\" style=\"display: none;\"><div style=\"display: table-cell;\"></div><div style=\"display: table-cell;\">data_source&nbsp;=&nbsp;ColumnDataSource(id='b0aceee6-12e7-41e1-ae8a-259850c7190a', ...),</div></div><div class=\"0010b5f0-aa1b-433e-90bc-ff6f930243d5\" style=\"display: none;\"><div style=\"display: table-cell;\"></div><div style=\"display: table-cell;\">glyph&nbsp;=&nbsp;Circle(id='82d09856-77c2-44ff-840e-a50ebaea53c9', ...),</div></div><div class=\"0010b5f0-aa1b-433e-90bc-ff6f930243d5\" style=\"display: none;\"><div style=\"display: table-cell;\"></div><div style=\"display: table-cell;\">hover_glyph&nbsp;=&nbsp;None,</div></div><div class=\"0010b5f0-aa1b-433e-90bc-ff6f930243d5\" style=\"display: none;\"><div style=\"display: table-cell;\"></div><div style=\"display: table-cell;\">js_event_callbacks&nbsp;=&nbsp;{},</div></div><div class=\"0010b5f0-aa1b-433e-90bc-ff6f930243d5\" style=\"display: none;\"><div style=\"display: table-cell;\"></div><div style=\"display: table-cell;\">js_property_callbacks&nbsp;=&nbsp;{},</div></div><div class=\"0010b5f0-aa1b-433e-90bc-ff6f930243d5\" style=\"display: none;\"><div style=\"display: table-cell;\"></div><div style=\"display: table-cell;\">level&nbsp;=&nbsp;'glyph',</div></div><div class=\"0010b5f0-aa1b-433e-90bc-ff6f930243d5\" style=\"display: none;\"><div style=\"display: table-cell;\"></div><div style=\"display: table-cell;\">muted&nbsp;=&nbsp;False,</div></div><div class=\"0010b5f0-aa1b-433e-90bc-ff6f930243d5\" style=\"display: none;\"><div style=\"display: table-cell;\"></div><div style=\"display: table-cell;\">muted_glyph&nbsp;=&nbsp;None,</div></div><div class=\"0010b5f0-aa1b-433e-90bc-ff6f930243d5\" style=\"display: none;\"><div style=\"display: table-cell;\"></div><div style=\"display: table-cell;\">name&nbsp;=&nbsp;None,</div></div><div class=\"0010b5f0-aa1b-433e-90bc-ff6f930243d5\" style=\"display: none;\"><div style=\"display: table-cell;\"></div><div style=\"display: table-cell;\">nonselection_glyph&nbsp;=&nbsp;'auto',</div></div><div class=\"0010b5f0-aa1b-433e-90bc-ff6f930243d5\" style=\"display: none;\"><div style=\"display: table-cell;\"></div><div style=\"display: table-cell;\">selection_glyph&nbsp;=&nbsp;'auto',</div></div><div class=\"0010b5f0-aa1b-433e-90bc-ff6f930243d5\" style=\"display: none;\"><div style=\"display: table-cell;\"></div><div style=\"display: table-cell;\">subscribed_events&nbsp;=&nbsp;[],</div></div><div class=\"0010b5f0-aa1b-433e-90bc-ff6f930243d5\" style=\"display: none;\"><div style=\"display: table-cell;\"></div><div style=\"display: table-cell;\">tags&nbsp;=&nbsp;[],</div></div><div class=\"0010b5f0-aa1b-433e-90bc-ff6f930243d5\" style=\"display: none;\"><div style=\"display: table-cell;\"></div><div style=\"display: table-cell;\">view&nbsp;=&nbsp;CDSView(id='3cbaf82c-730f-4ca3-9ffa-d771540906db', ...),</div></div><div class=\"0010b5f0-aa1b-433e-90bc-ff6f930243d5\" style=\"display: none;\"><div style=\"display: table-cell;\"></div><div style=\"display: table-cell;\">visible&nbsp;=&nbsp;True,</div></div><div class=\"0010b5f0-aa1b-433e-90bc-ff6f930243d5\" style=\"display: none;\"><div style=\"display: table-cell;\"></div><div style=\"display: table-cell;\">x_range_name&nbsp;=&nbsp;'default',</div></div><div class=\"0010b5f0-aa1b-433e-90bc-ff6f930243d5\" style=\"display: none;\"><div style=\"display: table-cell;\"></div><div style=\"display: table-cell;\">y_range_name&nbsp;=&nbsp;'default')</div></div></div>\n",
       "<script>\n",
       "(function() {\n",
       "  var expanded = false;\n",
       "  var ellipsis = document.getElementById(\"b6c8e036-3f5d-4017-8f73-fd5c4dfa781b\");\n",
       "  ellipsis.addEventListener(\"click\", function() {\n",
       "    var rows = document.getElementsByClassName(\"0010b5f0-aa1b-433e-90bc-ff6f930243d5\");\n",
       "    for (var i = 0; i < rows.length; i++) {\n",
       "      var el = rows[i];\n",
       "      el.style.display = expanded ? \"none\" : \"table-row\";\n",
       "    }\n",
       "    ellipsis.innerHTML = expanded ? \"&hellip;)\" : \"&lsaquo;&lsaquo;&lsaquo;\";\n",
       "    expanded = !expanded;\n",
       "  });\n",
       "})();\n",
       "</script>\n"
      ],
      "text/plain": [
       "GlyphRenderer(id='bb4a5c50-9959-4e2a-8f1d-65a9e0178b95', ...)"
      ]
     },
     "execution_count": 20,
     "metadata": {},
     "output_type": "execute_result"
    }
   ],
   "source": [
    "# use circle glyph for our robberies_versus_narcotics figure object\n",
    "\n",
    "circle=Circle(x=\"robberies\", y=\"narcotics\", size=20, \n",
    "              fill_color=factor_cmap('districts', palette=colors, factors=districts_str), fill_alpha=0.5)\n",
    "plot_r_n.add_glyph(crimes_r_a_n_data,circle)"
   ]
  },
  {
   "cell_type": "code",
   "execution_count": 21,
   "metadata": {},
   "outputs": [
    {
     "data": {
      "text/html": [
       "<div style=\"display: table;\"><div style=\"display: table-row;\"><div style=\"display: table-cell;\"><b title=\"bokeh.models.renderers.GlyphRenderer\">GlyphRenderer</b>(</div><div style=\"display: table-cell;\">id&nbsp;=&nbsp;'335e9486-fdc2-49c0-aa59-545d4e432180', <span id=\"8ac1feed-fde7-42a6-95b6-6784438e3fae\" style=\"cursor: pointer;\">&hellip;)</span></div></div><div class=\"6109b42a-b328-4685-ae5d-899de9699963\" style=\"display: none;\"><div style=\"display: table-cell;\"></div><div style=\"display: table-cell;\">data_source&nbsp;=&nbsp;ColumnDataSource(id='b0aceee6-12e7-41e1-ae8a-259850c7190a', ...),</div></div><div class=\"6109b42a-b328-4685-ae5d-899de9699963\" style=\"display: none;\"><div style=\"display: table-cell;\"></div><div style=\"display: table-cell;\">glyph&nbsp;=&nbsp;Diamond(id='faeded74-5ed4-4579-beae-0c64b73ca21d', ...),</div></div><div class=\"6109b42a-b328-4685-ae5d-899de9699963\" style=\"display: none;\"><div style=\"display: table-cell;\"></div><div style=\"display: table-cell;\">hover_glyph&nbsp;=&nbsp;None,</div></div><div class=\"6109b42a-b328-4685-ae5d-899de9699963\" style=\"display: none;\"><div style=\"display: table-cell;\"></div><div style=\"display: table-cell;\">js_event_callbacks&nbsp;=&nbsp;{},</div></div><div class=\"6109b42a-b328-4685-ae5d-899de9699963\" style=\"display: none;\"><div style=\"display: table-cell;\"></div><div style=\"display: table-cell;\">js_property_callbacks&nbsp;=&nbsp;{},</div></div><div class=\"6109b42a-b328-4685-ae5d-899de9699963\" style=\"display: none;\"><div style=\"display: table-cell;\"></div><div style=\"display: table-cell;\">level&nbsp;=&nbsp;'glyph',</div></div><div class=\"6109b42a-b328-4685-ae5d-899de9699963\" style=\"display: none;\"><div style=\"display: table-cell;\"></div><div style=\"display: table-cell;\">muted&nbsp;=&nbsp;False,</div></div><div class=\"6109b42a-b328-4685-ae5d-899de9699963\" style=\"display: none;\"><div style=\"display: table-cell;\"></div><div style=\"display: table-cell;\">muted_glyph&nbsp;=&nbsp;None,</div></div><div class=\"6109b42a-b328-4685-ae5d-899de9699963\" style=\"display: none;\"><div style=\"display: table-cell;\"></div><div style=\"display: table-cell;\">name&nbsp;=&nbsp;None,</div></div><div class=\"6109b42a-b328-4685-ae5d-899de9699963\" style=\"display: none;\"><div style=\"display: table-cell;\"></div><div style=\"display: table-cell;\">nonselection_glyph&nbsp;=&nbsp;'auto',</div></div><div class=\"6109b42a-b328-4685-ae5d-899de9699963\" style=\"display: none;\"><div style=\"display: table-cell;\"></div><div style=\"display: table-cell;\">selection_glyph&nbsp;=&nbsp;'auto',</div></div><div class=\"6109b42a-b328-4685-ae5d-899de9699963\" style=\"display: none;\"><div style=\"display: table-cell;\"></div><div style=\"display: table-cell;\">subscribed_events&nbsp;=&nbsp;[],</div></div><div class=\"6109b42a-b328-4685-ae5d-899de9699963\" style=\"display: none;\"><div style=\"display: table-cell;\"></div><div style=\"display: table-cell;\">tags&nbsp;=&nbsp;[],</div></div><div class=\"6109b42a-b328-4685-ae5d-899de9699963\" style=\"display: none;\"><div style=\"display: table-cell;\"></div><div style=\"display: table-cell;\">view&nbsp;=&nbsp;CDSView(id='94681ab1-680a-48a9-8fb7-1cda562607bc', ...),</div></div><div class=\"6109b42a-b328-4685-ae5d-899de9699963\" style=\"display: none;\"><div style=\"display: table-cell;\"></div><div style=\"display: table-cell;\">visible&nbsp;=&nbsp;True,</div></div><div class=\"6109b42a-b328-4685-ae5d-899de9699963\" style=\"display: none;\"><div style=\"display: table-cell;\"></div><div style=\"display: table-cell;\">x_range_name&nbsp;=&nbsp;'default',</div></div><div class=\"6109b42a-b328-4685-ae5d-899de9699963\" style=\"display: none;\"><div style=\"display: table-cell;\"></div><div style=\"display: table-cell;\">y_range_name&nbsp;=&nbsp;'default')</div></div></div>\n",
       "<script>\n",
       "(function() {\n",
       "  var expanded = false;\n",
       "  var ellipsis = document.getElementById(\"8ac1feed-fde7-42a6-95b6-6784438e3fae\");\n",
       "  ellipsis.addEventListener(\"click\", function() {\n",
       "    var rows = document.getElementsByClassName(\"6109b42a-b328-4685-ae5d-899de9699963\");\n",
       "    for (var i = 0; i < rows.length; i++) {\n",
       "      var el = rows[i];\n",
       "      el.style.display = expanded ? \"none\" : \"table-row\";\n",
       "    }\n",
       "    ellipsis.innerHTML = expanded ? \"&hellip;)\" : \"&lsaquo;&lsaquo;&lsaquo;\";\n",
       "    expanded = !expanded;\n",
       "  });\n",
       "})();\n",
       "</script>\n"
      ],
      "text/plain": [
       "GlyphRenderer(id='335e9486-fdc2-49c0-aa59-545d4e432180', ...)"
      ]
     },
     "execution_count": 21,
     "metadata": {},
     "output_type": "execute_result"
    }
   ],
   "source": [
    "# use circle glyph for our narcotics_versus_assaults figure object\n",
    "\n",
    "diamond=Diamond(x=\"narcotics\", y=\"assaults\", size=20, \n",
    "              fill_color=factor_cmap('districts', palette=colors, factors=districts_str), fill_alpha=0.5)\n",
    "plot_r_a.add_glyph(crimes_r_a_n_data,diamond)"
   ]
  },
  {
   "cell_type": "code",
   "execution_count": 22,
   "metadata": {},
   "outputs": [
    {
     "data": {
      "text/html": [
       "<div style=\"display: table;\"><div style=\"display: table-row;\"><div style=\"display: table-cell;\"><b title=\"bokeh.models.renderers.GlyphRenderer\">GlyphRenderer</b>(</div><div style=\"display: table-cell;\">id&nbsp;=&nbsp;'2811d9a0-f414-4ac5-bb18-1653e6255221', <span id=\"e43626e6-c50a-4b24-881b-900522d02304\" style=\"cursor: pointer;\">&hellip;)</span></div></div><div class=\"c5759732-f752-470b-94e9-0b9dbd2ffdf0\" style=\"display: none;\"><div style=\"display: table-cell;\"></div><div style=\"display: table-cell;\">data_source&nbsp;=&nbsp;ColumnDataSource(id='b0aceee6-12e7-41e1-ae8a-259850c7190a', ...),</div></div><div class=\"c5759732-f752-470b-94e9-0b9dbd2ffdf0\" style=\"display: none;\"><div style=\"display: table-cell;\"></div><div style=\"display: table-cell;\">glyph&nbsp;=&nbsp;Cross(id='44de7adf-a2a4-4fe5-bbf2-a91a74dd98d3', ...),</div></div><div class=\"c5759732-f752-470b-94e9-0b9dbd2ffdf0\" style=\"display: none;\"><div style=\"display: table-cell;\"></div><div style=\"display: table-cell;\">hover_glyph&nbsp;=&nbsp;None,</div></div><div class=\"c5759732-f752-470b-94e9-0b9dbd2ffdf0\" style=\"display: none;\"><div style=\"display: table-cell;\"></div><div style=\"display: table-cell;\">js_event_callbacks&nbsp;=&nbsp;{},</div></div><div class=\"c5759732-f752-470b-94e9-0b9dbd2ffdf0\" style=\"display: none;\"><div style=\"display: table-cell;\"></div><div style=\"display: table-cell;\">js_property_callbacks&nbsp;=&nbsp;{},</div></div><div class=\"c5759732-f752-470b-94e9-0b9dbd2ffdf0\" style=\"display: none;\"><div style=\"display: table-cell;\"></div><div style=\"display: table-cell;\">level&nbsp;=&nbsp;'glyph',</div></div><div class=\"c5759732-f752-470b-94e9-0b9dbd2ffdf0\" style=\"display: none;\"><div style=\"display: table-cell;\"></div><div style=\"display: table-cell;\">muted&nbsp;=&nbsp;False,</div></div><div class=\"c5759732-f752-470b-94e9-0b9dbd2ffdf0\" style=\"display: none;\"><div style=\"display: table-cell;\"></div><div style=\"display: table-cell;\">muted_glyph&nbsp;=&nbsp;None,</div></div><div class=\"c5759732-f752-470b-94e9-0b9dbd2ffdf0\" style=\"display: none;\"><div style=\"display: table-cell;\"></div><div style=\"display: table-cell;\">name&nbsp;=&nbsp;None,</div></div><div class=\"c5759732-f752-470b-94e9-0b9dbd2ffdf0\" style=\"display: none;\"><div style=\"display: table-cell;\"></div><div style=\"display: table-cell;\">nonselection_glyph&nbsp;=&nbsp;'auto',</div></div><div class=\"c5759732-f752-470b-94e9-0b9dbd2ffdf0\" style=\"display: none;\"><div style=\"display: table-cell;\"></div><div style=\"display: table-cell;\">selection_glyph&nbsp;=&nbsp;'auto',</div></div><div class=\"c5759732-f752-470b-94e9-0b9dbd2ffdf0\" style=\"display: none;\"><div style=\"display: table-cell;\"></div><div style=\"display: table-cell;\">subscribed_events&nbsp;=&nbsp;[],</div></div><div class=\"c5759732-f752-470b-94e9-0b9dbd2ffdf0\" style=\"display: none;\"><div style=\"display: table-cell;\"></div><div style=\"display: table-cell;\">tags&nbsp;=&nbsp;[],</div></div><div class=\"c5759732-f752-470b-94e9-0b9dbd2ffdf0\" style=\"display: none;\"><div style=\"display: table-cell;\"></div><div style=\"display: table-cell;\">view&nbsp;=&nbsp;CDSView(id='0463dd52-9016-47c1-94a4-a76ee40e7aaa', ...),</div></div><div class=\"c5759732-f752-470b-94e9-0b9dbd2ffdf0\" style=\"display: none;\"><div style=\"display: table-cell;\"></div><div style=\"display: table-cell;\">visible&nbsp;=&nbsp;True,</div></div><div class=\"c5759732-f752-470b-94e9-0b9dbd2ffdf0\" style=\"display: none;\"><div style=\"display: table-cell;\"></div><div style=\"display: table-cell;\">x_range_name&nbsp;=&nbsp;'default',</div></div><div class=\"c5759732-f752-470b-94e9-0b9dbd2ffdf0\" style=\"display: none;\"><div style=\"display: table-cell;\"></div><div style=\"display: table-cell;\">y_range_name&nbsp;=&nbsp;'default')</div></div></div>\n",
       "<script>\n",
       "(function() {\n",
       "  var expanded = false;\n",
       "  var ellipsis = document.getElementById(\"e43626e6-c50a-4b24-881b-900522d02304\");\n",
       "  ellipsis.addEventListener(\"click\", function() {\n",
       "    var rows = document.getElementsByClassName(\"c5759732-f752-470b-94e9-0b9dbd2ffdf0\");\n",
       "    for (var i = 0; i < rows.length; i++) {\n",
       "      var el = rows[i];\n",
       "      el.style.display = expanded ? \"none\" : \"table-row\";\n",
       "    }\n",
       "    ellipsis.innerHTML = expanded ? \"&hellip;)\" : \"&lsaquo;&lsaquo;&lsaquo;\";\n",
       "    expanded = !expanded;\n",
       "  });\n",
       "})();\n",
       "</script>\n"
      ],
      "text/plain": [
       "GlyphRenderer(id='2811d9a0-f414-4ac5-bb18-1653e6255221', ...)"
      ]
     },
     "execution_count": 22,
     "metadata": {},
     "output_type": "execute_result"
    }
   ],
   "source": [
    "# use circle glyph for our robberies_versus_assaults figure object\n",
    "\n",
    "cross=Cross(x=\"robberies\", y=\"homicides\", size=20, \n",
    "              fill_color=factor_cmap('districts', palette=colors, factors=districts_str), fill_alpha=0.5)\n",
    "plot_r_h.add_glyph(crimes_r_a_n_data,cross)"
   ]
  },
  {
   "cell_type": "code",
   "execution_count": 23,
   "metadata": {
    "collapsed": true
   },
   "outputs": [],
   "source": [
    "# customize the legend\n",
    "plot_r_n.legend.location = 'bottom_right'\n",
    "plot_r_n.legend.background_fill_color = 'lightgrey'"
   ]
  },
  {
   "cell_type": "code",
   "execution_count": 24,
   "metadata": {
    "collapsed": true
   },
   "outputs": [],
   "source": [
    "# customize the legend\n",
    "plot_r_a.legend.location = 'bottom_right'\n",
    "plot_r_a.legend.background_fill_color = 'lightgrey'"
   ]
  },
  {
   "cell_type": "code",
   "execution_count": 25,
   "metadata": {
    "collapsed": true
   },
   "outputs": [],
   "source": [
    "# customize the legend\n",
    "plot_r_h.legend.location = 'bottom_right'\n",
    "plot_r_h.legend.background_fill_color = 'lightgrey'"
   ]
  },
  {
   "cell_type": "code",
   "execution_count": 26,
   "metadata": {
    "collapsed": true
   },
   "outputs": [],
   "source": [
    "# customize the Hover tool\n",
    "hover_r_n = HoverTool(tooltips = \n",
    "                  [(\"District Number\", \"@districts\"),\n",
    "                 (\"Number of Robberies\", \"@robberies\"),\n",
    "                (\"Number of Narcotics\", \"@narcotics\"),])\n",
    "plot_r_n.add_tools(hover_r_n)"
   ]
  },
  {
   "cell_type": "code",
   "execution_count": 27,
   "metadata": {
    "collapsed": true
   },
   "outputs": [],
   "source": [
    "# customize the Hover tool\n",
    "hover_r_a = HoverTool(tooltips = \n",
    "                  [(\"District Number\", \"@districts\"),\n",
    "                 (\"Number of Robberies\", \"@robberies\"),\n",
    "                (\"Number of Assaults\", \"@assaults\"),])\n",
    "plot_r_a.add_tools(hover_r_a)"
   ]
  },
  {
   "cell_type": "code",
   "execution_count": 28,
   "metadata": {
    "collapsed": true
   },
   "outputs": [],
   "source": [
    "# customize the Hover tool\n",
    "hover_r_h = HoverTool(tooltips = \n",
    "                  [(\"District Number\", \"@districts\"),\n",
    "                 (\"Number of Robberies\", \"@robberies\"),\n",
    "                (\"Number of Homicides\", \"@homicides\"),])\n",
    "plot_r_h.add_tools(hover_r_h)"
   ]
  },
  {
   "cell_type": "code",
   "execution_count": 29,
   "metadata": {
    "collapsed": true
   },
   "outputs": [],
   "source": [
    "# show the result\n",
    "#show(row(plot_r_n, plot_r_a, plot_r_h))"
   ]
  },
  {
   "cell_type": "code",
   "execution_count": 30,
   "metadata": {
    "collapsed": true
   },
   "outputs": [],
   "source": [
    "# correlate the plots with each other - 3rd phase\n",
    "plot_r_a.x_range = plot_r_n.x_range\n",
    "plot_r_h.x_range = plot_r_n.x_range"
   ]
  },
  {
   "cell_type": "code",
   "execution_count": 31,
   "metadata": {
    "collapsed": true
   },
   "outputs": [],
   "source": [
    "# show the result - 2nd phase\n",
    "show(row(column(plot_r_n, plot_r_a),column(plot_r_h)))"
   ]
  },
  {
   "cell_type": "code",
   "execution_count": null,
   "metadata": {
    "collapsed": true
   },
   "outputs": [],
   "source": []
  },
  {
   "cell_type": "code",
   "execution_count": null,
   "metadata": {
    "collapsed": true
   },
   "outputs": [],
   "source": []
  },
  {
   "cell_type": "code",
   "execution_count": 34,
   "metadata": {},
   "outputs": [
    {
     "data": {
      "text/html": [
       "\n",
       "    <div class=\"bk-root\">\n",
       "        <a href=\"https://bokeh.pydata.org\" target=\"_blank\" class=\"bk-logo bk-logo-small bk-logo-notebook\"></a>\n",
       "        <span id=\"7fdf463f-bf49-4d5a-aa38-a5a6ede95a71\">Loading BokehJS ...</span>\n",
       "    </div>"
      ]
     },
     "metadata": {},
     "output_type": "display_data"
    },
    {
     "data": {
      "application/javascript": [
       "\n",
       "(function(root) {\n",
       "  function now() {\n",
       "    return new Date();\n",
       "  }\n",
       "\n",
       "  var force = true;\n",
       "\n",
       "  if (typeof (root._bokeh_onload_callbacks) === \"undefined\" || force === true) {\n",
       "    root._bokeh_onload_callbacks = [];\n",
       "    root._bokeh_is_loading = undefined;\n",
       "  }\n",
       "\n",
       "  var JS_MIME_TYPE = 'application/javascript';\n",
       "  var HTML_MIME_TYPE = 'text/html';\n",
       "  var EXEC_MIME_TYPE = 'application/vnd.bokehjs_exec.v0+json';\n",
       "  var CLASS_NAME = 'output_bokeh rendered_html';\n",
       "\n",
       "  /**\n",
       "   * Render data to the DOM node\n",
       "   */\n",
       "  function render(props, node) {\n",
       "    var script = document.createElement(\"script\");\n",
       "    node.appendChild(script);\n",
       "  }\n",
       "\n",
       "  /**\n",
       "   * Handle when an output is cleared or removed\n",
       "   */\n",
       "  function handleClearOutput(event, handle) {\n",
       "    var cell = handle.cell;\n",
       "\n",
       "    var id = cell.output_area._bokeh_element_id;\n",
       "    var server_id = cell.output_area._bokeh_server_id;\n",
       "    // Clean up Bokeh references\n",
       "    if (id !== undefined) {\n",
       "      Bokeh.index[id].model.document.clear();\n",
       "      delete Bokeh.index[id];\n",
       "    }\n",
       "\n",
       "    if (server_id !== undefined) {\n",
       "      // Clean up Bokeh references\n",
       "      var cmd = \"from bokeh.io.state import curstate; print(curstate().uuid_to_server['\" + server_id + \"'].get_sessions()[0].document.roots[0]._id)\";\n",
       "      cell.notebook.kernel.execute(cmd, {\n",
       "        iopub: {\n",
       "          output: function(msg) {\n",
       "            var element_id = msg.content.text.trim();\n",
       "            Bokeh.index[element_id].model.document.clear();\n",
       "            delete Bokeh.index[element_id];\n",
       "          }\n",
       "        }\n",
       "      });\n",
       "      // Destroy server and session\n",
       "      var cmd = \"import bokeh.io.notebook as ion; ion.destroy_server('\" + server_id + \"')\";\n",
       "      cell.notebook.kernel.execute(cmd);\n",
       "    }\n",
       "  }\n",
       "\n",
       "  /**\n",
       "   * Handle when a new output is added\n",
       "   */\n",
       "  function handleAddOutput(event, handle) {\n",
       "    var output_area = handle.output_area;\n",
       "    var output = handle.output;\n",
       "\n",
       "    // limit handleAddOutput to display_data with EXEC_MIME_TYPE content only\n",
       "    if ((output.output_type != \"display_data\") || (!output.data.hasOwnProperty(EXEC_MIME_TYPE))) {\n",
       "      return\n",
       "    }\n",
       "\n",
       "    var toinsert = output_area.element.find(`.${CLASS_NAME.split(' ')[0]}`);\n",
       "\n",
       "    if (output.metadata[EXEC_MIME_TYPE][\"id\"] !== undefined) {\n",
       "      toinsert[0].firstChild.textContent = output.data[JS_MIME_TYPE];\n",
       "      // store reference to embed id on output_area\n",
       "      output_area._bokeh_element_id = output.metadata[EXEC_MIME_TYPE][\"id\"];\n",
       "    }\n",
       "    if (output.metadata[EXEC_MIME_TYPE][\"server_id\"] !== undefined) {\n",
       "      var bk_div = document.createElement(\"div\");\n",
       "      bk_div.innerHTML = output.data[HTML_MIME_TYPE];\n",
       "      var script_attrs = bk_div.children[0].attributes;\n",
       "      for (var i = 0; i < script_attrs.length; i++) {\n",
       "        toinsert[0].firstChild.setAttribute(script_attrs[i].name, script_attrs[i].value);\n",
       "      }\n",
       "      // store reference to server id on output_area\n",
       "      output_area._bokeh_server_id = output.metadata[EXEC_MIME_TYPE][\"server_id\"];\n",
       "    }\n",
       "  }\n",
       "\n",
       "  function register_renderer(events, OutputArea) {\n",
       "\n",
       "    function append_mime(data, metadata, element) {\n",
       "      // create a DOM node to render to\n",
       "      var toinsert = this.create_output_subarea(\n",
       "        metadata,\n",
       "        CLASS_NAME,\n",
       "        EXEC_MIME_TYPE\n",
       "      );\n",
       "      this.keyboard_manager.register_events(toinsert);\n",
       "      // Render to node\n",
       "      var props = {data: data, metadata: metadata[EXEC_MIME_TYPE]};\n",
       "      render(props, toinsert[0]);\n",
       "      element.append(toinsert);\n",
       "      return toinsert\n",
       "    }\n",
       "\n",
       "    /* Handle when an output is cleared or removed */\n",
       "    events.on('clear_output.CodeCell', handleClearOutput);\n",
       "    events.on('delete.Cell', handleClearOutput);\n",
       "\n",
       "    /* Handle when a new output is added */\n",
       "    events.on('output_added.OutputArea', handleAddOutput);\n",
       "\n",
       "    /**\n",
       "     * Register the mime type and append_mime function with output_area\n",
       "     */\n",
       "    OutputArea.prototype.register_mime_type(EXEC_MIME_TYPE, append_mime, {\n",
       "      /* Is output safe? */\n",
       "      safe: true,\n",
       "      /* Index of renderer in `output_area.display_order` */\n",
       "      index: 0\n",
       "    });\n",
       "  }\n",
       "\n",
       "  // register the mime type if in Jupyter Notebook environment and previously unregistered\n",
       "  if (root.Jupyter !== undefined) {\n",
       "    var events = require('base/js/events');\n",
       "    var OutputArea = require('notebook/js/outputarea').OutputArea;\n",
       "\n",
       "    if (OutputArea.prototype.mime_types().indexOf(EXEC_MIME_TYPE) == -1) {\n",
       "      register_renderer(events, OutputArea);\n",
       "    }\n",
       "  }\n",
       "\n",
       "  \n",
       "  if (typeof (root._bokeh_timeout) === \"undefined\" || force === true) {\n",
       "    root._bokeh_timeout = Date.now() + 5000;\n",
       "    root._bokeh_failed_load = false;\n",
       "  }\n",
       "\n",
       "  var NB_LOAD_WARNING = {'data': {'text/html':\n",
       "     \"<div style='background-color: #fdd'>\\n\"+\n",
       "     \"<p>\\n\"+\n",
       "     \"BokehJS does not appear to have successfully loaded. If loading BokehJS from CDN, this \\n\"+\n",
       "     \"may be due to a slow or bad network connection. Possible fixes:\\n\"+\n",
       "     \"</p>\\n\"+\n",
       "     \"<ul>\\n\"+\n",
       "     \"<li>re-rerun `output_notebook()` to attempt to load from CDN again, or</li>\\n\"+\n",
       "     \"<li>use INLINE resources instead, as so:</li>\\n\"+\n",
       "     \"</ul>\\n\"+\n",
       "     \"<code>\\n\"+\n",
       "     \"from bokeh.resources import INLINE\\n\"+\n",
       "     \"output_notebook(resources=INLINE)\\n\"+\n",
       "     \"</code>\\n\"+\n",
       "     \"</div>\"}};\n",
       "\n",
       "  function display_loaded() {\n",
       "    var el = document.getElementById(\"7fdf463f-bf49-4d5a-aa38-a5a6ede95a71\");\n",
       "    if (el != null) {\n",
       "      el.textContent = \"BokehJS is loading...\";\n",
       "    }\n",
       "    if (root.Bokeh !== undefined) {\n",
       "      if (el != null) {\n",
       "        el.textContent = \"BokehJS \" + root.Bokeh.version + \" successfully loaded.\";\n",
       "      }\n",
       "    } else if (Date.now() < root._bokeh_timeout) {\n",
       "      setTimeout(display_loaded, 100)\n",
       "    }\n",
       "  }\n",
       "\n",
       "\n",
       "  function run_callbacks() {\n",
       "    try {\n",
       "      root._bokeh_onload_callbacks.forEach(function(callback) { callback() });\n",
       "    }\n",
       "    finally {\n",
       "      delete root._bokeh_onload_callbacks\n",
       "    }\n",
       "    console.info(\"Bokeh: all callbacks have finished\");\n",
       "  }\n",
       "\n",
       "  function load_libs(js_urls, callback) {\n",
       "    root._bokeh_onload_callbacks.push(callback);\n",
       "    if (root._bokeh_is_loading > 0) {\n",
       "      console.log(\"Bokeh: BokehJS is being loaded, scheduling callback at\", now());\n",
       "      return null;\n",
       "    }\n",
       "    if (js_urls == null || js_urls.length === 0) {\n",
       "      run_callbacks();\n",
       "      return null;\n",
       "    }\n",
       "    console.log(\"Bokeh: BokehJS not loaded, scheduling load and callback at\", now());\n",
       "    root._bokeh_is_loading = js_urls.length;\n",
       "    for (var i = 0; i < js_urls.length; i++) {\n",
       "      var url = js_urls[i];\n",
       "      var s = document.createElement('script');\n",
       "      s.src = url;\n",
       "      s.async = false;\n",
       "      s.onreadystatechange = s.onload = function() {\n",
       "        root._bokeh_is_loading--;\n",
       "        if (root._bokeh_is_loading === 0) {\n",
       "          console.log(\"Bokeh: all BokehJS libraries loaded\");\n",
       "          run_callbacks()\n",
       "        }\n",
       "      };\n",
       "      s.onerror = function() {\n",
       "        console.warn(\"failed to load library \" + url);\n",
       "      };\n",
       "      console.log(\"Bokeh: injecting script tag for BokehJS library: \", url);\n",
       "      document.getElementsByTagName(\"head\")[0].appendChild(s);\n",
       "    }\n",
       "  };var element = document.getElementById(\"7fdf463f-bf49-4d5a-aa38-a5a6ede95a71\");\n",
       "  if (element == null) {\n",
       "    console.log(\"Bokeh: ERROR: autoload.js configured with elementid '7fdf463f-bf49-4d5a-aa38-a5a6ede95a71' but no matching script tag was found. \")\n",
       "    return false;\n",
       "  }\n",
       "\n",
       "  var js_urls = [\"https://cdn.pydata.org/bokeh/release/bokeh-0.12.10.min.js\", \"https://cdn.pydata.org/bokeh/release/bokeh-widgets-0.12.10.min.js\", \"https://cdn.pydata.org/bokeh/release/bokeh-tables-0.12.10.min.js\", \"https://cdn.pydata.org/bokeh/release/bokeh-gl-0.12.10.min.js\"];\n",
       "\n",
       "  var inline_js = [\n",
       "    function(Bokeh) {\n",
       "      Bokeh.set_log_level(\"info\");\n",
       "    },\n",
       "    \n",
       "    function(Bokeh) {\n",
       "      \n",
       "    },\n",
       "    function(Bokeh) {\n",
       "      console.log(\"Bokeh: injecting CSS: https://cdn.pydata.org/bokeh/release/bokeh-0.12.10.min.css\");\n",
       "      Bokeh.embed.inject_css(\"https://cdn.pydata.org/bokeh/release/bokeh-0.12.10.min.css\");\n",
       "      console.log(\"Bokeh: injecting CSS: https://cdn.pydata.org/bokeh/release/bokeh-widgets-0.12.10.min.css\");\n",
       "      Bokeh.embed.inject_css(\"https://cdn.pydata.org/bokeh/release/bokeh-widgets-0.12.10.min.css\");\n",
       "      console.log(\"Bokeh: injecting CSS: https://cdn.pydata.org/bokeh/release/bokeh-tables-0.12.10.min.css\");\n",
       "      Bokeh.embed.inject_css(\"https://cdn.pydata.org/bokeh/release/bokeh-tables-0.12.10.min.css\");\n",
       "    }\n",
       "  ];\n",
       "\n",
       "  function run_inline_js() {\n",
       "    \n",
       "    if ((root.Bokeh !== undefined) || (force === true)) {\n",
       "      for (var i = 0; i < inline_js.length; i++) {\n",
       "        inline_js[i].call(root, root.Bokeh);\n",
       "      }if (force === true) {\n",
       "        display_loaded();\n",
       "      }} else if (Date.now() < root._bokeh_timeout) {\n",
       "      setTimeout(run_inline_js, 100);\n",
       "    } else if (!root._bokeh_failed_load) {\n",
       "      console.log(\"Bokeh: BokehJS failed to load within specified timeout.\");\n",
       "      root._bokeh_failed_load = true;\n",
       "    } else if (force !== true) {\n",
       "      var cell = $(document.getElementById(\"7fdf463f-bf49-4d5a-aa38-a5a6ede95a71\")).parents('.cell').data().cell;\n",
       "      cell.output_area.append_execute_result(NB_LOAD_WARNING)\n",
       "    }\n",
       "\n",
       "  }\n",
       "\n",
       "  if (root._bokeh_is_loading === 0) {\n",
       "    console.log(\"Bokeh: BokehJS loaded, going straight to plotting\");\n",
       "    run_inline_js();\n",
       "  } else {\n",
       "    load_libs(js_urls, function() {\n",
       "      console.log(\"Bokeh: BokehJS plotting callback run at\", now());\n",
       "      run_inline_js();\n",
       "    });\n",
       "  }\n",
       "}(window));"
      ],
      "application/vnd.bokehjs_load.v0+json": "\n(function(root) {\n  function now() {\n    return new Date();\n  }\n\n  var force = true;\n\n  if (typeof (root._bokeh_onload_callbacks) === \"undefined\" || force === true) {\n    root._bokeh_onload_callbacks = [];\n    root._bokeh_is_loading = undefined;\n  }\n\n  \n\n  \n  if (typeof (root._bokeh_timeout) === \"undefined\" || force === true) {\n    root._bokeh_timeout = Date.now() + 5000;\n    root._bokeh_failed_load = false;\n  }\n\n  var NB_LOAD_WARNING = {'data': {'text/html':\n     \"<div style='background-color: #fdd'>\\n\"+\n     \"<p>\\n\"+\n     \"BokehJS does not appear to have successfully loaded. If loading BokehJS from CDN, this \\n\"+\n     \"may be due to a slow or bad network connection. Possible fixes:\\n\"+\n     \"</p>\\n\"+\n     \"<ul>\\n\"+\n     \"<li>re-rerun `output_notebook()` to attempt to load from CDN again, or</li>\\n\"+\n     \"<li>use INLINE resources instead, as so:</li>\\n\"+\n     \"</ul>\\n\"+\n     \"<code>\\n\"+\n     \"from bokeh.resources import INLINE\\n\"+\n     \"output_notebook(resources=INLINE)\\n\"+\n     \"</code>\\n\"+\n     \"</div>\"}};\n\n  function display_loaded() {\n    var el = document.getElementById(\"7fdf463f-bf49-4d5a-aa38-a5a6ede95a71\");\n    if (el != null) {\n      el.textContent = \"BokehJS is loading...\";\n    }\n    if (root.Bokeh !== undefined) {\n      if (el != null) {\n        el.textContent = \"BokehJS \" + root.Bokeh.version + \" successfully loaded.\";\n      }\n    } else if (Date.now() < root._bokeh_timeout) {\n      setTimeout(display_loaded, 100)\n    }\n  }\n\n\n  function run_callbacks() {\n    try {\n      root._bokeh_onload_callbacks.forEach(function(callback) { callback() });\n    }\n    finally {\n      delete root._bokeh_onload_callbacks\n    }\n    console.info(\"Bokeh: all callbacks have finished\");\n  }\n\n  function load_libs(js_urls, callback) {\n    root._bokeh_onload_callbacks.push(callback);\n    if (root._bokeh_is_loading > 0) {\n      console.log(\"Bokeh: BokehJS is being loaded, scheduling callback at\", now());\n      return null;\n    }\n    if (js_urls == null || js_urls.length === 0) {\n      run_callbacks();\n      return null;\n    }\n    console.log(\"Bokeh: BokehJS not loaded, scheduling load and callback at\", now());\n    root._bokeh_is_loading = js_urls.length;\n    for (var i = 0; i < js_urls.length; i++) {\n      var url = js_urls[i];\n      var s = document.createElement('script');\n      s.src = url;\n      s.async = false;\n      s.onreadystatechange = s.onload = function() {\n        root._bokeh_is_loading--;\n        if (root._bokeh_is_loading === 0) {\n          console.log(\"Bokeh: all BokehJS libraries loaded\");\n          run_callbacks()\n        }\n      };\n      s.onerror = function() {\n        console.warn(\"failed to load library \" + url);\n      };\n      console.log(\"Bokeh: injecting script tag for BokehJS library: \", url);\n      document.getElementsByTagName(\"head\")[0].appendChild(s);\n    }\n  };var element = document.getElementById(\"7fdf463f-bf49-4d5a-aa38-a5a6ede95a71\");\n  if (element == null) {\n    console.log(\"Bokeh: ERROR: autoload.js configured with elementid '7fdf463f-bf49-4d5a-aa38-a5a6ede95a71' but no matching script tag was found. \")\n    return false;\n  }\n\n  var js_urls = [\"https://cdn.pydata.org/bokeh/release/bokeh-0.12.10.min.js\", \"https://cdn.pydata.org/bokeh/release/bokeh-widgets-0.12.10.min.js\", \"https://cdn.pydata.org/bokeh/release/bokeh-tables-0.12.10.min.js\", \"https://cdn.pydata.org/bokeh/release/bokeh-gl-0.12.10.min.js\"];\n\n  var inline_js = [\n    function(Bokeh) {\n      Bokeh.set_log_level(\"info\");\n    },\n    \n    function(Bokeh) {\n      \n    },\n    function(Bokeh) {\n      console.log(\"Bokeh: injecting CSS: https://cdn.pydata.org/bokeh/release/bokeh-0.12.10.min.css\");\n      Bokeh.embed.inject_css(\"https://cdn.pydata.org/bokeh/release/bokeh-0.12.10.min.css\");\n      console.log(\"Bokeh: injecting CSS: https://cdn.pydata.org/bokeh/release/bokeh-widgets-0.12.10.min.css\");\n      Bokeh.embed.inject_css(\"https://cdn.pydata.org/bokeh/release/bokeh-widgets-0.12.10.min.css\");\n      console.log(\"Bokeh: injecting CSS: https://cdn.pydata.org/bokeh/release/bokeh-tables-0.12.10.min.css\");\n      Bokeh.embed.inject_css(\"https://cdn.pydata.org/bokeh/release/bokeh-tables-0.12.10.min.css\");\n    }\n  ];\n\n  function run_inline_js() {\n    \n    if ((root.Bokeh !== undefined) || (force === true)) {\n      for (var i = 0; i < inline_js.length; i++) {\n        inline_js[i].call(root, root.Bokeh);\n      }if (force === true) {\n        display_loaded();\n      }} else if (Date.now() < root._bokeh_timeout) {\n      setTimeout(run_inline_js, 100);\n    } else if (!root._bokeh_failed_load) {\n      console.log(\"Bokeh: BokehJS failed to load within specified timeout.\");\n      root._bokeh_failed_load = true;\n    } else if (force !== true) {\n      var cell = $(document.getElementById(\"7fdf463f-bf49-4d5a-aa38-a5a6ede95a71\")).parents('.cell').data().cell;\n      cell.output_area.append_execute_result(NB_LOAD_WARNING)\n    }\n\n  }\n\n  if (root._bokeh_is_loading === 0) {\n    console.log(\"Bokeh: BokehJS loaded, going straight to plotting\");\n    run_inline_js();\n  } else {\n    load_libs(js_urls, function() {\n      console.log(\"Bokeh: BokehJS plotting callback run at\", now());\n      run_inline_js();\n    });\n  }\n}(window));"
     },
     "metadata": {},
     "output_type": "display_data"
    },
    {
     "data": {
      "text/html": [
       "\n",
       "<div class=\"bk-root\">\n",
       "    <div class=\"bk-plotdiv\" id=\"158b2c39-9be4-4ca3-9afb-5f2fb8d59fc8\"></div>\n",
       "</div>"
      ]
     },
     "metadata": {},
     "output_type": "display_data"
    },
    {
     "data": {
      "application/javascript": [
       "(function(root) {\n",
       "  function embed_document(root) {\n",
       "    var docs_json = {\"8cc6e6dd-f54e-4f1c-bd82-b961abec1154\":{\"roots\":{\"references\":[{\"attributes\":{\"factors\":[\"1\",\"2\",\"3\",\"4\",\"5\",\"6\",\"7\",\"8\",\"9\",\"10\",\"11\",\"12\",\"14\",\"15\",\"16\",\"17\",\"18\",\"19\",\"20\",\"22\",\"24\",\"25\"],\"palette\":[\"#9a3f52\",\"#7647bf\",\"#be38c7\",\"#b74fba\",\"#443ca5\",\"#e58848\",\"#828825\",\"#439c3a\",\"#b63d5e\",\"#4e73be\",\"#65cd82\",\"#f4324d\",\"#f325c4\",\"#cce312\",\"#7b2abf\",\"#6c4738\",\"#5a986c\",\"#7aa79a\",\"#6ea48e\",\"#67527e\",\"#4b491d\",\"#5c352d\"]},\"id\":\"a09ee94f-e4b3-4fbe-ba25-d31f62db3bc0\",\"type\":\"CategoricalColorMapper\"},{\"attributes\":{\"callback\":null,\"tooltips\":[[\"District Number\",\"@districts\"],[\"Number of Robberies\",\"@robberies\"],[\"Number of Narcotics\",\"@narcotics\"]]},\"id\":\"390ad534-8730-42c3-ae39-9026277ac9bc\",\"type\":\"HoverTool\"},{\"attributes\":{\"plot\":{\"id\":\"5b4f40b3-b064-4475-95e4-0e33d77349d5\",\"subtype\":\"Figure\",\"type\":\"Plot\"},\"ticker\":{\"id\":\"9e6a965e-2e96-4344-a039-b3925b6aba2f\",\"type\":\"BasicTicker\"}},\"id\":\"81704c86-4e32-4247-8025-175fa3478302\",\"type\":\"Grid\"},{\"attributes\":{\"fill_alpha\":{\"value\":0.5},\"fill_color\":{\"field\":\"districts\",\"transform\":{\"id\":\"a09ee94f-e4b3-4fbe-ba25-d31f62db3bc0\",\"type\":\"CategoricalColorMapper\"}},\"size\":{\"units\":\"screen\",\"value\":20},\"x\":{\"field\":\"robberies\"},\"y\":{\"field\":\"homicides\"}},\"id\":\"44de7adf-a2a4-4fe5-bbf2-a91a74dd98d3\",\"type\":\"Cross\"},{\"attributes\":{\"fill_alpha\":{\"value\":0.5},\"fill_color\":{\"field\":\"districts\",\"transform\":{\"id\":\"33de7c3a-24e9-444f-bae0-5340a13fcff1\",\"type\":\"CategoricalColorMapper\"}},\"size\":{\"units\":\"screen\",\"value\":20},\"x\":{\"field\":\"robberies\"},\"y\":{\"field\":\"narcotics\"}},\"id\":\"82d09856-77c2-44ff-840e-a50ebaea53c9\",\"type\":\"Circle\"},{\"attributes\":{},\"id\":\"2958f14a-b83b-4cac-b185-603f63b163cb\",\"type\":\"SaveTool\"},{\"attributes\":{},\"id\":\"b0ae0c96-9a8f-4b71-b15c-3a5881beb415\",\"type\":\"BasicTickFormatter\"},{\"attributes\":{},\"id\":\"35d0f5f4-2f93-4bcb-bd1e-e738d643a27e\",\"type\":\"SaveTool\"},{\"attributes\":{\"active_drag\":\"auto\",\"active_inspect\":\"auto\",\"active_scroll\":\"auto\",\"active_tap\":\"auto\",\"tools\":[{\"id\":\"00db9978-0e55-4e16-a764-b3ae75a9be7c\",\"type\":\"PanTool\"},{\"id\":\"c35fe2a3-3546-4fc9-9c12-3758600f00f2\",\"type\":\"WheelZoomTool\"},{\"id\":\"5623260b-5fe7-4a6e-a32b-537f7e475ba1\",\"type\":\"BoxZoomTool\"},{\"id\":\"f3f99d5c-979d-4e3b-8ed7-da560dea86fe\",\"type\":\"ResetTool\"},{\"id\":\"35d0f5f4-2f93-4bcb-bd1e-e738d643a27e\",\"type\":\"SaveTool\"},{\"id\":\"37603ed3-ddea-4991-a6e9-1cde97c3bc84\",\"type\":\"HoverTool\"}]},\"id\":\"650261ac-fd5d-481a-a8b2-e96f3c682cd6\",\"type\":\"Toolbar\"},{\"attributes\":{},\"id\":\"19a112fb-99cb-4c36-b55b-93706e13e08a\",\"type\":\"LinearScale\"},{\"attributes\":{\"plot\":null,\"text\":\"Number of Robberies versus Number of Homicides in Chicago\"},\"id\":\"52516684-76a3-4808-94de-5d55dce3777b\",\"type\":\"Title\"},{\"attributes\":{\"callback\":null},\"id\":\"3c7380d4-f2c1-4cfc-8469-b32270cc9f44\",\"type\":\"DataRange1d\"},{\"attributes\":{\"factors\":[\"1\",\"2\",\"3\",\"4\",\"5\",\"6\",\"7\",\"8\",\"9\",\"10\",\"11\",\"12\",\"14\",\"15\",\"16\",\"17\",\"18\",\"19\",\"20\",\"22\",\"24\",\"25\"],\"palette\":[\"#9a3f52\",\"#7647bf\",\"#be38c7\",\"#b74fba\",\"#443ca5\",\"#e58848\",\"#828825\",\"#439c3a\",\"#b63d5e\",\"#4e73be\",\"#65cd82\",\"#f4324d\",\"#f325c4\",\"#cce312\",\"#7b2abf\",\"#6c4738\",\"#5a986c\",\"#7aa79a\",\"#6ea48e\",\"#67527e\",\"#4b491d\",\"#5c352d\"]},\"id\":\"1335515b-9662-4720-9919-24e85ddb4b18\",\"type\":\"CategoricalColorMapper\"},{\"attributes\":{},\"id\":\"72d22ab7-73bb-48aa-8884-521cbce0f45c\",\"type\":\"BasicTickFormatter\"},{\"attributes\":{\"below\":[{\"id\":\"5ceae0ef-d2ca-49ba-813f-89218a9f360f\",\"type\":\"LinearAxis\"}],\"left\":[{\"id\":\"0e51e1f4-31ce-4c08-b86f-20f8bc721edd\",\"type\":\"LinearAxis\"}],\"renderers\":[{\"id\":\"5ceae0ef-d2ca-49ba-813f-89218a9f360f\",\"type\":\"LinearAxis\"},{\"id\":\"81704c86-4e32-4247-8025-175fa3478302\",\"type\":\"Grid\"},{\"id\":\"0e51e1f4-31ce-4c08-b86f-20f8bc721edd\",\"type\":\"LinearAxis\"},{\"id\":\"7c287084-ebd6-441b-8046-b77f4b6b9133\",\"type\":\"Grid\"},{\"id\":\"1f72a6c8-7448-43df-b47b-6bb0ad6e3b08\",\"type\":\"BoxAnnotation\"},{\"id\":\"2811d9a0-f414-4ac5-bb18-1653e6255221\",\"type\":\"GlyphRenderer\"}],\"title\":{\"id\":\"52516684-76a3-4808-94de-5d55dce3777b\",\"type\":\"Title\"},\"toolbar\":{\"id\":\"650261ac-fd5d-481a-a8b2-e96f3c682cd6\",\"type\":\"Toolbar\"},\"x_range\":{\"id\":\"08f43508-1faa-4c65-be69-c035ec8b3127\",\"type\":\"DataRange1d\"},\"x_scale\":{\"id\":\"19a112fb-99cb-4c36-b55b-93706e13e08a\",\"type\":\"LinearScale\"},\"y_range\":{\"id\":\"3c7380d4-f2c1-4cfc-8469-b32270cc9f44\",\"type\":\"DataRange1d\"},\"y_scale\":{\"id\":\"2b01ab83-0641-4835-8f30-06978ea60c4c\",\"type\":\"LinearScale\"}},\"id\":\"5b4f40b3-b064-4475-95e4-0e33d77349d5\",\"subtype\":\"Figure\",\"type\":\"Plot\"},{\"attributes\":{\"overlay\":{\"id\":\"1f72a6c8-7448-43df-b47b-6bb0ad6e3b08\",\"type\":\"BoxAnnotation\"}},\"id\":\"5623260b-5fe7-4a6e-a32b-537f7e475ba1\",\"type\":\"BoxZoomTool\"},{\"attributes\":{\"dimension\":1,\"plot\":{\"id\":\"8456bffd-85f1-43bb-9bd8-6a9b18e1f4b2\",\"subtype\":\"Figure\",\"type\":\"Plot\"},\"ticker\":{\"id\":\"64886725-f369-4490-87c3-8a135ba236e5\",\"type\":\"BasicTicker\"}},\"id\":\"d4d3cb78-c76e-42c4-9d85-79d20f3bb150\",\"type\":\"Grid\"},{\"attributes\":{\"source\":{\"id\":\"b0aceee6-12e7-41e1-ae8a-259850c7190a\",\"type\":\"ColumnDataSource\"}},\"id\":\"0463dd52-9016-47c1-94a4-a76ee40e7aaa\",\"type\":\"CDSView\"},{\"attributes\":{\"factors\":[\"1\",\"2\",\"3\",\"4\",\"5\",\"6\",\"7\",\"8\",\"9\",\"10\",\"11\",\"12\",\"14\",\"15\",\"16\",\"17\",\"18\",\"19\",\"20\",\"22\",\"24\",\"25\"],\"palette\":[\"#9a3f52\",\"#7647bf\",\"#be38c7\",\"#b74fba\",\"#443ca5\",\"#e58848\",\"#828825\",\"#439c3a\",\"#b63d5e\",\"#4e73be\",\"#65cd82\",\"#f4324d\",\"#f325c4\",\"#cce312\",\"#7b2abf\",\"#6c4738\",\"#5a986c\",\"#7aa79a\",\"#6ea48e\",\"#67527e\",\"#4b491d\",\"#5c352d\"]},\"id\":\"33de7c3a-24e9-444f-bae0-5340a13fcff1\",\"type\":\"CategoricalColorMapper\"},{\"attributes\":{},\"id\":\"9e6a965e-2e96-4344-a039-b3925b6aba2f\",\"type\":\"BasicTicker\"},{\"attributes\":{\"below\":[{\"id\":\"fc706d84-336f-4f0e-9fa9-59112a8386bd\",\"type\":\"LinearAxis\"}],\"left\":[{\"id\":\"e31900ab-28a4-4721-b96d-0057557093d2\",\"type\":\"LinearAxis\"}],\"renderers\":[{\"id\":\"fc706d84-336f-4f0e-9fa9-59112a8386bd\",\"type\":\"LinearAxis\"},{\"id\":\"55ae8ae2-6b25-451b-9c10-dbcbfa7a3deb\",\"type\":\"Grid\"},{\"id\":\"e31900ab-28a4-4721-b96d-0057557093d2\",\"type\":\"LinearAxis\"},{\"id\":\"9a23ddd4-b592-47b6-b480-6f49f73ed9db\",\"type\":\"Grid\"},{\"id\":\"8c57aadb-8c6f-48c7-afde-2ea40719081c\",\"type\":\"BoxAnnotation\"},{\"id\":\"335e9486-fdc2-49c0-aa59-545d4e432180\",\"type\":\"GlyphRenderer\"}],\"title\":{\"id\":\"ddd9146a-0325-4da8-b430-11232f63d887\",\"type\":\"Title\"},\"toolbar\":{\"id\":\"1439df4d-3483-4bec-b3a2-6153c6b27b1f\",\"type\":\"Toolbar\"},\"x_range\":{\"id\":\"08f43508-1faa-4c65-be69-c035ec8b3127\",\"type\":\"DataRange1d\"},\"x_scale\":{\"id\":\"ff9bcb28-d9a9-4d47-a9c7-db9503dddd7d\",\"type\":\"LinearScale\"},\"y_range\":{\"id\":\"4e49cbaa-0d7a-45de-af54-7918d071d0d1\",\"type\":\"DataRange1d\"},\"y_scale\":{\"id\":\"5a416756-d1ca-4fa0-90c0-8b40c50a3825\",\"type\":\"LinearScale\"}},\"id\":\"587726cc-ad60-48ed-b510-5cc74adcd55d\",\"subtype\":\"Figure\",\"type\":\"Plot\"},{\"attributes\":{},\"id\":\"2b01ab83-0641-4835-8f30-06978ea60c4c\",\"type\":\"LinearScale\"},{\"attributes\":{},\"id\":\"ce4f997d-fb72-4483-8cb3-ae57a622c50c\",\"type\":\"BasicTickFormatter\"},{\"attributes\":{\"axis_label\":\"Number of Narcotics\",\"formatter\":{\"id\":\"b0ae0c96-9a8f-4b71-b15c-3a5881beb415\",\"type\":\"BasicTickFormatter\"},\"plot\":{\"id\":\"8456bffd-85f1-43bb-9bd8-6a9b18e1f4b2\",\"subtype\":\"Figure\",\"type\":\"Plot\"},\"ticker\":{\"id\":\"64886725-f369-4490-87c3-8a135ba236e5\",\"type\":\"BasicTicker\"}},\"id\":\"1c772cf8-d181-4a07-bc0a-b2693cef6747\",\"type\":\"LinearAxis\"},{\"attributes\":{},\"id\":\"5a416756-d1ca-4fa0-90c0-8b40c50a3825\",\"type\":\"LinearScale\"},{\"attributes\":{\"plot\":{\"id\":\"587726cc-ad60-48ed-b510-5cc74adcd55d\",\"subtype\":\"Figure\",\"type\":\"Plot\"},\"ticker\":{\"id\":\"49c382f7-2a60-423f-8bcc-4fd222aa936e\",\"type\":\"BasicTicker\"}},\"id\":\"55ae8ae2-6b25-451b-9c10-dbcbfa7a3deb\",\"type\":\"Grid\"},{\"attributes\":{},\"id\":\"f3f99d5c-979d-4e3b-8ed7-da560dea86fe\",\"type\":\"ResetTool\"},{\"attributes\":{},\"id\":\"b390daa4-f8bf-490f-bbe2-4385b366086d\",\"type\":\"PanTool\"},{\"attributes\":{\"callback\":null},\"id\":\"4e49cbaa-0d7a-45de-af54-7918d071d0d1\",\"type\":\"DataRange1d\"},{\"attributes\":{\"active_drag\":\"auto\",\"active_inspect\":\"auto\",\"active_scroll\":\"auto\",\"active_tap\":\"auto\",\"tools\":[{\"id\":\"b390daa4-f8bf-490f-bbe2-4385b366086d\",\"type\":\"PanTool\"},{\"id\":\"239bef8b-a086-4135-ab50-a71e87dcad5b\",\"type\":\"WheelZoomTool\"},{\"id\":\"667a72b3-271a-4cc2-bbb0-4766501dd4ad\",\"type\":\"BoxZoomTool\"},{\"id\":\"0c29cb76-d058-4b42-9f1f-d9e6d2177afd\",\"type\":\"ResetTool\"},{\"id\":\"2958f14a-b83b-4cac-b185-603f63b163cb\",\"type\":\"SaveTool\"},{\"id\":\"390ad534-8730-42c3-ae39-9026277ac9bc\",\"type\":\"HoverTool\"}]},\"id\":\"ab0eef5a-8073-4eb8-a994-cf13154b9d52\",\"type\":\"Toolbar\"},{\"attributes\":{\"callback\":null,\"tooltips\":[[\"District Number\",\"@districts\"],[\"Number of Robberies\",\"@robberies\"],[\"Number of Homicides\",\"@homicides\"]]},\"id\":\"37603ed3-ddea-4991-a6e9-1cde97c3bc84\",\"type\":\"HoverTool\"},{\"attributes\":{\"below\":[{\"id\":\"93f78f54-e53a-4665-ac09-22a0b5b9c176\",\"type\":\"LinearAxis\"}],\"left\":[{\"id\":\"1c772cf8-d181-4a07-bc0a-b2693cef6747\",\"type\":\"LinearAxis\"}],\"renderers\":[{\"id\":\"93f78f54-e53a-4665-ac09-22a0b5b9c176\",\"type\":\"LinearAxis\"},{\"id\":\"1041420b-da7d-40b3-a173-750be62d33e5\",\"type\":\"Grid\"},{\"id\":\"1c772cf8-d181-4a07-bc0a-b2693cef6747\",\"type\":\"LinearAxis\"},{\"id\":\"d4d3cb78-c76e-42c4-9d85-79d20f3bb150\",\"type\":\"Grid\"},{\"id\":\"5f05c662-a501-4121-9ba4-850b4ef5414f\",\"type\":\"BoxAnnotation\"},{\"id\":\"bb4a5c50-9959-4e2a-8f1d-65a9e0178b95\",\"type\":\"GlyphRenderer\"}],\"title\":{\"id\":\"ed1cf4a3-cef9-4b4d-8fcb-f5780160a99f\",\"type\":\"Title\"},\"toolbar\":{\"id\":\"ab0eef5a-8073-4eb8-a994-cf13154b9d52\",\"type\":\"Toolbar\"},\"x_range\":{\"id\":\"08f43508-1faa-4c65-be69-c035ec8b3127\",\"type\":\"DataRange1d\"},\"x_scale\":{\"id\":\"6be2fd57-11c8-4f0a-a19c-9c292b886eed\",\"type\":\"LinearScale\"},\"y_range\":{\"id\":\"ef348159-9f45-46b7-9a4e-d7f91e014f94\",\"type\":\"DataRange1d\"},\"y_scale\":{\"id\":\"d087df22-61f3-499d-baaf-4a5b3783c9a2\",\"type\":\"LinearScale\"}},\"id\":\"8456bffd-85f1-43bb-9bd8-6a9b18e1f4b2\",\"subtype\":\"Figure\",\"type\":\"Plot\"},{\"attributes\":{},\"id\":\"239bef8b-a086-4135-ab50-a71e87dcad5b\",\"type\":\"WheelZoomTool\"},{\"attributes\":{\"children\":[{\"id\":\"8456bffd-85f1-43bb-9bd8-6a9b18e1f4b2\",\"subtype\":\"Figure\",\"type\":\"Plot\"},{\"id\":\"587726cc-ad60-48ed-b510-5cc74adcd55d\",\"subtype\":\"Figure\",\"type\":\"Plot\"}]},\"id\":\"c1547ba7-4415-41be-9a36-f554707165ac\",\"type\":\"Column\"},{\"attributes\":{},\"id\":\"8c1588d0-c90c-406d-8b43-49190c114e1f\",\"type\":\"BasicTicker\"},{\"attributes\":{\"bottom_units\":\"screen\",\"fill_alpha\":{\"value\":0.5},\"fill_color\":{\"value\":\"lightgrey\"},\"left_units\":\"screen\",\"level\":\"overlay\",\"line_alpha\":{\"value\":1.0},\"line_color\":{\"value\":\"black\"},\"line_dash\":[4,4],\"line_width\":{\"value\":2},\"plot\":null,\"render_mode\":\"css\",\"right_units\":\"screen\",\"top_units\":\"screen\"},\"id\":\"1f72a6c8-7448-43df-b47b-6bb0ad6e3b08\",\"type\":\"BoxAnnotation\"},{\"attributes\":{\"axis_label\":\"Number of Assaults\",\"formatter\":{\"id\":\"ce4f997d-fb72-4483-8cb3-ae57a622c50c\",\"type\":\"BasicTickFormatter\"},\"plot\":{\"id\":\"587726cc-ad60-48ed-b510-5cc74adcd55d\",\"subtype\":\"Figure\",\"type\":\"Plot\"},\"ticker\":{\"id\":\"642ba6e0-0bff-45c9-99d0-818a771b651b\",\"type\":\"BasicTicker\"}},\"id\":\"e31900ab-28a4-4721-b96d-0057557093d2\",\"type\":\"LinearAxis\"},{\"attributes\":{},\"id\":\"027440bc-f274-4c55-85ce-51e585775380\",\"type\":\"BasicTickFormatter\"},{\"attributes\":{\"axis_label\":\"Number of Robberies\",\"formatter\":{\"id\":\"699500dc-6910-4168-844c-644afc19360f\",\"type\":\"BasicTickFormatter\"},\"plot\":{\"id\":\"587726cc-ad60-48ed-b510-5cc74adcd55d\",\"subtype\":\"Figure\",\"type\":\"Plot\"},\"ticker\":{\"id\":\"49c382f7-2a60-423f-8bcc-4fd222aa936e\",\"type\":\"BasicTicker\"}},\"id\":\"fc706d84-336f-4f0e-9fa9-59112a8386bd\",\"type\":\"LinearAxis\"},{\"attributes\":{},\"id\":\"2671fa7a-bc14-4ad0-94c9-f45560d095cb\",\"type\":\"SaveTool\"},{\"attributes\":{},\"id\":\"ff9bcb28-d9a9-4d47-a9c7-db9503dddd7d\",\"type\":\"LinearScale\"},{\"attributes\":{\"fill_alpha\":{\"value\":0.5},\"fill_color\":{\"field\":\"districts\",\"transform\":{\"id\":\"1335515b-9662-4720-9919-24e85ddb4b18\",\"type\":\"CategoricalColorMapper\"}},\"size\":{\"units\":\"screen\",\"value\":20},\"x\":{\"field\":\"narcotics\"},\"y\":{\"field\":\"assaults\"}},\"id\":\"faeded74-5ed4-4579-beae-0c64b73ca21d\",\"type\":\"Diamond\"},{\"attributes\":{},\"id\":\"d087df22-61f3-499d-baaf-4a5b3783c9a2\",\"type\":\"LinearScale\"},{\"attributes\":{\"axis_label\":\"Number of Robberies\",\"formatter\":{\"id\":\"1578d3f6-04f2-4303-8901-699014a32d48\",\"type\":\"BasicTickFormatter\"},\"plot\":{\"id\":\"8456bffd-85f1-43bb-9bd8-6a9b18e1f4b2\",\"subtype\":\"Figure\",\"type\":\"Plot\"},\"ticker\":{\"id\":\"e05b9827-fbcc-4c66-bdfd-f887296453a6\",\"type\":\"BasicTicker\"}},\"id\":\"93f78f54-e53a-4665-ac09-22a0b5b9c176\",\"type\":\"LinearAxis\"},{\"attributes\":{\"bottom_units\":\"screen\",\"fill_alpha\":{\"value\":0.5},\"fill_color\":{\"value\":\"lightgrey\"},\"left_units\":\"screen\",\"level\":\"overlay\",\"line_alpha\":{\"value\":1.0},\"line_color\":{\"value\":\"black\"},\"line_dash\":[4,4],\"line_width\":{\"value\":2},\"plot\":null,\"render_mode\":\"css\",\"right_units\":\"screen\",\"top_units\":\"screen\"},\"id\":\"8c57aadb-8c6f-48c7-afde-2ea40719081c\",\"type\":\"BoxAnnotation\"},{\"attributes\":{\"overlay\":{\"id\":\"5f05c662-a501-4121-9ba4-850b4ef5414f\",\"type\":\"BoxAnnotation\"}},\"id\":\"667a72b3-271a-4cc2-bbb0-4766501dd4ad\",\"type\":\"BoxZoomTool\"},{\"attributes\":{\"callback\":null,\"column_names\":[\"narcotics\",\"districts\",\"homicides\",\"assaults\",\"robberies\"],\"data\":{\"assaults\":[260,549,1148,1267,1348,594,590,1113,500,1494,848,1075,982,896,1332,1126,989,817,719,395,507,613],\"districts\":[\"1\",\"2\",\"3\",\"4\",\"5\",\"6\",\"7\",\"8\",\"9\",\"10\",\"11\",\"12\",\"14\",\"15\",\"16\",\"17\",\"18\",\"19\",\"20\",\"22\",\"24\",\"25\"],\"homicides\":[2,6,45,59,52,9,28,49,8,65,25,44,58,30,82,50,60,55,5,3,8,4],\"narcotics\":[91,122,419,787,417,100,153,303,136,600,218,440,1141,203,3320,445,436,1042,139,92,114,274],\"robberies\":[132,460,845,664,597,519,316,796,434,798,649,593,592,609,960,473,692,544,543,315,292,142]}},\"id\":\"b0aceee6-12e7-41e1-ae8a-259850c7190a\",\"type\":\"ColumnDataSource\"},{\"attributes\":{\"plot\":null,\"text\":\"Number of Robberies versus Number of Assaults in Chicago\"},\"id\":\"ddd9146a-0325-4da8-b430-11232f63d887\",\"type\":\"Title\"},{\"attributes\":{},\"id\":\"e05b9827-fbcc-4c66-bdfd-f887296453a6\",\"type\":\"BasicTicker\"},{\"attributes\":{},\"id\":\"c35fe2a3-3546-4fc9-9c12-3758600f00f2\",\"type\":\"WheelZoomTool\"},{\"attributes\":{\"callback\":null,\"tooltips\":[[\"District Number\",\"@districts\"],[\"Number of Robberies\",\"@robberies\"],[\"Number of Assaults\",\"@assaults\"]]},\"id\":\"c39b8cdd-f0e4-48f1-9224-4d581e06c19f\",\"type\":\"HoverTool\"},{\"attributes\":{\"axis_label\":\"Number of Homicides\",\"formatter\":{\"id\":\"72d22ab7-73bb-48aa-8884-521cbce0f45c\",\"type\":\"BasicTickFormatter\"},\"plot\":{\"id\":\"5b4f40b3-b064-4475-95e4-0e33d77349d5\",\"subtype\":\"Figure\",\"type\":\"Plot\"},\"ticker\":{\"id\":\"8c1588d0-c90c-406d-8b43-49190c114e1f\",\"type\":\"BasicTicker\"}},\"id\":\"0e51e1f4-31ce-4c08-b86f-20f8bc721edd\",\"type\":\"LinearAxis\"},{\"attributes\":{},\"id\":\"1578d3f6-04f2-4303-8901-699014a32d48\",\"type\":\"BasicTickFormatter\"},{\"attributes\":{\"plot\":{\"id\":\"8456bffd-85f1-43bb-9bd8-6a9b18e1f4b2\",\"subtype\":\"Figure\",\"type\":\"Plot\"},\"ticker\":{\"id\":\"e05b9827-fbcc-4c66-bdfd-f887296453a6\",\"type\":\"BasicTicker\"}},\"id\":\"1041420b-da7d-40b3-a173-750be62d33e5\",\"type\":\"Grid\"},{\"attributes\":{},\"id\":\"b45bdf1d-b7cf-489d-88c9-b0ee4000021d\",\"type\":\"PanTool\"},{\"attributes\":{\"dimension\":1,\"plot\":{\"id\":\"5b4f40b3-b064-4475-95e4-0e33d77349d5\",\"subtype\":\"Figure\",\"type\":\"Plot\"},\"ticker\":{\"id\":\"8c1588d0-c90c-406d-8b43-49190c114e1f\",\"type\":\"BasicTicker\"}},\"id\":\"7c287084-ebd6-441b-8046-b77f4b6b9133\",\"type\":\"Grid\"},{\"attributes\":{\"children\":[{\"id\":\"5b4f40b3-b064-4475-95e4-0e33d77349d5\",\"subtype\":\"Figure\",\"type\":\"Plot\"}]},\"id\":\"b2d09c6b-ede9-4a7d-9777-74a31d5f91f8\",\"type\":\"Column\"},{\"attributes\":{},\"id\":\"64886725-f369-4490-87c3-8a135ba236e5\",\"type\":\"BasicTicker\"},{\"attributes\":{\"data_source\":{\"id\":\"b0aceee6-12e7-41e1-ae8a-259850c7190a\",\"type\":\"ColumnDataSource\"},\"glyph\":{\"id\":\"82d09856-77c2-44ff-840e-a50ebaea53c9\",\"type\":\"Circle\"},\"hover_glyph\":null,\"muted_glyph\":null,\"view\":{\"id\":\"3cbaf82c-730f-4ca3-9ffa-d771540906db\",\"type\":\"CDSView\"}},\"id\":\"bb4a5c50-9959-4e2a-8f1d-65a9e0178b95\",\"type\":\"GlyphRenderer\"},{\"attributes\":{},\"id\":\"45da6f99-0c76-43a5-be73-1ad6c9facb71\",\"type\":\"WheelZoomTool\"},{\"attributes\":{\"callback\":null},\"id\":\"ef348159-9f45-46b7-9a4e-d7f91e014f94\",\"type\":\"DataRange1d\"},{\"attributes\":{},\"id\":\"49c382f7-2a60-423f-8bcc-4fd222aa936e\",\"type\":\"BasicTicker\"},{\"attributes\":{\"source\":{\"id\":\"b0aceee6-12e7-41e1-ae8a-259850c7190a\",\"type\":\"ColumnDataSource\"}},\"id\":\"3cbaf82c-730f-4ca3-9ffa-d771540906db\",\"type\":\"CDSView\"},{\"attributes\":{\"bottom_units\":\"screen\",\"fill_alpha\":{\"value\":0.5},\"fill_color\":{\"value\":\"lightgrey\"},\"left_units\":\"screen\",\"level\":\"overlay\",\"line_alpha\":{\"value\":1.0},\"line_color\":{\"value\":\"black\"},\"line_dash\":[4,4],\"line_width\":{\"value\":2},\"plot\":null,\"render_mode\":\"css\",\"right_units\":\"screen\",\"top_units\":\"screen\"},\"id\":\"5f05c662-a501-4121-9ba4-850b4ef5414f\",\"type\":\"BoxAnnotation\"},{\"attributes\":{\"data_source\":{\"id\":\"b0aceee6-12e7-41e1-ae8a-259850c7190a\",\"type\":\"ColumnDataSource\"},\"glyph\":{\"id\":\"faeded74-5ed4-4579-beae-0c64b73ca21d\",\"type\":\"Diamond\"},\"hover_glyph\":null,\"muted_glyph\":null,\"view\":{\"id\":\"94681ab1-680a-48a9-8fb7-1cda562607bc\",\"type\":\"CDSView\"}},\"id\":\"335e9486-fdc2-49c0-aa59-545d4e432180\",\"type\":\"GlyphRenderer\"},{\"attributes\":{\"plot\":null,\"text\":\"Number of Robberies versus Number of Narcotics in Chicago\"},\"id\":\"ed1cf4a3-cef9-4b4d-8fcb-f5780160a99f\",\"type\":\"Title\"},{\"attributes\":{},\"id\":\"642ba6e0-0bff-45c9-99d0-818a771b651b\",\"type\":\"BasicTicker\"},{\"attributes\":{\"overlay\":{\"id\":\"8c57aadb-8c6f-48c7-afde-2ea40719081c\",\"type\":\"BoxAnnotation\"}},\"id\":\"ac8c6a3c-d5be-4343-85ca-e7145a4802d9\",\"type\":\"BoxZoomTool\"},{\"attributes\":{\"axis_label\":\"Number of Robberies\",\"formatter\":{\"id\":\"027440bc-f274-4c55-85ce-51e585775380\",\"type\":\"BasicTickFormatter\"},\"plot\":{\"id\":\"5b4f40b3-b064-4475-95e4-0e33d77349d5\",\"subtype\":\"Figure\",\"type\":\"Plot\"},\"ticker\":{\"id\":\"9e6a965e-2e96-4344-a039-b3925b6aba2f\",\"type\":\"BasicTicker\"}},\"id\":\"5ceae0ef-d2ca-49ba-813f-89218a9f360f\",\"type\":\"LinearAxis\"},{\"attributes\":{},\"id\":\"699500dc-6910-4168-844c-644afc19360f\",\"type\":\"BasicTickFormatter\"},{\"attributes\":{},\"id\":\"d34a54c7-7188-4298-a0af-99332be8f6dc\",\"type\":\"ResetTool\"},{\"attributes\":{},\"id\":\"6be2fd57-11c8-4f0a-a19c-9c292b886eed\",\"type\":\"LinearScale\"},{\"attributes\":{\"dimension\":1,\"plot\":{\"id\":\"587726cc-ad60-48ed-b510-5cc74adcd55d\",\"subtype\":\"Figure\",\"type\":\"Plot\"},\"ticker\":{\"id\":\"642ba6e0-0bff-45c9-99d0-818a771b651b\",\"type\":\"BasicTicker\"}},\"id\":\"9a23ddd4-b592-47b6-b480-6f49f73ed9db\",\"type\":\"Grid\"},{\"attributes\":{},\"id\":\"0c29cb76-d058-4b42-9f1f-d9e6d2177afd\",\"type\":\"ResetTool\"},{\"attributes\":{\"data_source\":{\"id\":\"b0aceee6-12e7-41e1-ae8a-259850c7190a\",\"type\":\"ColumnDataSource\"},\"glyph\":{\"id\":\"44de7adf-a2a4-4fe5-bbf2-a91a74dd98d3\",\"type\":\"Cross\"},\"hover_glyph\":null,\"muted_glyph\":null,\"view\":{\"id\":\"0463dd52-9016-47c1-94a4-a76ee40e7aaa\",\"type\":\"CDSView\"}},\"id\":\"2811d9a0-f414-4ac5-bb18-1653e6255221\",\"type\":\"GlyphRenderer\"},{\"attributes\":{\"source\":{\"id\":\"b0aceee6-12e7-41e1-ae8a-259850c7190a\",\"type\":\"ColumnDataSource\"}},\"id\":\"94681ab1-680a-48a9-8fb7-1cda562607bc\",\"type\":\"CDSView\"},{\"attributes\":{\"callback\":null},\"id\":\"08f43508-1faa-4c65-be69-c035ec8b3127\",\"type\":\"DataRange1d\"},{\"attributes\":{},\"id\":\"00db9978-0e55-4e16-a764-b3ae75a9be7c\",\"type\":\"PanTool\"},{\"attributes\":{\"children\":[{\"id\":\"c1547ba7-4415-41be-9a36-f554707165ac\",\"type\":\"Column\"},{\"id\":\"b2d09c6b-ede9-4a7d-9777-74a31d5f91f8\",\"type\":\"Column\"}]},\"id\":\"bdd32c11-0e09-423c-87bd-f550cbee7af6\",\"type\":\"Row\"},{\"attributes\":{\"active_drag\":\"auto\",\"active_inspect\":\"auto\",\"active_scroll\":\"auto\",\"active_tap\":\"auto\",\"tools\":[{\"id\":\"b45bdf1d-b7cf-489d-88c9-b0ee4000021d\",\"type\":\"PanTool\"},{\"id\":\"45da6f99-0c76-43a5-be73-1ad6c9facb71\",\"type\":\"WheelZoomTool\"},{\"id\":\"ac8c6a3c-d5be-4343-85ca-e7145a4802d9\",\"type\":\"BoxZoomTool\"},{\"id\":\"d34a54c7-7188-4298-a0af-99332be8f6dc\",\"type\":\"ResetTool\"},{\"id\":\"2671fa7a-bc14-4ad0-94c9-f45560d095cb\",\"type\":\"SaveTool\"},{\"id\":\"c39b8cdd-f0e4-48f1-9224-4d581e06c19f\",\"type\":\"HoverTool\"}]},\"id\":\"1439df4d-3483-4bec-b3a2-6153c6b27b1f\",\"type\":\"Toolbar\"}],\"root_ids\":[\"bdd32c11-0e09-423c-87bd-f550cbee7af6\"]},\"title\":\"Bokeh Application\",\"version\":\"0.12.10\"}};\n",
       "    var render_items = [{\"docid\":\"8cc6e6dd-f54e-4f1c-bd82-b961abec1154\",\"elementid\":\"158b2c39-9be4-4ca3-9afb-5f2fb8d59fc8\",\"modelid\":\"bdd32c11-0e09-423c-87bd-f550cbee7af6\"}];\n",
       "\n",
       "    root.Bokeh.embed.embed_items(docs_json, render_items);\n",
       "  }\n",
       "\n",
       "  if (root.Bokeh !== undefined) {\n",
       "    embed_document(root);\n",
       "  } else {\n",
       "    var attempts = 0;\n",
       "    var timer = setInterval(function(root) {\n",
       "      if (root.Bokeh !== undefined) {\n",
       "        embed_document(root);\n",
       "        clearInterval(timer);\n",
       "      }\n",
       "      attempts++;\n",
       "      if (attempts > 100) {\n",
       "        console.log(\"Bokeh: ERROR: Unable to embed document because BokehJS library is missing\")\n",
       "        clearInterval(timer);\n",
       "      }\n",
       "    }, 10, root)\n",
       "  }\n",
       "})(window);"
      ],
      "application/vnd.bokehjs_exec.v0+json": ""
     },
     "metadata": {
      "application/vnd.bokehjs_exec.v0+json": {
       "id": "bdd32c11-0e09-423c-87bd-f550cbee7af6"
      }
     },
     "output_type": "display_data"
    }
   ],
   "source": [
    "from bokeh.io import output_notebook\n",
    "output_notebook()\n",
    "show(row(column(plot_r_n, plot_r_a),column(plot_r_h)))"
   ]
  },
  {
   "cell_type": "code",
   "execution_count": null,
   "metadata": {
    "collapsed": true
   },
   "outputs": [],
   "source": []
  }
 ],
 "metadata": {
  "anaconda-cloud": {},
  "kernelspec": {
   "display_name": "Python [conda root]",
   "language": "python",
   "name": "conda-root-py"
  },
  "language_info": {
   "codemirror_mode": {
    "name": "ipython",
    "version": 3
   },
   "file_extension": ".py",
   "mimetype": "text/x-python",
   "name": "python",
   "nbconvert_exporter": "python",
   "pygments_lexer": "ipython3",
   "version": "3.5.3"
  }
 },
 "nbformat": 4,
 "nbformat_minor": 2
}
