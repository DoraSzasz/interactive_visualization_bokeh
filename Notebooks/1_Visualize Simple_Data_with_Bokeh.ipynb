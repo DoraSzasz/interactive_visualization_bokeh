{
 "cells": [
  {
   "cell_type": "markdown",
   "metadata": {},
   "source": [
    "> Created by Teodora Szasz, tszasz@uchicago.edu"
   ]
  },
  {
   "cell_type": "markdown",
   "metadata": {},
   "source": [
    "# <h1 align=\"center\">1. Visualize simple data with Bokeh</h1>"
   ]
  },
  {
   "cell_type": "markdown",
   "metadata": {},
   "source": [
    "- Type in a cell the following command, and press `Shift+Enter` to execute it:"
   ]
  },
  {
   "cell_type": "code",
   "execution_count": 1,
   "metadata": {
    "collapsed": true
   },
   "outputs": [],
   "source": [
    "# import libraries\n",
    "from bokeh.plotting import figure\n",
    "from bokeh.io import output_notebook, show"
   ]
  },
  {
   "cell_type": "code",
   "execution_count": 2,
   "metadata": {},
   "outputs": [
    {
     "name": "stdout",
     "output_type": "stream",
     "text": [
      "Python 3.5.3 :: Anaconda custom (x86_64)\r\n"
     ]
    }
   ],
   "source": [
    "# \"!\" magic to access command line options\n",
    "!python --version"
   ]
  },
  {
   "cell_type": "code",
   "execution_count": 3,
   "metadata": {},
   "outputs": [
    {
     "name": "stdout",
     "output_type": "stream",
     "text": [
      "0.12.10\r\n"
     ]
    }
   ],
   "source": [
    "!bokeh --version"
   ]
  },
  {
   "cell_type": "markdown",
   "metadata": {},
   "source": [
    "- There are other possibilities for output, such as: `output_file`, that automatically generated an HTML file of the plot.\n",
    "- We will see later about this"
   ]
  },
  {
   "cell_type": "code",
   "execution_count": 4,
   "metadata": {},
   "outputs": [
    {
     "data": {
      "text/html": [
       "\n",
       "    <div class=\"bk-root\">\n",
       "        <a href=\"http://bokeh.pydata.org\" target=\"_blank\" class=\"bk-logo bk-logo-small bk-logo-notebook\"></a>\n",
       "        <span id=\"8d662428-fc58-4c03-8a03-8c6abffec4d6\">Loading BokehJS ...</span>\n",
       "    </div>"
      ]
     },
     "metadata": {},
     "output_type": "display_data"
    },
    {
     "data": {
      "application/javascript": [
       "\n",
       "(function(global) {\n",
       "  function now() {\n",
       "    return new Date();\n",
       "  }\n",
       "\n",
       "  var force = true;\n",
       "\n",
       "  if (typeof (window._bokeh_onload_callbacks) === \"undefined\" || force === true) {\n",
       "    window._bokeh_onload_callbacks = [];\n",
       "    window._bokeh_is_loading = undefined;\n",
       "  }\n",
       "\n",
       "\n",
       "  \n",
       "  if (typeof (window._bokeh_timeout) === \"undefined\" || force === true) {\n",
       "    window._bokeh_timeout = Date.now() + 5000;\n",
       "    window._bokeh_failed_load = false;\n",
       "  }\n",
       "\n",
       "  var NB_LOAD_WARNING = {'data': {'text/html':\n",
       "     \"<div style='background-color: #fdd'>\\n\"+\n",
       "     \"<p>\\n\"+\n",
       "     \"BokehJS does not appear to have successfully loaded. If loading BokehJS from CDN, this \\n\"+\n",
       "     \"may be due to a slow or bad network connection. Possible fixes:\\n\"+\n",
       "     \"</p>\\n\"+\n",
       "     \"<ul>\\n\"+\n",
       "     \"<li>re-rerun `output_notebook()` to attempt to load from CDN again, or</li>\\n\"+\n",
       "     \"<li>use INLINE resources instead, as so:</li>\\n\"+\n",
       "     \"</ul>\\n\"+\n",
       "     \"<code>\\n\"+\n",
       "     \"from bokeh.resources import INLINE\\n\"+\n",
       "     \"output_notebook(resources=INLINE)\\n\"+\n",
       "     \"</code>\\n\"+\n",
       "     \"</div>\"}};\n",
       "\n",
       "  function display_loaded() {\n",
       "    if (window.Bokeh !== undefined) {\n",
       "      var el = document.getElementById(\"8d662428-fc58-4c03-8a03-8c6abffec4d6\");\n",
       "      el.textContent = \"BokehJS \" + Bokeh.version + \" successfully loaded.\";\n",
       "    } else if (Date.now() < window._bokeh_timeout) {\n",
       "      setTimeout(display_loaded, 100)\n",
       "    }\n",
       "  }\n",
       "\n",
       "  function run_callbacks() {\n",
       "    try {\n",
       "      window._bokeh_onload_callbacks.forEach(function(callback) { callback() });\n",
       "    }\n",
       "    finally {\n",
       "      delete window._bokeh_onload_callbacks\n",
       "    }\n",
       "    console.info(\"Bokeh: all callbacks have finished\");\n",
       "  }\n",
       "\n",
       "  function load_libs(js_urls, callback) {\n",
       "    window._bokeh_onload_callbacks.push(callback);\n",
       "    if (window._bokeh_is_loading > 0) {\n",
       "      console.log(\"Bokeh: BokehJS is being loaded, scheduling callback at\", now());\n",
       "      return null;\n",
       "    }\n",
       "    if (js_urls == null || js_urls.length === 0) {\n",
       "      run_callbacks();\n",
       "      return null;\n",
       "    }\n",
       "    console.log(\"Bokeh: BokehJS not loaded, scheduling load and callback at\", now());\n",
       "    window._bokeh_is_loading = js_urls.length;\n",
       "    for (var i = 0; i < js_urls.length; i++) {\n",
       "      var url = js_urls[i];\n",
       "      var s = document.createElement('script');\n",
       "      s.src = url;\n",
       "      s.async = false;\n",
       "      s.onreadystatechange = s.onload = function() {\n",
       "        window._bokeh_is_loading--;\n",
       "        if (window._bokeh_is_loading === 0) {\n",
       "          console.log(\"Bokeh: all BokehJS libraries loaded\");\n",
       "          run_callbacks()\n",
       "        }\n",
       "      };\n",
       "      s.onerror = function() {\n",
       "        console.warn(\"failed to load library \" + url);\n",
       "      };\n",
       "      console.log(\"Bokeh: injecting script tag for BokehJS library: \", url);\n",
       "      document.getElementsByTagName(\"head\")[0].appendChild(s);\n",
       "    }\n",
       "  };var element = document.getElementById(\"8d662428-fc58-4c03-8a03-8c6abffec4d6\");\n",
       "  if (element == null) {\n",
       "    console.log(\"Bokeh: ERROR: autoload.js configured with elementid '8d662428-fc58-4c03-8a03-8c6abffec4d6' but no matching script tag was found. \")\n",
       "    return false;\n",
       "  }\n",
       "\n",
       "  var js_urls = [\"https://cdn.pydata.org/bokeh/release/bokeh-0.12.6.min.js\", \"https://cdn.pydata.org/bokeh/release/bokeh-widgets-0.12.6.min.js\"];\n",
       "\n",
       "  var inline_js = [\n",
       "    function(Bokeh) {\n",
       "      Bokeh.set_log_level(\"info\");\n",
       "    },\n",
       "    \n",
       "    function(Bokeh) {\n",
       "      \n",
       "    },\n",
       "    \n",
       "    function(Bokeh) {\n",
       "      \n",
       "      document.getElementById(\"8d662428-fc58-4c03-8a03-8c6abffec4d6\").textContent = \"BokehJS is loading...\";\n",
       "    },\n",
       "    function(Bokeh) {\n",
       "      console.log(\"Bokeh: injecting CSS: https://cdn.pydata.org/bokeh/release/bokeh-0.12.6.min.css\");\n",
       "      Bokeh.embed.inject_css(\"https://cdn.pydata.org/bokeh/release/bokeh-0.12.6.min.css\");\n",
       "      console.log(\"Bokeh: injecting CSS: https://cdn.pydata.org/bokeh/release/bokeh-widgets-0.12.6.min.css\");\n",
       "      Bokeh.embed.inject_css(\"https://cdn.pydata.org/bokeh/release/bokeh-widgets-0.12.6.min.css\");\n",
       "    }\n",
       "  ];\n",
       "\n",
       "  function run_inline_js() {\n",
       "    \n",
       "    if ((window.Bokeh !== undefined) || (force === true)) {\n",
       "      for (var i = 0; i < inline_js.length; i++) {\n",
       "        inline_js[i](window.Bokeh);\n",
       "      }if (force === true) {\n",
       "        display_loaded();\n",
       "      }} else if (Date.now() < window._bokeh_timeout) {\n",
       "      setTimeout(run_inline_js, 100);\n",
       "    } else if (!window._bokeh_failed_load) {\n",
       "      console.log(\"Bokeh: BokehJS failed to load within specified timeout.\");\n",
       "      window._bokeh_failed_load = true;\n",
       "    } else if (force !== true) {\n",
       "      var cell = $(document.getElementById(\"8d662428-fc58-4c03-8a03-8c6abffec4d6\")).parents('.cell').data().cell;\n",
       "      cell.output_area.append_execute_result(NB_LOAD_WARNING)\n",
       "    }\n",
       "\n",
       "  }\n",
       "\n",
       "  if (window._bokeh_is_loading === 0) {\n",
       "    console.log(\"Bokeh: BokehJS loaded, going straight to plotting\");\n",
       "    run_inline_js();\n",
       "  } else {\n",
       "    load_libs(js_urls, function() {\n",
       "      console.log(\"Bokeh: BokehJS plotting callback run at\", now());\n",
       "      run_inline_js();\n",
       "    });\n",
       "  }\n",
       "}(this));"
      ]
     },
     "metadata": {},
     "output_type": "display_data"
    }
   ],
   "source": [
    "# display the plots directly into the notebook\n",
    "output_notebook()"
   ]
  },
  {
   "cell_type": "code",
   "execution_count": 5,
   "metadata": {
    "collapsed": true
   },
   "outputs": [],
   "source": [
    "from bokeh.io import output_file\n",
    "output_file('simple_data.html')"
   ]
  },
  {
   "cell_type": "code",
   "execution_count": 6,
   "metadata": {
    "collapsed": true
   },
   "outputs": [],
   "source": [
    "# setup a basic figure object, called plot\n",
    "plot = figure(plot_width=600, plot_height=600, \n",
    "              tools='pan, box_zoom, reset')"
   ]
  },
  {
   "cell_type": "code",
   "execution_count": 7,
   "metadata": {},
   "outputs": [
    {
     "data": {
      "text/html": [
       "<div style=\"display: table;\"><div style=\"display: table-row;\"><div style=\"display: table-cell;\"><b title=\"bokeh.models.renderers.GlyphRenderer\">GlyphRenderer</b>(</div><div style=\"display: table-cell;\">id&nbsp;=&nbsp;'c37acdff-992d-4fe1-a0a4-edd182d036b5', <span id=\"c73b6831-bd2a-4cef-a2ed-9a1a42a80761\" style=\"cursor: pointer;\">&hellip;)</span></div></div><div class=\"79420dce-5b3c-4938-a16e-bc92db879933\" style=\"display: none;\"><div style=\"display: table-cell;\"></div><div style=\"display: table-cell;\">data_source&nbsp;=&nbsp;ColumnDataSource(id='ea43f009-6343-41d6-a4e6-8332d3b2297a', ...),</div></div><div class=\"79420dce-5b3c-4938-a16e-bc92db879933\" style=\"display: none;\"><div style=\"display: table-cell;\"></div><div style=\"display: table-cell;\">glyph&nbsp;=&nbsp;Square(id='231b9afe-0733-4989-a3e9-614243bc6e56', ...),</div></div><div class=\"79420dce-5b3c-4938-a16e-bc92db879933\" style=\"display: none;\"><div style=\"display: table-cell;\"></div><div style=\"display: table-cell;\">hover_glyph&nbsp;=&nbsp;None,</div></div><div class=\"79420dce-5b3c-4938-a16e-bc92db879933\" style=\"display: none;\"><div style=\"display: table-cell;\"></div><div style=\"display: table-cell;\">js_event_callbacks&nbsp;=&nbsp;{},</div></div><div class=\"79420dce-5b3c-4938-a16e-bc92db879933\" style=\"display: none;\"><div style=\"display: table-cell;\"></div><div style=\"display: table-cell;\">js_property_callbacks&nbsp;=&nbsp;{},</div></div><div class=\"79420dce-5b3c-4938-a16e-bc92db879933\" style=\"display: none;\"><div style=\"display: table-cell;\"></div><div style=\"display: table-cell;\">level&nbsp;=&nbsp;'glyph',</div></div><div class=\"79420dce-5b3c-4938-a16e-bc92db879933\" style=\"display: none;\"><div style=\"display: table-cell;\"></div><div style=\"display: table-cell;\">muted&nbsp;=&nbsp;False,</div></div><div class=\"79420dce-5b3c-4938-a16e-bc92db879933\" style=\"display: none;\"><div style=\"display: table-cell;\"></div><div style=\"display: table-cell;\">muted_glyph&nbsp;=&nbsp;None,</div></div><div class=\"79420dce-5b3c-4938-a16e-bc92db879933\" style=\"display: none;\"><div style=\"display: table-cell;\"></div><div style=\"display: table-cell;\">name&nbsp;=&nbsp;None,</div></div><div class=\"79420dce-5b3c-4938-a16e-bc92db879933\" style=\"display: none;\"><div style=\"display: table-cell;\"></div><div style=\"display: table-cell;\">nonselection_glyph&nbsp;=&nbsp;Square(id='dafceec6-5073-4b66-8939-594777823ec6', ...),</div></div><div class=\"79420dce-5b3c-4938-a16e-bc92db879933\" style=\"display: none;\"><div style=\"display: table-cell;\"></div><div style=\"display: table-cell;\">selection_glyph&nbsp;=&nbsp;None,</div></div><div class=\"79420dce-5b3c-4938-a16e-bc92db879933\" style=\"display: none;\"><div style=\"display: table-cell;\"></div><div style=\"display: table-cell;\">subscribed_events&nbsp;=&nbsp;[],</div></div><div class=\"79420dce-5b3c-4938-a16e-bc92db879933\" style=\"display: none;\"><div style=\"display: table-cell;\"></div><div style=\"display: table-cell;\">tags&nbsp;=&nbsp;[],</div></div><div class=\"79420dce-5b3c-4938-a16e-bc92db879933\" style=\"display: none;\"><div style=\"display: table-cell;\"></div><div style=\"display: table-cell;\">visible&nbsp;=&nbsp;True,</div></div><div class=\"79420dce-5b3c-4938-a16e-bc92db879933\" style=\"display: none;\"><div style=\"display: table-cell;\"></div><div style=\"display: table-cell;\">x_range_name&nbsp;=&nbsp;'default',</div></div><div class=\"79420dce-5b3c-4938-a16e-bc92db879933\" style=\"display: none;\"><div style=\"display: table-cell;\"></div><div style=\"display: table-cell;\">y_range_name&nbsp;=&nbsp;'default')</div></div></div>\n",
       "<script>\n",
       "(function() {\n",
       "  var expanded = false;\n",
       "  var ellipsis = document.getElementById(\"c73b6831-bd2a-4cef-a2ed-9a1a42a80761\");\n",
       "  ellipsis.addEventListener(\"click\", function() {\n",
       "    var rows = document.getElementsByClassName(\"79420dce-5b3c-4938-a16e-bc92db879933\");\n",
       "    for (var i = 0; i < rows.length; i++) {\n",
       "      var el = rows[i];\n",
       "      el.style.display = expanded ? \"none\" : \"table-row\";\n",
       "    }\n",
       "    ellipsis.innerHTML = expanded ? \"&hellip;)\" : \"&lsaquo;&lsaquo;&lsaquo;\";\n",
       "    expanded = !expanded;\n",
       "  });\n",
       "})();\n",
       "</script>\n"
      ],
      "text/plain": [
       "GlyphRenderer(id='c37acdff-992d-4fe1-a0a4-edd182d036b5', ...)"
      ]
     },
     "execution_count": 7,
     "metadata": {},
     "output_type": "execute_result"
    }
   ],
   "source": [
    "# plot some points with square shape of size 20\n",
    "plot.square(x=[1, 2, 4, 8, 10], y=[6, 2, 18, 4, 9], size=20)"
   ]
  },
  {
   "cell_type": "code",
   "execution_count": 8,
   "metadata": {},
   "outputs": [
    {
     "data": {
      "text/html": [
       "\n",
       "\n",
       "    <div class=\"bk-root\">\n",
       "        <div class=\"bk-plotdiv\" id=\"8a8e0bae-3e69-4303-9366-df1cbf4fa80c\"></div>\n",
       "    </div>\n",
       "<script type=\"text/javascript\">\n",
       "  \n",
       "  (function(global) {\n",
       "    function now() {\n",
       "      return new Date();\n",
       "    }\n",
       "  \n",
       "    var force = false;\n",
       "  \n",
       "    if (typeof (window._bokeh_onload_callbacks) === \"undefined\" || force === true) {\n",
       "      window._bokeh_onload_callbacks = [];\n",
       "      window._bokeh_is_loading = undefined;\n",
       "    }\n",
       "  \n",
       "  \n",
       "    \n",
       "    if (typeof (window._bokeh_timeout) === \"undefined\" || force === true) {\n",
       "      window._bokeh_timeout = Date.now() + 0;\n",
       "      window._bokeh_failed_load = false;\n",
       "    }\n",
       "  \n",
       "    var NB_LOAD_WARNING = {'data': {'text/html':\n",
       "       \"<div style='background-color: #fdd'>\\n\"+\n",
       "       \"<p>\\n\"+\n",
       "       \"BokehJS does not appear to have successfully loaded. If loading BokehJS from CDN, this \\n\"+\n",
       "       \"may be due to a slow or bad network connection. Possible fixes:\\n\"+\n",
       "       \"</p>\\n\"+\n",
       "       \"<ul>\\n\"+\n",
       "       \"<li>re-rerun `output_notebook()` to attempt to load from CDN again, or</li>\\n\"+\n",
       "       \"<li>use INLINE resources instead, as so:</li>\\n\"+\n",
       "       \"</ul>\\n\"+\n",
       "       \"<code>\\n\"+\n",
       "       \"from bokeh.resources import INLINE\\n\"+\n",
       "       \"output_notebook(resources=INLINE)\\n\"+\n",
       "       \"</code>\\n\"+\n",
       "       \"</div>\"}};\n",
       "  \n",
       "    function display_loaded() {\n",
       "      if (window.Bokeh !== undefined) {\n",
       "        var el = document.getElementById(\"8a8e0bae-3e69-4303-9366-df1cbf4fa80c\");\n",
       "        el.textContent = \"BokehJS \" + Bokeh.version + \" successfully loaded.\";\n",
       "      } else if (Date.now() < window._bokeh_timeout) {\n",
       "        setTimeout(display_loaded, 100)\n",
       "      }\n",
       "    }\n",
       "  \n",
       "    function run_callbacks() {\n",
       "      try {\n",
       "        window._bokeh_onload_callbacks.forEach(function(callback) { callback() });\n",
       "      }\n",
       "      finally {\n",
       "        delete window._bokeh_onload_callbacks\n",
       "      }\n",
       "      console.info(\"Bokeh: all callbacks have finished\");\n",
       "    }\n",
       "  \n",
       "    function load_libs(js_urls, callback) {\n",
       "      window._bokeh_onload_callbacks.push(callback);\n",
       "      if (window._bokeh_is_loading > 0) {\n",
       "        console.log(\"Bokeh: BokehJS is being loaded, scheduling callback at\", now());\n",
       "        return null;\n",
       "      }\n",
       "      if (js_urls == null || js_urls.length === 0) {\n",
       "        run_callbacks();\n",
       "        return null;\n",
       "      }\n",
       "      console.log(\"Bokeh: BokehJS not loaded, scheduling load and callback at\", now());\n",
       "      window._bokeh_is_loading = js_urls.length;\n",
       "      for (var i = 0; i < js_urls.length; i++) {\n",
       "        var url = js_urls[i];\n",
       "        var s = document.createElement('script');\n",
       "        s.src = url;\n",
       "        s.async = false;\n",
       "        s.onreadystatechange = s.onload = function() {\n",
       "          window._bokeh_is_loading--;\n",
       "          if (window._bokeh_is_loading === 0) {\n",
       "            console.log(\"Bokeh: all BokehJS libraries loaded\");\n",
       "            run_callbacks()\n",
       "          }\n",
       "        };\n",
       "        s.onerror = function() {\n",
       "          console.warn(\"failed to load library \" + url);\n",
       "        };\n",
       "        console.log(\"Bokeh: injecting script tag for BokehJS library: \", url);\n",
       "        document.getElementsByTagName(\"head\")[0].appendChild(s);\n",
       "      }\n",
       "    };var element = document.getElementById(\"8a8e0bae-3e69-4303-9366-df1cbf4fa80c\");\n",
       "    if (element == null) {\n",
       "      console.log(\"Bokeh: ERROR: autoload.js configured with elementid '8a8e0bae-3e69-4303-9366-df1cbf4fa80c' but no matching script tag was found. \")\n",
       "      return false;\n",
       "    }\n",
       "  \n",
       "    var js_urls = [];\n",
       "  \n",
       "    var inline_js = [\n",
       "      function(Bokeh) {\n",
       "        (function() {\n",
       "          var fn = function() {\n",
       "            var docs_json = {\"1f9072ed-e664-4fd8-bc5f-530ddeb566e9\":{\"roots\":{\"references\":[{\"attributes\":{\"callback\":null},\"id\":\"e476647f-e0ad-43db-9ab4-d3c7d9fc17c5\",\"type\":\"DataRange1d\"},{\"attributes\":{\"below\":[{\"id\":\"9b5ddb44-a783-465c-a8b7-c9d2e71b3aa6\",\"type\":\"LinearAxis\"}],\"left\":[{\"id\":\"d967b226-03a0-40bb-83f5-59d2a5a3c336\",\"type\":\"LinearAxis\"}],\"renderers\":[{\"id\":\"9b5ddb44-a783-465c-a8b7-c9d2e71b3aa6\",\"type\":\"LinearAxis\"},{\"id\":\"32ae5441-0f3e-4941-b271-ccafe090cfd0\",\"type\":\"Grid\"},{\"id\":\"d967b226-03a0-40bb-83f5-59d2a5a3c336\",\"type\":\"LinearAxis\"},{\"id\":\"49aad579-aed7-4e72-87f1-123d40bef51b\",\"type\":\"Grid\"},{\"id\":\"33ecb374-4f69-4ed8-a970-e061d29dcd39\",\"type\":\"BoxAnnotation\"},{\"id\":\"c37acdff-992d-4fe1-a0a4-edd182d036b5\",\"type\":\"GlyphRenderer\"}],\"title\":{\"id\":\"c92d16d3-793b-498a-aa1f-134db661f885\",\"type\":\"Title\"},\"tool_events\":{\"id\":\"2b107131-b8b7-454e-8920-e0b3af7bceff\",\"type\":\"ToolEvents\"},\"toolbar\":{\"id\":\"7cc2502f-8606-4b52-be22-1e6e79d7269a\",\"type\":\"Toolbar\"},\"x_range\":{\"id\":\"e476647f-e0ad-43db-9ab4-d3c7d9fc17c5\",\"type\":\"DataRange1d\"},\"x_scale\":{\"id\":\"70eccd17-f9b2-46b7-8879-17fd58f4f07d\",\"type\":\"LinearScale\"},\"y_range\":{\"id\":\"613fb013-7916-48a4-b58a-111e2ad208c4\",\"type\":\"DataRange1d\"},\"y_scale\":{\"id\":\"ab7d70a3-d303-45d4-a1bb-19ec39146aae\",\"type\":\"LinearScale\"}},\"id\":\"242ea00e-6bbd-4a25-a9e6-b6a93ca15eb6\",\"subtype\":\"Figure\",\"type\":\"Plot\"},{\"attributes\":{\"plot\":null,\"text\":\"\"},\"id\":\"c92d16d3-793b-498a-aa1f-134db661f885\",\"type\":\"Title\"},{\"attributes\":{},\"id\":\"52fd8461-0053-4449-a375-2676e5b9c47f\",\"type\":\"BasicTickFormatter\"},{\"attributes\":{\"bottom_units\":\"screen\",\"fill_alpha\":{\"value\":0.5},\"fill_color\":{\"value\":\"lightgrey\"},\"left_units\":\"screen\",\"level\":\"overlay\",\"line_alpha\":{\"value\":1.0},\"line_color\":{\"value\":\"black\"},\"line_dash\":[4,4],\"line_width\":{\"value\":2},\"plot\":null,\"render_mode\":\"css\",\"right_units\":\"screen\",\"top_units\":\"screen\"},\"id\":\"33ecb374-4f69-4ed8-a970-e061d29dcd39\",\"type\":\"BoxAnnotation\"},{\"attributes\":{\"fill_alpha\":{\"value\":0.1},\"fill_color\":{\"value\":\"#1f77b4\"},\"line_alpha\":{\"value\":0.1},\"line_color\":{\"value\":\"#1f77b4\"},\"size\":{\"units\":\"screen\",\"value\":20},\"x\":{\"field\":\"x\"},\"y\":{\"field\":\"y\"}},\"id\":\"dafceec6-5073-4b66-8939-594777823ec6\",\"type\":\"Square\"},{\"attributes\":{\"active_drag\":\"auto\",\"active_inspect\":\"auto\",\"active_scroll\":\"auto\",\"active_tap\":\"auto\",\"tools\":[{\"id\":\"5e82bed0-997e-489c-86c4-188bf4702c91\",\"type\":\"PanTool\"},{\"id\":\"fb1b389c-6a2e-41a9-9c76-db3e42e7273a\",\"type\":\"BoxZoomTool\"},{\"id\":\"98c9713e-096a-44f7-8351-186a9cbe00f3\",\"type\":\"ResetTool\"}]},\"id\":\"7cc2502f-8606-4b52-be22-1e6e79d7269a\",\"type\":\"Toolbar\"},{\"attributes\":{},\"id\":\"66872017-dde6-47aa-8be1-2ada22d79bdd\",\"type\":\"BasicTickFormatter\"},{\"attributes\":{\"callback\":null,\"column_names\":[\"y\",\"x\"],\"data\":{\"x\":[1,2,4,8,10],\"y\":[6,2,18,4,9]}},\"id\":\"ea43f009-6343-41d6-a4e6-8332d3b2297a\",\"type\":\"ColumnDataSource\"},{\"attributes\":{\"overlay\":{\"id\":\"33ecb374-4f69-4ed8-a970-e061d29dcd39\",\"type\":\"BoxAnnotation\"},\"plot\":{\"id\":\"242ea00e-6bbd-4a25-a9e6-b6a93ca15eb6\",\"subtype\":\"Figure\",\"type\":\"Plot\"}},\"id\":\"fb1b389c-6a2e-41a9-9c76-db3e42e7273a\",\"type\":\"BoxZoomTool\"},{\"attributes\":{\"callback\":null},\"id\":\"613fb013-7916-48a4-b58a-111e2ad208c4\",\"type\":\"DataRange1d\"},{\"attributes\":{},\"id\":\"70eccd17-f9b2-46b7-8879-17fd58f4f07d\",\"type\":\"LinearScale\"},{\"attributes\":{},\"id\":\"2b107131-b8b7-454e-8920-e0b3af7bceff\",\"type\":\"ToolEvents\"},{\"attributes\":{\"formatter\":{\"id\":\"52fd8461-0053-4449-a375-2676e5b9c47f\",\"type\":\"BasicTickFormatter\"},\"plot\":{\"id\":\"242ea00e-6bbd-4a25-a9e6-b6a93ca15eb6\",\"subtype\":\"Figure\",\"type\":\"Plot\"},\"ticker\":{\"id\":\"cac2e87d-3fad-4b20-8c11-f54f77aca65e\",\"type\":\"BasicTicker\"}},\"id\":\"d967b226-03a0-40bb-83f5-59d2a5a3c336\",\"type\":\"LinearAxis\"},{\"attributes\":{\"formatter\":{\"id\":\"66872017-dde6-47aa-8be1-2ada22d79bdd\",\"type\":\"BasicTickFormatter\"},\"plot\":{\"id\":\"242ea00e-6bbd-4a25-a9e6-b6a93ca15eb6\",\"subtype\":\"Figure\",\"type\":\"Plot\"},\"ticker\":{\"id\":\"6e626ce4-2251-47ff-a095-07c8206925d7\",\"type\":\"BasicTicker\"}},\"id\":\"9b5ddb44-a783-465c-a8b7-c9d2e71b3aa6\",\"type\":\"LinearAxis\"},{\"attributes\":{},\"id\":\"ab7d70a3-d303-45d4-a1bb-19ec39146aae\",\"type\":\"LinearScale\"},{\"attributes\":{},\"id\":\"cac2e87d-3fad-4b20-8c11-f54f77aca65e\",\"type\":\"BasicTicker\"},{\"attributes\":{\"fill_color\":{\"value\":\"#1f77b4\"},\"line_color\":{\"value\":\"#1f77b4\"},\"size\":{\"units\":\"screen\",\"value\":20},\"x\":{\"field\":\"x\"},\"y\":{\"field\":\"y\"}},\"id\":\"231b9afe-0733-4989-a3e9-614243bc6e56\",\"type\":\"Square\"},{\"attributes\":{\"dimension\":1,\"plot\":{\"id\":\"242ea00e-6bbd-4a25-a9e6-b6a93ca15eb6\",\"subtype\":\"Figure\",\"type\":\"Plot\"},\"ticker\":{\"id\":\"cac2e87d-3fad-4b20-8c11-f54f77aca65e\",\"type\":\"BasicTicker\"}},\"id\":\"49aad579-aed7-4e72-87f1-123d40bef51b\",\"type\":\"Grid\"},{\"attributes\":{\"plot\":{\"id\":\"242ea00e-6bbd-4a25-a9e6-b6a93ca15eb6\",\"subtype\":\"Figure\",\"type\":\"Plot\"}},\"id\":\"5e82bed0-997e-489c-86c4-188bf4702c91\",\"type\":\"PanTool\"},{\"attributes\":{},\"id\":\"6e626ce4-2251-47ff-a095-07c8206925d7\",\"type\":\"BasicTicker\"},{\"attributes\":{\"plot\":{\"id\":\"242ea00e-6bbd-4a25-a9e6-b6a93ca15eb6\",\"subtype\":\"Figure\",\"type\":\"Plot\"}},\"id\":\"98c9713e-096a-44f7-8351-186a9cbe00f3\",\"type\":\"ResetTool\"},{\"attributes\":{\"data_source\":{\"id\":\"ea43f009-6343-41d6-a4e6-8332d3b2297a\",\"type\":\"ColumnDataSource\"},\"glyph\":{\"id\":\"231b9afe-0733-4989-a3e9-614243bc6e56\",\"type\":\"Square\"},\"hover_glyph\":null,\"muted_glyph\":null,\"nonselection_glyph\":{\"id\":\"dafceec6-5073-4b66-8939-594777823ec6\",\"type\":\"Square\"},\"selection_glyph\":null},\"id\":\"c37acdff-992d-4fe1-a0a4-edd182d036b5\",\"type\":\"GlyphRenderer\"},{\"attributes\":{\"plot\":{\"id\":\"242ea00e-6bbd-4a25-a9e6-b6a93ca15eb6\",\"subtype\":\"Figure\",\"type\":\"Plot\"},\"ticker\":{\"id\":\"6e626ce4-2251-47ff-a095-07c8206925d7\",\"type\":\"BasicTicker\"}},\"id\":\"32ae5441-0f3e-4941-b271-ccafe090cfd0\",\"type\":\"Grid\"}],\"root_ids\":[\"242ea00e-6bbd-4a25-a9e6-b6a93ca15eb6\"]},\"title\":\"Bokeh Application\",\"version\":\"0.12.6\"}};\n",
       "            var render_items = [{\"docid\":\"1f9072ed-e664-4fd8-bc5f-530ddeb566e9\",\"elementid\":\"8a8e0bae-3e69-4303-9366-df1cbf4fa80c\",\"modelid\":\"242ea00e-6bbd-4a25-a9e6-b6a93ca15eb6\"}];\n",
       "            \n",
       "            Bokeh.embed.embed_items(docs_json, render_items);\n",
       "          };\n",
       "          if (document.readyState != \"loading\") fn();\n",
       "          else document.addEventListener(\"DOMContentLoaded\", fn);\n",
       "        })();\n",
       "      },\n",
       "      function(Bokeh) {\n",
       "      }\n",
       "    ];\n",
       "  \n",
       "    function run_inline_js() {\n",
       "      \n",
       "      if ((window.Bokeh !== undefined) || (force === true)) {\n",
       "        for (var i = 0; i < inline_js.length; i++) {\n",
       "          inline_js[i](window.Bokeh);\n",
       "        }if (force === true) {\n",
       "          display_loaded();\n",
       "        }} else if (Date.now() < window._bokeh_timeout) {\n",
       "        setTimeout(run_inline_js, 100);\n",
       "      } else if (!window._bokeh_failed_load) {\n",
       "        console.log(\"Bokeh: BokehJS failed to load within specified timeout.\");\n",
       "        window._bokeh_failed_load = true;\n",
       "      } else if (force !== true) {\n",
       "        var cell = $(document.getElementById(\"8a8e0bae-3e69-4303-9366-df1cbf4fa80c\")).parents('.cell').data().cell;\n",
       "        cell.output_area.append_execute_result(NB_LOAD_WARNING)\n",
       "      }\n",
       "  \n",
       "    }\n",
       "  \n",
       "    if (window._bokeh_is_loading === 0) {\n",
       "      console.log(\"Bokeh: BokehJS loaded, going straight to plotting\");\n",
       "      run_inline_js();\n",
       "    } else {\n",
       "      load_libs(js_urls, function() {\n",
       "        console.log(\"Bokeh: BokehJS plotting callback run at\", now());\n",
       "        run_inline_js();\n",
       "      });\n",
       "    }\n",
       "  }(this));\n",
       "</script>"
      ]
     },
     "metadata": {},
     "output_type": "display_data"
    }
   ],
   "source": [
    "# call the show() method\n",
    "show(plot)"
   ]
  },
  {
   "cell_type": "code",
   "execution_count": null,
   "metadata": {
    "collapsed": true
   },
   "outputs": [],
   "source": [
    "!ls -lh"
   ]
  },
  {
   "cell_type": "code",
   "execution_count": null,
   "metadata": {
    "collapsed": true
   },
   "outputs": [],
   "source": []
  }
 ],
 "metadata": {
  "anaconda-cloud": {},
  "kernelspec": {
   "display_name": "Python [conda env:python]",
   "language": "python",
   "name": "conda-env-python-py"
  },
  "language_info": {
   "codemirror_mode": {
    "name": "ipython",
    "version": 2
   },
   "file_extension": ".py",
   "mimetype": "text/x-python",
   "name": "python",
   "nbconvert_exporter": "python",
   "pygments_lexer": "ipython2",
   "version": "2.7.13"
  }
 },
 "nbformat": 4,
 "nbformat_minor": 2
}
